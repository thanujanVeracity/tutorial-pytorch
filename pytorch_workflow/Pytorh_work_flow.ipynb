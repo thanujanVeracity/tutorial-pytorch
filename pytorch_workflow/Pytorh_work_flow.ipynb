{
  "nbformat": 4,
  "nbformat_minor": 0,
  "metadata": {
    "colab": {
      "provenance": [],
      "toc_visible": true
    },
    "kernelspec": {
      "name": "python3",
      "display_name": "Python 3"
    },
    "language_info": {
      "name": "python"
    }
  },
  "cells": [
    {
      "cell_type": "markdown",
      "source": [
        "# Work flow with PyTorch"
      ],
      "metadata": {
        "id": "T3UokoiUADD4"
      }
    },
    {
      "cell_type": "markdown",
      "source": [
        "1. Get data ready (turn into tensors)\n",
        "  * torch.vision.transforms\n",
        "  * torch,utils.data.Dataset\n",
        "  * torch.utils.data.DataLoader\n",
        "\n",
        "2. Build or pick a pretrained model\n",
        "  * pick a loss function and optimizer \n",
        "  * Build a training loop\n",
        "\n",
        "  * torch.nn\n",
        "  * torch.nn.Module\n",
        "  * torchvisoin.models\n",
        "  * torch.optim\n",
        "\n",
        "3. Fit the model to the data and make a prediction\n",
        "\n",
        "4. Evaluate the model\n",
        "  * torchmatrics\n",
        "\n",
        "5. improve through experimentation\n",
        "  * torch.utils.tensorboard\n",
        "\n",
        "6. Save and reload your trained model\n"
      ],
      "metadata": {
        "id": "7UO5iqp7-u-g"
      }
    },
    {
      "cell_type": "code",
      "execution_count": 1,
      "metadata": {
        "colab": {
          "base_uri": "https://localhost:8080/",
          "height": 35
        },
        "id": "6MZT1hb9b9ao",
        "outputId": "0b0cc885-f2ec-4cf2-9790-7009edd3d360"
      },
      "outputs": [
        {
          "output_type": "execute_result",
          "data": {
            "text/plain": [
              "'1.13.1+cu116'"
            ],
            "application/vnd.google.colaboratory.intrinsic+json": {
              "type": "string"
            }
          },
          "metadata": {},
          "execution_count": 1
        }
      ],
      "source": [
        "import torch\n",
        "from torch import nn\n",
        "import matplotlib.pyplot as plt\n",
        "\n",
        "torch.__version__"
      ]
    },
    {
      "cell_type": "markdown",
      "source": [
        "## 1. Data (preparing and loading)\n",
        "\n",
        "1. Get data into a numerical representaion\n",
        "\n",
        "2. Build a model to learn patterns in that numerical representation"
      ],
      "metadata": {
        "id": "aY6fMrcWcc8Y"
      }
    },
    {
      "cell_type": "code",
      "source": [
        "# create *known* parameters\n",
        "\n",
        "weight = 0.7\n",
        "bias = 0.3\n",
        "\n",
        "\n",
        "#create \n",
        "start = 0 \n",
        "end = 1\n",
        "step = 0.02\n",
        "X = torch.arange(start,end,step).unsqueeze(dim=1)\n",
        "y = weight * X + bias\n",
        "\n",
        "X[:10] , y[:10] "
      ],
      "metadata": {
        "colab": {
          "base_uri": "https://localhost:8080/"
        },
        "id": "Q35ec4ILcJhq",
        "outputId": "07fdab90-2232-456a-f373-349fde964712"
      },
      "execution_count": 2,
      "outputs": [
        {
          "output_type": "execute_result",
          "data": {
            "text/plain": [
              "(tensor([[0.0000],\n",
              "         [0.0200],\n",
              "         [0.0400],\n",
              "         [0.0600],\n",
              "         [0.0800],\n",
              "         [0.1000],\n",
              "         [0.1200],\n",
              "         [0.1400],\n",
              "         [0.1600],\n",
              "         [0.1800]]), tensor([[0.3000],\n",
              "         [0.3140],\n",
              "         [0.3280],\n",
              "         [0.3420],\n",
              "         [0.3560],\n",
              "         [0.3700],\n",
              "         [0.3840],\n",
              "         [0.3980],\n",
              "         [0.4120],\n",
              "         [0.4260]]))"
            ]
          },
          "metadata": {},
          "execution_count": 2
        }
      ]
    },
    {
      "cell_type": "code",
      "source": [
        "len(X), len(y)"
      ],
      "metadata": {
        "colab": {
          "base_uri": "https://localhost:8080/"
        },
        "id": "YzfFfYlFeCss",
        "outputId": "49dac0e2-7c11-4386-a747-8b7b416b6416"
      },
      "execution_count": 3,
      "outputs": [
        {
          "output_type": "execute_result",
          "data": {
            "text/plain": [
              "(50, 50)"
            ]
          },
          "metadata": {},
          "execution_count": 3
        }
      ]
    },
    {
      "cell_type": "markdown",
      "source": [
        "### Spliting data into training and testing data"
      ],
      "metadata": {
        "id": "BkpLe6Ufejzb"
      }
    },
    {
      "cell_type": "code",
      "source": [
        "# Create a train/test dataset\n",
        "\n",
        "train_split = int(0.8*len(X))\n",
        "\n",
        "X_train, y_train = X[:train_split] , y[:train_split]\n",
        "X_test, y_test = X[train_split:] , y[train_split:]\n",
        "\n",
        "len(X_train), len(y_train), len(X_test), len(y_test)"
      ],
      "metadata": {
        "colab": {
          "base_uri": "https://localhost:8080/"
        },
        "id": "9vlupd-CegLZ",
        "outputId": "4105df8f-d17e-4397-b4b6-56a1748f4641"
      },
      "execution_count": 4,
      "outputs": [
        {
          "output_type": "execute_result",
          "data": {
            "text/plain": [
              "(40, 40, 10, 10)"
            ]
          },
          "metadata": {},
          "execution_count": 4
        }
      ]
    },
    {
      "cell_type": "code",
      "source": [
        "from prompt_toolkit.widgets.base import Label\n",
        "def plot_predections(train_data = X_train,\n",
        "                     train_lables = y_train,\n",
        "                     test_data = X_test,\n",
        "                     test_lables = y_test,\n",
        "                     predictions = None):\n",
        "  \"\"\"\n",
        "  plots training data test data and compare predictions\n",
        "  \"\"\"\n",
        "\n",
        "  plt.figure(figsize = (10,7))\n",
        "\n",
        "  #plot training data in blue\n",
        "  plt.scatter(train_data,train_lables,c='b',s=4, Label=\"Training data\")\n",
        "\n",
        "  #plot testing data in green\n",
        "  plt.scatter(test_data,test_lables,c='g',s=4, Label=\"Testing data\")\n",
        "\n",
        "  #Are they predictions\n",
        "  if predictions is not None:\n",
        "    plt.scatter(test_data,predictions,c='r',s=4, Label=\"Predictions\")\n",
        "    \n",
        "  # show it legend\n",
        "  plt.legend(prop={\"size\":14})"
      ],
      "metadata": {
        "id": "sk8hwbybf2oQ"
      },
      "execution_count": 5,
      "outputs": []
    },
    {
      "cell_type": "code",
      "source": [
        "plot_predections()"
      ],
      "metadata": {
        "colab": {
          "base_uri": "https://localhost:8080/",
          "height": 428
        },
        "id": "6Acj1CcpigCn",
        "outputId": "0dc78b92-277b-4482-9f98-0f759a744917"
      },
      "execution_count": 6,
      "outputs": [
        {
          "output_type": "display_data",
          "data": {
            "text/plain": [
              "<Figure size 720x504 with 1 Axes>"
            ],
            "image/png": "[encoded data removed]"
          },
          "metadata": {
            "needs_background": "light"
          }
        }
      ]
    },
    {
      "cell_type": "markdown",
      "source": [
        "## 2. Build a Model\n",
        "\n",
        "* Start with random value (weight and bias)\n",
        "* Look at training data and adjust the random values to better represent the ideal values (the weight and bias values we used to create)\n",
        "\n",
        "\n",
        "How?\n",
        "1. Gradiant descent\n",
        "2. backpropagation"
      ],
      "metadata": {
        "id": "gcjwIhMfjB3z"
      }
    },
    {
      "cell_type": "code",
      "source": [
        "# assigned as Module attributes they are automatically added to the list of\n",
        "# its parameters, and will appear e.g. in ~Module.parameters iterator.\n",
        "# Assigning a Tensor doesn't have such effect. This is because one might\n",
        "# want to cache some temporary state, like last hidden state of the RNN, in\n",
        "# the model. If there was no such class as Parameter, these\n",
        "# temporaries would get registered too.\n",
        "\n",
        "class LinearRegressionModel(nn.Module):\n",
        "  def __init__(self):\n",
        "    super().__init__()\n",
        "    #One might want to cache some temporary state like last hidden state of RNN in the  model\n",
        "    self.weights = nn.Parameter(torch.randn(1, requires_grad = True, dtype = torch.float))\n",
        "    self.bias = nn.Parameter(torch.rand(1, requires_grad = True, dtype = torch.float))\n",
        "\n",
        "  # Forward method to define the computation in the model\n",
        "  def forward(self, x: torch.Tensor) -> torch.Tensor:\n",
        "    return self.weights * x + self.bias\n",
        "\n",
        "  "
      ],
      "metadata": {
        "id": "g_MexxO_ijs2"
      },
      "execution_count": 7,
      "outputs": []
    },
    {
      "cell_type": "markdown",
      "source": [
        "### Pytorch model building essentials\n",
        "\n",
        "* torch.nn contains all of the buildings for computational graph\n",
        "* torch.Parameters - What parameters should our model try and learn, often a PyTorch layer from torch.nn will set these for us\n",
        "* torch.nn.Module The base  class for all neural network Module. if you subclass it, you should overwrite  forward()\n",
        "* torch.optim - This where the optimizers in pytorch live, They will help with gradient descent\n",
        "* def forward()  All nn.module sublclasses require you to overwrite forward(), this methid defines what happens in the forward computation."
      ],
      "metadata": {
        "id": "7B4f6PZP8EoQ"
      }
    },
    {
      "cell_type": "markdown",
      "source": [
        "### Checking the contents of our PyTorch model\n",
        "\n",
        "We can check our model parameters or what's inside our model using .parameters()"
      ],
      "metadata": {
        "id": "XJEGSbJHALso"
      }
    },
    {
      "cell_type": "code",
      "source": [
        "# Create a random seed\n",
        "\n",
        "torch.manual_seed(42)\n",
        "\n",
        "\n",
        "# Create an instance of the model (this is a subclass of nn.module)\n",
        "\n",
        "model_0 = LinearRegressionModel()\n",
        "\n",
        "\n",
        "# Check out the parameters\n",
        "list(model_0.parameters())"
      ],
      "metadata": {
        "colab": {
          "base_uri": "https://localhost:8080/"
        },
        "id": "toXr93UY57GQ",
        "outputId": "5ea32d33-bf3a-44a2-9b16-3b486d3f160c"
      },
      "execution_count": 8,
      "outputs": [
        {
          "output_type": "execute_result",
          "data": {
            "text/plain": [
              "[Parameter containing:\n",
              " tensor([0.3367], requires_grad=True), Parameter containing:\n",
              " tensor([0.3904], requires_grad=True)]"
            ]
          },
          "metadata": {},
          "execution_count": 8
        }
      ]
    },
    {
      "cell_type": "code",
      "source": [
        "# List named oarameters\n",
        "model_0.state_dict()"
      ],
      "metadata": {
        "colab": {
          "base_uri": "https://localhost:8080/"
        },
        "id": "zlzvQUz-A2Vo",
        "outputId": "dfca10a3-dc65-4842-9cb5-c8ebe0d02d4e"
      },
      "execution_count": 9,
      "outputs": [
        {
          "output_type": "execute_result",
          "data": {
            "text/plain": [
              "OrderedDict([('weights', tensor([0.3367])), ('bias', tensor([0.3904]))])"
            ]
          },
          "metadata": {},
          "execution_count": 9
        }
      ]
    },
    {
      "cell_type": "code",
      "source": [
        "weight, bias"
      ],
      "metadata": {
        "colab": {
          "base_uri": "https://localhost:8080/"
        },
        "id": "rYkkkxYHCbq4",
        "outputId": "18e0b6df-f995-4322-95dd-176b07468471"
      },
      "execution_count": 10,
      "outputs": [
        {
          "output_type": "execute_result",
          "data": {
            "text/plain": [
              "(0.7, 0.3)"
            ]
          },
          "metadata": {},
          "execution_count": 10
        }
      ]
    },
    {
      "cell_type": "markdown",
      "source": [
        "### Making predections using `torch.inference_mode()`\n",
        "\n",
        "To check model's predict power let's see how well it predicts y_test based on X_test\n",
        "\n",
        "When we pass data through our model, it's going to run it through the forward() method\n"
      ],
      "metadata": {
        "id": "EaME2lIVDWOW"
      }
    },
    {
      "cell_type": "code",
      "source": [
        "# Maker predections with model\n",
        "with torch.inference_mode():\n",
        "  y_preds = model_0(X_test)\n",
        "\n",
        "y_preds"
      ],
      "metadata": {
        "colab": {
          "base_uri": "https://localhost:8080/"
        },
        "id": "_nyOggXICfQD",
        "outputId": "a3c80a6b-2915-47d4-e5b7-f559f1d3d841"
      },
      "execution_count": 11,
      "outputs": [
        {
          "output_type": "execute_result",
          "data": {
            "text/plain": [
              "tensor([[0.6598],\n",
              "        [0.6665],\n",
              "        [0.6733],\n",
              "        [0.6800],\n",
              "        [0.6867],\n",
              "        [0.6935],\n",
              "        [0.7002],\n",
              "        [0.7069],\n",
              "        [0.7137],\n",
              "        [0.7204]])"
            ]
          },
          "metadata": {},
          "execution_count": 11
        }
      ]
    },
    {
      "cell_type": "code",
      "source": [
        "plot_predections(predictions=y_preds)"
      ],
      "metadata": {
        "colab": {
          "base_uri": "https://localhost:8080/",
          "height": 428
        },
        "id": "imG8gp5TDyCx",
        "outputId": "feee4850-fd4e-43ed-a408-742be7578f8f"
      },
      "execution_count": 12,
      "outputs": [
        {
          "output_type": "display_data",
          "data": {
            "text/plain": [
              "<Figure size 720x504 with 1 Axes>"
            ],
            "image/png": "[encoded data removed]"
          },
          "metadata": {
            "needs_background": "light"
          }
        }
      ]
    },
    {
      "cell_type": "markdown",
      "source": [
        "## 3. Train model\n",
        "\n",
        "The whole idea of a training is for a model to move from some *unknown* parameters (these mayy be random) to some known paramters\n",
        "\n",
        "Or in other words from a poor representations of the data to a better representaions of the data.\n",
        "\n",
        "One way to measure how poor or how your models predictions are is to use a loss function.\n",
        "\n",
        "loss funtion / cost function / criterion\n",
        "\n",
        "\n",
        "Things we need to train:\n",
        "\n",
        "* Loss Function\n",
        "* Optimizer\n",
        "\n",
        "in pytroch : training and testing loop"
      ],
      "metadata": {
        "id": "yYUXIj58HtLa"
      }
    },
    {
      "cell_type": "code",
      "source": [
        "list(model_0.parameters())\n"
      ],
      "metadata": {
        "colab": {
          "base_uri": "https://localhost:8080/"
        },
        "id": "sANsP4zjEd_N",
        "outputId": "b9294a02-fe91-4b2d-d293-46b8a07ac5bf"
      },
      "execution_count": 13,
      "outputs": [
        {
          "output_type": "execute_result",
          "data": {
            "text/plain": [
              "[Parameter containing:\n",
              " tensor([0.3367], requires_grad=True), Parameter containing:\n",
              " tensor([0.3904], requires_grad=True)]"
            ]
          },
          "metadata": {},
          "execution_count": 13
        }
      ]
    },
    {
      "cell_type": "code",
      "source": [
        "model_0.state_dict()"
      ],
      "metadata": {
        "colab": {
          "base_uri": "https://localhost:8080/"
        },
        "id": "VlGPblg3KKN-",
        "outputId": "45bb406f-a506-43ef-9f94-84e64fe84e0c"
      },
      "execution_count": 14,
      "outputs": [
        {
          "output_type": "execute_result",
          "data": {
            "text/plain": [
              "OrderedDict([('weights', tensor([0.3367])), ('bias', tensor([0.3904]))])"
            ]
          },
          "metadata": {},
          "execution_count": 14
        }
      ]
    },
    {
      "cell_type": "code",
      "source": [
        "# setup a loss function\n",
        "loss_fn = nn.L1Loss()\n",
        "\n",
        "# setup an optimizer\n",
        "optimizer = torch.optim.SGD(params = model_0.parameters(), lr=0.01)"
      ],
      "metadata": {
        "id": "z3wEqqWWKl-G"
      },
      "execution_count": 15,
      "outputs": []
    },
    {
      "cell_type": "markdown",
      "source": [
        "### Building a training loop and a testing loop in pytorch.\n",
        "\n",
        "What we need ?\n",
        "\n",
        "1. loop through the data\n",
        "2. forward pass\n",
        "3. calculate the loss\n",
        "4. loss backward\n",
        "5. optimizer step"
      ],
      "metadata": {
        "id": "JT_xlsjzQAFU"
      }
    },
    {
      "cell_type": "code",
      "source": [
        "# An epoch is one loop through the data...\n",
        "\n",
        "epochs = 200\n",
        "\n",
        "epoch_count = []\n",
        "loss_values = []\n",
        "test_loss_values = []\n",
        "\n",
        "\n",
        "# 0.Loop through the data\n",
        "for epoch in range(epochs):\n",
        "  # set the model to training mode\n",
        "  model_0.train()\n",
        "\n",
        "  # Forward pass\n",
        "  y_pred = model_0(X_train)\n",
        "\n",
        "  # Loss function\n",
        "  loss = loss_fn(y_pred, y_train)\n",
        "  \n",
        "\n",
        "  # Optimizer zero grad\n",
        "  optimizer.zero_grad()\n",
        "\n",
        "  # Perform backpropation on the loss with respect to the parameters of the model\n",
        "  loss.backward()\n",
        "\n",
        "  # step the optimizer (perform gradiant descent)\n",
        "  optimizer.step() # by default how the optimizer changes will accumulate through the loop so.. we have to zero them above  backward()\n",
        "\n",
        "\n",
        "  # turn off gradient tracking\n",
        "  model_0.eval()\n",
        "\n",
        "  with torch.inference_mode():\n",
        "    test_pred = model_0(X_test)\n",
        "    test_loss = loss_fn(test_pred, y_test)\n",
        "\n",
        "\n",
        "\n",
        "  if(epoch % 10 == 0):\n",
        "    epoch_count.append(epoch)\n",
        "    loss_values.append(loss)\n",
        "    test_loss_values.append(test_loss)\n",
        "    print(f\"Epoch: {epoch} ] Loss: {loss} ] Test loss : {test_loss}\")\n"
      ],
      "metadata": {
        "colab": {
          "base_uri": "https://localhost:8080/"
        },
        "id": "wR67A9oqPFik",
        "outputId": "236b4247-4345-40c6-fa04-a82cc65496e7"
      },
      "execution_count": 16,
      "outputs": [
        {
          "output_type": "stream",
          "name": "stdout",
          "text": [
            "Epoch: 0 ] Loss: 0.08169572055339813 ] Test loss : 0.22662055492401123\n",
            "Epoch: 10 ] Loss: 0.06808149069547653 ] Test loss : 0.1807345449924469\n",
            "Epoch: 20 ] Loss: 0.06258393079042435 ] Test loss : 0.15627031028270721\n",
            "Epoch: 30 ] Loss: 0.05879194289445877 ] Test loss : 0.1418602615594864\n",
            "Epoch: 40 ] Loss: 0.05530194193124771 ] Test loss : 0.13084018230438232\n",
            "Epoch: 50 ] Loss: 0.051822252571582794 ] Test loss : 0.12050700187683105\n",
            "Epoch: 60 ] Loss: 0.04838593676686287 ] Test loss : 0.11223447322845459\n",
            "Epoch: 70 ] Loss: 0.044948760420084 ] Test loss : 0.10464880615472794\n",
            "Epoch: 80 ] Loss: 0.04152031987905502 ] Test loss : 0.09637625515460968\n",
            "Epoch: 90 ] Loss: 0.03808232396841049 ] Test loss : 0.08810374140739441\n",
            "Epoch: 100 ] Loss: 0.034646838903427124 ] Test loss : 0.08051808178424835\n",
            "Epoch: 110 ] Loss: 0.031217509880661964 ] Test loss : 0.0722455382347107\n",
            "Epoch: 120 ] Loss: 0.027778705582022667 ] Test loss : 0.06397300213575363\n",
            "Epoch: 130 ] Loss: 0.024344902485609055 ] Test loss : 0.05638733506202698\n",
            "Epoch: 140 ] Loss: 0.020913895219564438 ] Test loss : 0.04811479523777962\n",
            "Epoch: 150 ] Loss: 0.017475087195634842 ] Test loss : 0.03984225541353226\n",
            "Epoch: 160 ] Loss: 0.014042967930436134 ] Test loss : 0.0322565920650959\n",
            "Epoch: 170 ] Loss: 0.010610274039208889 ] Test loss : 0.02398405596613884\n",
            "Epoch: 180 ] Loss: 0.007171472068876028 ] Test loss : 0.015711510553956032\n",
            "Epoch: 190 ] Loss: 0.003741039428859949 ] Test loss : 0.008125847205519676\n"
          ]
        }
      ]
    },
    {
      "cell_type": "code",
      "source": [
        "with torch.no_grad():\n",
        "\n",
        "  plt.plot(epoch_count, loss_values, label=\"Train loss\")\n",
        "  plt.plot(epoch_count, test_loss_values, label=\"Test loss\")\n",
        "  plt.title(\"Loss curve\")\n",
        "  plt.ylabel(\"Loss\")\n",
        "  plt.xlabel(\"Epoch\")\n",
        "  plt.legend()"
      ],
      "metadata": {
        "colab": {
          "base_uri": "https://localhost:8080/",
          "height": 295
        },
        "id": "_1nmhuDtXA7o",
        "outputId": "63eacb59-a39a-492e-8d8d-4e5667be5104"
      },
      "execution_count": 17,
      "outputs": [
        {
          "output_type": "display_data",
          "data": {
            "text/plain": [
              "<Figure size 432x288 with 1 Axes>"
            ],
            "image/png": "[encoded data removed]"
          },
          "metadata": {
            "needs_background": "light"
          }
        }
      ]
    },
    {
      "cell_type": "code",
      "source": [
        "with torch.inference_mode():\n",
        "  y_preds_new = model_0(X_test)"
      ],
      "metadata": {
        "id": "1ynmci0ub9fm"
      },
      "execution_count": 18,
      "outputs": []
    },
    {
      "cell_type": "code",
      "source": [
        "plot_predections(predictions=y_preds_new)"
      ],
      "metadata": {
        "colab": {
          "base_uri": "https://localhost:8080/",
          "height": 428
        },
        "id": "7Sdha8-fdcqO",
        "outputId": "e8179006-0682-48e1-d4cd-e07ea951ec44"
      },
      "execution_count": 19,
      "outputs": [
        {
          "output_type": "display_data",
          "data": {
            "text/plain": [
              "<Figure size 720x504 with 1 Axes>"
            ],
            "image/png": "[encoded data removed]"
          },
          "metadata": {
            "needs_background": "light"
          }
        }
      ]
    },
    {
      "cell_type": "markdown",
      "source": [
        "## Saving a model in PyTorch\n",
        "\n",
        "There are three main methods you should acout for saving and loading in PyTorch\n",
        "\n",
        "* torch.save()\n",
        "* torch.load()\n",
        "* torch.nn.Module.load_state_dict()\n",
        "\n",
        "this use python pickle"
      ],
      "metadata": {
        "id": "n4n8uTcMmArC"
      }
    },
    {
      "cell_type": "code",
      "source": [
        "# Saving our PyTorch model\n",
        "\n",
        "from pathlib import Path\n",
        "\n",
        "# Create a model directory\n",
        "\n",
        "MODEL_PATH = Path(\"models\")\n",
        "MODEL_PATH.mkdir(parents=True, exist_ok=True)\n",
        "\n",
        "\n",
        "MODEL_NAME = \"pytorch_workflow_tutorial.pth\"\n",
        "MODEL_SAVE_PATH= MODEL_PATH/MODEL_NAME\n",
        "\n",
        "\n",
        "#Save the models state dict\n",
        "print(f\"Saving model to : {MODEL_SAVE_PATH}\")\n",
        "\n",
        "torch.save(obj = model_0.state_dict(), f = MODEL_SAVE_PATH)"
      ],
      "metadata": {
        "colab": {
          "base_uri": "https://localhost:8080/"
        },
        "id": "GBrKXveQdllB",
        "outputId": "437efa17-689c-4f8d-88ad-5fc474e10772"
      },
      "execution_count": 20,
      "outputs": [
        {
          "output_type": "stream",
          "name": "stdout",
          "text": [
            "Saving model to : models/pytorch_workflow_tutorial.pth\n"
          ]
        }
      ]
    },
    {
      "cell_type": "markdown",
      "source": [
        "### Loading a Pytorch model\n",
        "\n",
        "Since we saved a model's `state_dict()` rather the entore model, we'll create a new instance of our model class and load the saved `sate_model()` into that"
      ],
      "metadata": {
        "id": "VNUnS4Me0Vus"
      }
    },
    {
      "cell_type": "code",
      "source": [
        "# To load in a saved state_dict we have to instantiate a new instance of our model class\n",
        "loaded_model_0 = LinearRegressionModel()\n",
        "\n",
        "\n",
        "print(f\"Before loading state dict : {loaded_model_0.state_dict()}\")\n",
        "\n",
        "\n",
        "# Load the saved state_dict of model_0 (this will update the new instance with updated parameters)\n",
        "loaded_model_0.load_state_dict(torch.load(f=MODEL_SAVE_PATH))\n",
        "\n",
        "print(f\"After loading state dict : {loaded_model_0.state_dict()}\")\n",
        "\n"
      ],
      "metadata": {
        "colab": {
          "base_uri": "https://localhost:8080/"
        },
        "id": "ogl6G9W2pRYK",
        "outputId": "c115fd3e-bc13-4aab-c115-60d7f31bcd70"
      },
      "execution_count": 22,
      "outputs": [
        {
          "output_type": "stream",
          "name": "stdout",
          "text": [
            "Before loading state dict : OrderedDict([('weights', tensor([1.1561])), ('bias', tensor([0.9346]))])\n",
            "After loading state dict : OrderedDict([('weights', tensor([0.6962])), ('bias', tensor([0.3064]))])\n"
          ]
        }
      ]
    },
    {
      "cell_type": "code",
      "source": [
        "# Make some predictions with our loaded model\n",
        "loaded_model_0.eval()\n",
        "with torch.inference_mode():\n",
        "  y_preds_loaded = loaded_model_0(y_test)\n",
        "\n",
        "model_0.eval()\n",
        "with torch.inference_mode():\n",
        "  y_preds = model_0(y_test)\n",
        "\n",
        "y_preds_loaded == y_preds"
      ],
      "metadata": {
        "colab": {
          "base_uri": "https://localhost:8080/"
        },
        "id": "NIess10u1DYA",
        "outputId": "51138d5e-ba1f-468b-931a-32ba94c014ea"
      },
      "execution_count": 23,
      "outputs": [
        {
          "output_type": "execute_result",
          "data": {
            "text/plain": [
              "tensor([[True],\n",
              "        [True],\n",
              "        [True],\n",
              "        [True],\n",
              "        [True],\n",
              "        [True],\n",
              "        [True],\n",
              "        [True],\n",
              "        [True],\n",
              "        [True]])"
            ]
          },
          "metadata": {},
          "execution_count": 23
        }
      ]
    },
    {
      "cell_type": "markdown",
      "source": [
        "# 6. Putting it all together\n",
        "\n",
        "  Let's go back through the steps and see it all in one place"
      ],
      "metadata": {
        "id": "eIK2Qdch2Hr5"
      }
    },
    {
      "cell_type": "code",
      "source": [
        "# import torch and matplotlib\n",
        "\n",
        "import torch\n",
        "from torch import nn\n",
        "import matplotlib.pyplot as plt\n",
        "\n",
        "torch.__version__"
      ],
      "metadata": {
        "colab": {
          "base_uri": "https://localhost:8080/",
          "height": 35
        },
        "id": "qhcOgs2u2a5q",
        "outputId": "eb612f68-54c7-4f7d-8115-5a75ba22e960"
      },
      "execution_count": 27,
      "outputs": [
        {
          "output_type": "execute_result",
          "data": {
            "text/plain": [
              "'1.13.1+cu116'"
            ],
            "application/vnd.google.colaboratory.intrinsic+json": {
              "type": "string"
            }
          },
          "metadata": {},
          "execution_count": 27
        }
      ]
    },
    {
      "cell_type": "code",
      "source": [
        "device = 'cuda' if torch.cuda.is_available() else 'cpu'\n",
        "print(f\"Using device : {device}\")"
      ],
      "metadata": {
        "colab": {
          "base_uri": "https://localhost:8080/"
        },
        "id": "LlUYYNA82rli",
        "outputId": "6f31879b-1ec7-4026-8a01-98483951f6d1"
      },
      "execution_count": 28,
      "outputs": [
        {
          "output_type": "stream",
          "name": "stdout",
          "text": [
            "Using device : cpu\n"
          ]
        }
      ]
    },
    {
      "cell_type": "code",
      "source": [
        "!nvidia-smi"
      ],
      "metadata": {
        "colab": {
          "base_uri": "https://localhost:8080/"
        },
        "id": "camkpLpZ279j",
        "outputId": "c840980b-bb2a-4ee7-dbac-355a2ec2a636"
      },
      "execution_count": 29,
      "outputs": [
        {
          "output_type": "stream",
          "name": "stdout",
          "text": [
            "NVIDIA-SMI has failed because it couldn't communicate with the NVIDIA driver. Make sure that the latest NVIDIA driver is installed and running.\n",
            "\n"
          ]
        }
      ]
    },
    {
      "cell_type": "markdown",
      "source": [
        "1. Data \n",
        "\n"
      ],
      "metadata": {
        "id": "HbAXqmf43KoJ"
      }
    },
    {
      "cell_type": "markdown",
      "source": [
        "## 6.2. Building a Pytorch Linear Model"
      ],
      "metadata": {
        "id": "NN8Rslm55qsF"
      }
    },
    {
      "cell_type": "code",
      "source": [
        "class LinearRegressionModelV2(nn.Module):\n",
        "  def __init__(self):\n",
        "    super().__init__()\n",
        "    self.linear_layer = nn.Linear(in_features=1, out_features=1)\n",
        "\n",
        "  def forward(self, x:torch.Tensor) -> torch.Tensor:\n",
        "    return self.linear_layer(x)\n",
        "\n",
        "\n",
        "torch.manual_seed(42)\n",
        "\n",
        "model_1 = LinearRegressionModelV2()\n",
        "\n",
        "model_1, model_1.state_dict()\n"
      ],
      "metadata": {
        "colab": {
          "base_uri": "https://localhost:8080/"
        },
        "id": "im_PzHRF3Gs8",
        "outputId": "275f2838-dc1f-4811-c2ff-51ba1fb00ffc"
      },
      "execution_count": 35,
      "outputs": [
        {
          "output_type": "execute_result",
          "data": {
            "text/plain": [
              "(LinearRegressionModelV2(\n",
              "   (linear_layer): Linear(in_features=1, out_features=1, bias=True)\n",
              " ),\n",
              " OrderedDict([('linear_layer.weight', tensor([[0.7645]])),\n",
              "              ('linear_layer.bias', tensor([0.8300]))]))"
            ]
          },
          "metadata": {},
          "execution_count": 35
        }
      ]
    },
    {
      "cell_type": "code",
      "source": [
        "# Set the model to use the target device\n",
        "\n",
        "model_1.to(device)\n",
        "next(model_1.parameters()).device"
      ],
      "metadata": {
        "colab": {
          "base_uri": "https://localhost:8080/"
        },
        "id": "NVW4LaG54noF",
        "outputId": "acd99d37-c9c4-4815-af97-be2e02b857aa"
      },
      "execution_count": 36,
      "outputs": [
        {
          "output_type": "execute_result",
          "data": {
            "text/plain": [
              "device(type='cpu')"
            ]
          },
          "metadata": {},
          "execution_count": 36
        }
      ]
    },
    {
      "cell_type": "markdown",
      "source": [
        "## 6.3 Training\n",
        "\n",
        "what we need\n",
        "\n",
        "* Loss function\n",
        "* Optimizer\n",
        "* Training loop\n",
        "* Testing loop"
      ],
      "metadata": {
        "id": "pu6hlTdk6T_c"
      }
    },
    {
      "cell_type": "code",
      "source": [
        "loss_fn = nn.L1Loss()\n",
        "optimizer = torch.optim.SGD(params=model_1.parameters(), lr=0.01)"
      ],
      "metadata": {
        "id": "tCD1t7O_6EBL"
      },
      "execution_count": 39,
      "outputs": []
    },
    {
      "cell_type": "code",
      "source": [
        "# training Loop\n",
        "torch.manual_seed(42)\n",
        "\n",
        "epochs = 200\n",
        "\n",
        "# Put data in the same device\n",
        "X_train = X_train.to(device)\n",
        "X_test = X_test.to(device)\n",
        "y_train = y_train.to(device)\n",
        "y_test = y_test.to(device)\n",
        "\n",
        "\n",
        "for epoch in range(epochs):\n",
        "  model_1.train()\n",
        "\n",
        "  # 1. Forward Pass\n",
        "  y_pred = model_1(X_train)\n",
        "\n",
        "\n",
        "  # 2. Calculate the loss\n",
        "  loss = loss_fn(y_pred,y_train)\n",
        "\n",
        "  # 3. Optimizer zero grad\n",
        "  optimizer.zero_grad()\n",
        "\n",
        "  # 4. Perform back propogation\n",
        "  loss.backward()\n",
        "\n",
        "\n",
        "  # 5. update parameters\n",
        "  optimizer.step()\n",
        "\n",
        "  ### Testing\n",
        "\n",
        "  model_1.eval()\n",
        "  with torch.inference_mode():\n",
        "    test_pred = model_1(X_test)\n",
        "\n",
        "    test_loss = loss_fn(test_pred, y_test)\n",
        "\n",
        "  if epoch%10 == 0:\n",
        "     print(f\"Epoch: {epoch} Loss: {loss} Test Loss : {test_loss}\")"
      ],
      "metadata": {
        "colab": {
          "base_uri": "https://localhost:8080/"
        },
        "id": "RfONvKdt6R53",
        "outputId": "3dd28d42-cfa2-4663-8b3a-de5f76b64732"
      },
      "execution_count": 42,
      "outputs": [
        {
          "output_type": "stream",
          "name": "stdout",
          "text": [
            "Epoch: 0 Loss: 0.5436569452285767 Test Loss : 0.5605052709579468\n",
            "Epoch: 10 Loss: 0.42844706773757935 Test Loss : 0.42579537630081177\n",
            "Epoch: 20 Loss: 0.31323719024658203 Test Loss : 0.2910855710506439\n",
            "Epoch: 30 Loss: 0.1980273276567459 Test Loss : 0.1563757359981537\n",
            "Epoch: 40 Loss: 0.0828174576163292 Test Loss : 0.021665919572114944\n",
            "Epoch: 50 Loss: 0.023356426507234573 Test Loss : 0.048834484070539474\n",
            "Epoch: 60 Loss: 0.019609849900007248 Test Loss : 0.04538799077272415\n",
            "Epoch: 70 Loss: 0.01618141308426857 Test Loss : 0.03711546212434769\n",
            "Epoch: 80 Loss: 0.012742981314659119 Test Loss : 0.028842901811003685\n",
            "Epoch: 90 Loss: 0.0093079237267375 Test Loss : 0.02125726267695427\n",
            "Epoch: 100 Loss: 0.005878164432942867 Test Loss : 0.012984687462449074\n",
            "Epoch: 110 Loss: 0.002439356641843915 Test Loss : 0.004712158348411322\n",
            "Epoch: 120 Loss: 0.010256484150886536 Test Loss : 0.0003308236482553184\n",
            "Epoch: 130 Loss: 0.010256484150886536 Test Loss : 0.0003308236482553184\n",
            "Epoch: 140 Loss: 0.010256484150886536 Test Loss : 0.0003308236482553184\n",
            "Epoch: 150 Loss: 0.010256484150886536 Test Loss : 0.0003308236482553184\n",
            "Epoch: 160 Loss: 0.010256484150886536 Test Loss : 0.0003308236482553184\n",
            "Epoch: 170 Loss: 0.010256484150886536 Test Loss : 0.0003308236482553184\n",
            "Epoch: 180 Loss: 0.010256484150886536 Test Loss : 0.0003308236482553184\n",
            "Epoch: 190 Loss: 0.010256484150886536 Test Loss : 0.0003308236482553184\n"
          ]
        }
      ]
    },
    {
      "cell_type": "code",
      "source": [
        "model_1.state_dict()"
      ],
      "metadata": {
        "colab": {
          "base_uri": "https://localhost:8080/"
        },
        "id": "LHoS7GX18Poy",
        "outputId": "b25d8e64-4f8e-42f5-a08a-a351b3ff7864"
      },
      "execution_count": 43,
      "outputs": [
        {
          "output_type": "execute_result",
          "data": {
            "text/plain": [
              "OrderedDict([('linear_layer.weight', tensor([[0.6929]])),\n",
              "             ('linear_layer.bias', tensor([0.2925]))])"
            ]
          },
          "metadata": {},
          "execution_count": 43
        }
      ]
    },
    {
      "cell_type": "markdown",
      "source": [
        "## 6.4 Making and evaluating predictions"
      ],
      "metadata": {
        "id": "4FoaZUCr8zvj"
      }
    },
    {
      "cell_type": "code",
      "source": [
        "# Turn model into evaluation mode\n",
        "model_1.eval()\n",
        "\n",
        "# Make predictions on the test data\n",
        "with torch.inference_mode():\n",
        "  y_preds = model_1(X_test)"
      ],
      "metadata": {
        "id": "y9VtYWpY84bF"
      },
      "execution_count": 44,
      "outputs": []
    },
    {
      "cell_type": "code",
      "source": [
        "# Check out our redictions \n",
        "plot_predections(predictions=y_preds.cpu())"
      ],
      "metadata": {
        "colab": {
          "base_uri": "https://localhost:8080/",
          "height": 428
        },
        "id": "zHzYPXYV9GjN",
        "outputId": "4d65b090-0afe-4ff8-c1ce-d41b43fef6a0"
      },
      "execution_count": 47,
      "outputs": [
        {
          "output_type": "display_data",
          "data": {
            "text/plain": [
              "<Figure size 720x504 with 1 Axes>"
            ],
            "image/png": "[encoded data removed]"
          },
          "metadata": {
            "needs_background": "light"
          }
        }
      ]
    },
    {
      "cell_type": "markdown",
      "source": [
        "## 6.5 Saving and loading model"
      ],
      "metadata": {
        "id": "0B8MZvSE9hvC"
      }
    },
    {
      "cell_type": "code",
      "source": [
        "from pathlib import Path\n",
        "\n",
        "# 1. Create models directory\n",
        "MODEL_PATH = Path(\"models\")\n",
        "MODEL_PATH.mkdir(parents=True, exist_ok=True)\n",
        "\n",
        "# 2. Create model save path\n",
        "MODEL_NAME = \"pytorch_workflow_tutorial_model_v1.pth\"\n",
        "MODEL_SAVE_PATH = MODEL_PATH/MODEL_NAME\n",
        "\n",
        "#3.  Save the model state dict\n",
        "print(f\"Saving model to : {MODEL_SAVE_PATH}\")\n",
        "torch.save(obj=model_1.state_dict(), f=MODEL_SAVE_PATH)"
      ],
      "metadata": {
        "colab": {
          "base_uri": "https://localhost:8080/"
        },
        "id": "C22-Orzg9Wm4",
        "outputId": "f5fca38f-d1bf-4ba6-d014-c0413e644b33"
      },
      "execution_count": 51,
      "outputs": [
        {
          "output_type": "stream",
          "name": "stdout",
          "text": [
            "Saving model to : models/pytorch_workflow_tutorial_model_v1.pth\n"
          ]
        }
      ]
    },
    {
      "cell_type": "code",
      "source": [
        "# Load a Pytorch model\n",
        "loaded_model_1 = LinearRegressionModelV2()\n",
        "\n",
        "# Load the saved model_1 state _dict()\n",
        "loaded_model_1.load_state_dict(torch.load(MODEL_SAVE_PATH))\n",
        "\n",
        "# Put the loaded model to device\n",
        "loaded_model_1.to(device)"
      ],
      "metadata": {
        "colab": {
          "base_uri": "https://localhost:8080/"
        },
        "id": "RL5MNr---Tzq",
        "outputId": "3af55515-3c8c-4671-b020-10578c4d1e94"
      },
      "execution_count": 53,
      "outputs": [
        {
          "output_type": "execute_result",
          "data": {
            "text/plain": [
              "LinearRegressionModelV2(\n",
              "  (linear_layer): Linear(in_features=1, out_features=1, bias=True)\n",
              ")"
            ]
          },
          "metadata": {},
          "execution_count": 53
        }
      ]
    },
    {
      "cell_type": "code",
      "source": [
        "# Evaluate loaded model\n",
        "loaded_model_1.eval()\n",
        "with torch.inference_mode():\n",
        "  loaded_model_1_preds = loaded_model_1(X_test)\n",
        "y_preds == loaded_model_1_preds"
      ],
      "metadata": {
        "colab": {
          "base_uri": "https://localhost:8080/"
        },
        "id": "DNx_PWlg_WKC",
        "outputId": "3a505081-b6f7-47ea-a0da-dcc92a71e5a8"
      },
      "execution_count": 54,
      "outputs": [
        {
          "output_type": "execute_result",
          "data": {
            "text/plain": [
              "tensor([[True],\n",
              "        [True],\n",
              "        [True],\n",
              "        [True],\n",
              "        [True],\n",
              "        [True],\n",
              "        [True],\n",
              "        [True],\n",
              "        [True],\n",
              "        [True]])"
            ]
          },
          "metadata": {},
          "execution_count": 54
        }
      ]
    }
  ]
}