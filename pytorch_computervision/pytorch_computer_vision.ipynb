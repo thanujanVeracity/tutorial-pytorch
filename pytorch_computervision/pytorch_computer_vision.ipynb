{
  "nbformat": 4,
  "nbformat_minor": 0,
  "metadata": {
    "colab": {
      "provenance": [],
      "toc_visible": true
    },
    "kernelspec": {
      "name": "python3",
      "display_name": "Python 3"
    },
    "language_info": {
      "name": "python"
    },
    "widgets": {
      "application/vnd.jupyter.widget-state+json": {
        "6728b8d928444b3785e1e6856eeb24aa": {
          "model_module": "@jupyter-widgets/controls",
          "model_name": "HBoxModel",
          "model_module_version": "1.5.0",
          "state": {
            "_dom_classes": [],
            "_model_module": "@jupyter-widgets/controls",
            "_model_module_version": "1.5.0",
            "_model_name": "HBoxModel",
            "_view_count": null,
            "_view_module": "@jupyter-widgets/controls",
            "_view_module_version": "1.5.0",
            "_view_name": "HBoxView",
            "box_style": "",
            "children": [
              "IPY_MODEL_b9dce18209b348d09fad2f00abb01f5a",
              "IPY_MODEL_5f446d013eeb4fdfa2ab83bc2db3ab95",
              "IPY_MODEL_d54eb9e3b88c4598bef733cdc436f291"
            ],
            "layout": "IPY_MODEL_a74ac08db5c348c98520d740efc772da"
          }
        },
        "b9dce18209b348d09fad2f00abb01f5a": {
          "model_module": "@jupyter-widgets/controls",
          "model_name": "HTMLModel",
          "model_module_version": "1.5.0",
          "state": {
            "_dom_classes": [],
            "_model_module": "@jupyter-widgets/controls",
            "_model_module_version": "1.5.0",
            "_model_name": "HTMLModel",
            "_view_count": null,
            "_view_module": "@jupyter-widgets/controls",
            "_view_module_version": "1.5.0",
            "_view_name": "HTMLView",
            "description": "",
            "description_tooltip": null,
            "layout": "IPY_MODEL_43804236cfd24263bd84426f14b71768",
            "placeholder": "​",
            "style": "IPY_MODEL_5d6abc51fa3d425ba95e85b4cce658f2",
            "value": "100%"
          }
        },
        "5f446d013eeb4fdfa2ab83bc2db3ab95": {
          "model_module": "@jupyter-widgets/controls",
          "model_name": "FloatProgressModel",
          "model_module_version": "1.5.0",
          "state": {
            "_dom_classes": [],
            "_model_module": "@jupyter-widgets/controls",
            "_model_module_version": "1.5.0",
            "_model_name": "FloatProgressModel",
            "_view_count": null,
            "_view_module": "@jupyter-widgets/controls",
            "_view_module_version": "1.5.0",
            "_view_name": "ProgressView",
            "bar_style": "success",
            "description": "",
            "description_tooltip": null,
            "layout": "IPY_MODEL_4a6e0f48b5b4437bad78cfd8550f7db0",
            "max": 3,
            "min": 0,
            "orientation": "horizontal",
            "style": "IPY_MODEL_529ef09fe6474b5ca4bfeb444fc91d73",
            "value": 3
          }
        },
        "d54eb9e3b88c4598bef733cdc436f291": {
          "model_module": "@jupyter-widgets/controls",
          "model_name": "HTMLModel",
          "model_module_version": "1.5.0",
          "state": {
            "_dom_classes": [],
            "_model_module": "@jupyter-widgets/controls",
            "_model_module_version": "1.5.0",
            "_model_name": "HTMLModel",
            "_view_count": null,
            "_view_module": "@jupyter-widgets/controls",
            "_view_module_version": "1.5.0",
            "_view_name": "HTMLView",
            "description": "",
            "description_tooltip": null,
            "layout": "IPY_MODEL_b0ee3591aaa2453a8f7e84790afa8ec2",
            "placeholder": "​",
            "style": "IPY_MODEL_dee9c0c89f224a498f79740680469605",
            "value": " 3/3 [00:30&lt;00:00, 10.45s/it]"
          }
        },
        "a74ac08db5c348c98520d740efc772da": {
          "model_module": "@jupyter-widgets/base",
          "model_name": "LayoutModel",
          "model_module_version": "1.2.0",
          "state": {
            "_model_module": "@jupyter-widgets/base",
            "_model_module_version": "1.2.0",
            "_model_name": "LayoutModel",
            "_view_count": null,
            "_view_module": "@jupyter-widgets/base",
            "_view_module_version": "1.2.0",
            "_view_name": "LayoutView",
            "align_content": null,
            "align_items": null,
            "align_self": null,
            "border": null,
            "bottom": null,
            "display": null,
            "flex": null,
            "flex_flow": null,
            "grid_area": null,
            "grid_auto_columns": null,
            "grid_auto_flow": null,
            "grid_auto_rows": null,
            "grid_column": null,
            "grid_gap": null,
            "grid_row": null,
            "grid_template_areas": null,
            "grid_template_columns": null,
            "grid_template_rows": null,
            "height": null,
            "justify_content": null,
            "justify_items": null,
            "left": null,
            "margin": null,
            "max_height": null,
            "max_width": null,
            "min_height": null,
            "min_width": null,
            "object_fit": null,
            "object_position": null,
            "order": null,
            "overflow": null,
            "overflow_x": null,
            "overflow_y": null,
            "padding": null,
            "right": null,
            "top": null,
            "visibility": null,
            "width": null
          }
        },
        "43804236cfd24263bd84426f14b71768": {
          "model_module": "@jupyter-widgets/base",
          "model_name": "LayoutModel",
          "model_module_version": "1.2.0",
          "state": {
            "_model_module": "@jupyter-widgets/base",
            "_model_module_version": "1.2.0",
            "_model_name": "LayoutModel",
            "_view_count": null,
            "_view_module": "@jupyter-widgets/base",
            "_view_module_version": "1.2.0",
            "_view_name": "LayoutView",
            "align_content": null,
            "align_items": null,
            "align_self": null,
            "border": null,
            "bottom": null,
            "display": null,
            "flex": null,
            "flex_flow": null,
            "grid_area": null,
            "grid_auto_columns": null,
            "grid_auto_flow": null,
            "grid_auto_rows": null,
            "grid_column": null,
            "grid_gap": null,
            "grid_row": null,
            "grid_template_areas": null,
            "grid_template_columns": null,
            "grid_template_rows": null,
            "height": null,
            "justify_content": null,
            "justify_items": null,
            "left": null,
            "margin": null,
            "max_height": null,
            "max_width": null,
            "min_height": null,
            "min_width": null,
            "object_fit": null,
            "object_position": null,
            "order": null,
            "overflow": null,
            "overflow_x": null,
            "overflow_y": null,
            "padding": null,
            "right": null,
            "top": null,
            "visibility": null,
            "width": null
          }
        },
        "5d6abc51fa3d425ba95e85b4cce658f2": {
          "model_module": "@jupyter-widgets/controls",
          "model_name": "DescriptionStyleModel",
          "model_module_version": "1.5.0",
          "state": {
            "_model_module": "@jupyter-widgets/controls",
            "_model_module_version": "1.5.0",
            "_model_name": "DescriptionStyleModel",
            "_view_count": null,
            "_view_module": "@jupyter-widgets/base",
            "_view_module_version": "1.2.0",
            "_view_name": "StyleView",
            "description_width": ""
          }
        },
        "4a6e0f48b5b4437bad78cfd8550f7db0": {
          "model_module": "@jupyter-widgets/base",
          "model_name": "LayoutModel",
          "model_module_version": "1.2.0",
          "state": {
            "_model_module": "@jupyter-widgets/base",
            "_model_module_version": "1.2.0",
            "_model_name": "LayoutModel",
            "_view_count": null,
            "_view_module": "@jupyter-widgets/base",
            "_view_module_version": "1.2.0",
            "_view_name": "LayoutView",
            "align_content": null,
            "align_items": null,
            "align_self": null,
            "border": null,
            "bottom": null,
            "display": null,
            "flex": null,
            "flex_flow": null,
            "grid_area": null,
            "grid_auto_columns": null,
            "grid_auto_flow": null,
            "grid_auto_rows": null,
            "grid_column": null,
            "grid_gap": null,
            "grid_row": null,
            "grid_template_areas": null,
            "grid_template_columns": null,
            "grid_template_rows": null,
            "height": null,
            "justify_content": null,
            "justify_items": null,
            "left": null,
            "margin": null,
            "max_height": null,
            "max_width": null,
            "min_height": null,
            "min_width": null,
            "object_fit": null,
            "object_position": null,
            "order": null,
            "overflow": null,
            "overflow_x": null,
            "overflow_y": null,
            "padding": null,
            "right": null,
            "top": null,
            "visibility": null,
            "width": null
          }
        },
        "529ef09fe6474b5ca4bfeb444fc91d73": {
          "model_module": "@jupyter-widgets/controls",
          "model_name": "ProgressStyleModel",
          "model_module_version": "1.5.0",
          "state": {
            "_model_module": "@jupyter-widgets/controls",
            "_model_module_version": "1.5.0",
            "_model_name": "ProgressStyleModel",
            "_view_count": null,
            "_view_module": "@jupyter-widgets/base",
            "_view_module_version": "1.2.0",
            "_view_name": "StyleView",
            "bar_color": null,
            "description_width": ""
          }
        },
        "b0ee3591aaa2453a8f7e84790afa8ec2": {
          "model_module": "@jupyter-widgets/base",
          "model_name": "LayoutModel",
          "model_module_version": "1.2.0",
          "state": {
            "_model_module": "@jupyter-widgets/base",
            "_model_module_version": "1.2.0",
            "_model_name": "LayoutModel",
            "_view_count": null,
            "_view_module": "@jupyter-widgets/base",
            "_view_module_version": "1.2.0",
            "_view_name": "LayoutView",
            "align_content": null,
            "align_items": null,
            "align_self": null,
            "border": null,
            "bottom": null,
            "display": null,
            "flex": null,
            "flex_flow": null,
            "grid_area": null,
            "grid_auto_columns": null,
            "grid_auto_flow": null,
            "grid_auto_rows": null,
            "grid_column": null,
            "grid_gap": null,
            "grid_row": null,
            "grid_template_areas": null,
            "grid_template_columns": null,
            "grid_template_rows": null,
            "height": null,
            "justify_content": null,
            "justify_items": null,
            "left": null,
            "margin": null,
            "max_height": null,
            "max_width": null,
            "min_height": null,
            "min_width": null,
            "object_fit": null,
            "object_position": null,
            "order": null,
            "overflow": null,
            "overflow_x": null,
            "overflow_y": null,
            "padding": null,
            "right": null,
            "top": null,
            "visibility": null,
            "width": null
          }
        },
        "dee9c0c89f224a498f79740680469605": {
          "model_module": "@jupyter-widgets/controls",
          "model_name": "DescriptionStyleModel",
          "model_module_version": "1.5.0",
          "state": {
            "_model_module": "@jupyter-widgets/controls",
            "_model_module_version": "1.5.0",
            "_model_name": "DescriptionStyleModel",
            "_view_count": null,
            "_view_module": "@jupyter-widgets/base",
            "_view_module_version": "1.2.0",
            "_view_name": "StyleView",
            "description_width": ""
          }
        },
        "ec27aa2086864716b1f8d1c3d3b79fb0": {
          "model_module": "@jupyter-widgets/controls",
          "model_name": "HBoxModel",
          "model_module_version": "1.5.0",
          "state": {
            "_dom_classes": [],
            "_model_module": "@jupyter-widgets/controls",
            "_model_module_version": "1.5.0",
            "_model_name": "HBoxModel",
            "_view_count": null,
            "_view_module": "@jupyter-widgets/controls",
            "_view_module_version": "1.5.0",
            "_view_name": "HBoxView",
            "box_style": "",
            "children": [
              "IPY_MODEL_6f5ef551689b4acaaedb4c1adb222a6d",
              "IPY_MODEL_11c7415fa32e4572925490b97a39de49",
              "IPY_MODEL_23997f31bd4a4ef4b54d691064ddd745"
            ],
            "layout": "IPY_MODEL_169aed0894a8490fba089d660f901483"
          }
        },
        "6f5ef551689b4acaaedb4c1adb222a6d": {
          "model_module": "@jupyter-widgets/controls",
          "model_name": "HTMLModel",
          "model_module_version": "1.5.0",
          "state": {
            "_dom_classes": [],
            "_model_module": "@jupyter-widgets/controls",
            "_model_module_version": "1.5.0",
            "_model_name": "HTMLModel",
            "_view_count": null,
            "_view_module": "@jupyter-widgets/controls",
            "_view_module_version": "1.5.0",
            "_view_name": "HTMLView",
            "description": "",
            "description_tooltip": null,
            "layout": "IPY_MODEL_2067e9e0839f4facba309243e3bde238",
            "placeholder": "​",
            "style": "IPY_MODEL_2f1c85ebbe9b4c8fbcaf7764c9a2246b",
            "value": "100%"
          }
        },
        "11c7415fa32e4572925490b97a39de49": {
          "model_module": "@jupyter-widgets/controls",
          "model_name": "FloatProgressModel",
          "model_module_version": "1.5.0",
          "state": {
            "_dom_classes": [],
            "_model_module": "@jupyter-widgets/controls",
            "_model_module_version": "1.5.0",
            "_model_name": "FloatProgressModel",
            "_view_count": null,
            "_view_module": "@jupyter-widgets/controls",
            "_view_module_version": "1.5.0",
            "_view_name": "ProgressView",
            "bar_style": "success",
            "description": "",
            "description_tooltip": null,
            "layout": "IPY_MODEL_0c7cf1f5302c47a89605584b9a25e23d",
            "max": 3,
            "min": 0,
            "orientation": "horizontal",
            "style": "IPY_MODEL_7043edfa216b4f9eba46e795390b83d2",
            "value": 3
          }
        },
        "23997f31bd4a4ef4b54d691064ddd745": {
          "model_module": "@jupyter-widgets/controls",
          "model_name": "HTMLModel",
          "model_module_version": "1.5.0",
          "state": {
            "_dom_classes": [],
            "_model_module": "@jupyter-widgets/controls",
            "_model_module_version": "1.5.0",
            "_model_name": "HTMLModel",
            "_view_count": null,
            "_view_module": "@jupyter-widgets/controls",
            "_view_module_version": "1.5.0",
            "_view_name": "HTMLView",
            "description": "",
            "description_tooltip": null,
            "layout": "IPY_MODEL_22f5ac74ea6c4607864439f37e587850",
            "placeholder": "​",
            "style": "IPY_MODEL_9277ee6067b54ad0ae744ce14ebcbff3",
            "value": " 3/3 [00:48&lt;00:00, 15.53s/it]"
          }
        },
        "169aed0894a8490fba089d660f901483": {
          "model_module": "@jupyter-widgets/base",
          "model_name": "LayoutModel",
          "model_module_version": "1.2.0",
          "state": {
            "_model_module": "@jupyter-widgets/base",
            "_model_module_version": "1.2.0",
            "_model_name": "LayoutModel",
            "_view_count": null,
            "_view_module": "@jupyter-widgets/base",
            "_view_module_version": "1.2.0",
            "_view_name": "LayoutView",
            "align_content": null,
            "align_items": null,
            "align_self": null,
            "border": null,
            "bottom": null,
            "display": null,
            "flex": null,
            "flex_flow": null,
            "grid_area": null,
            "grid_auto_columns": null,
            "grid_auto_flow": null,
            "grid_auto_rows": null,
            "grid_column": null,
            "grid_gap": null,
            "grid_row": null,
            "grid_template_areas": null,
            "grid_template_columns": null,
            "grid_template_rows": null,
            "height": null,
            "justify_content": null,
            "justify_items": null,
            "left": null,
            "margin": null,
            "max_height": null,
            "max_width": null,
            "min_height": null,
            "min_width": null,
            "object_fit": null,
            "object_position": null,
            "order": null,
            "overflow": null,
            "overflow_x": null,
            "overflow_y": null,
            "padding": null,
            "right": null,
            "top": null,
            "visibility": null,
            "width": null
          }
        },
        "2067e9e0839f4facba309243e3bde238": {
          "model_module": "@jupyter-widgets/base",
          "model_name": "LayoutModel",
          "model_module_version": "1.2.0",
          "state": {
            "_model_module": "@jupyter-widgets/base",
            "_model_module_version": "1.2.0",
            "_model_name": "LayoutModel",
            "_view_count": null,
            "_view_module": "@jupyter-widgets/base",
            "_view_module_version": "1.2.0",
            "_view_name": "LayoutView",
            "align_content": null,
            "align_items": null,
            "align_self": null,
            "border": null,
            "bottom": null,
            "display": null,
            "flex": null,
            "flex_flow": null,
            "grid_area": null,
            "grid_auto_columns": null,
            "grid_auto_flow": null,
            "grid_auto_rows": null,
            "grid_column": null,
            "grid_gap": null,
            "grid_row": null,
            "grid_template_areas": null,
            "grid_template_columns": null,
            "grid_template_rows": null,
            "height": null,
            "justify_content": null,
            "justify_items": null,
            "left": null,
            "margin": null,
            "max_height": null,
            "max_width": null,
            "min_height": null,
            "min_width": null,
            "object_fit": null,
            "object_position": null,
            "order": null,
            "overflow": null,
            "overflow_x": null,
            "overflow_y": null,
            "padding": null,
            "right": null,
            "top": null,
            "visibility": null,
            "width": null
          }
        },
        "2f1c85ebbe9b4c8fbcaf7764c9a2246b": {
          "model_module": "@jupyter-widgets/controls",
          "model_name": "DescriptionStyleModel",
          "model_module_version": "1.5.0",
          "state": {
            "_model_module": "@jupyter-widgets/controls",
            "_model_module_version": "1.5.0",
            "_model_name": "DescriptionStyleModel",
            "_view_count": null,
            "_view_module": "@jupyter-widgets/base",
            "_view_module_version": "1.2.0",
            "_view_name": "StyleView",
            "description_width": ""
          }
        },
        "0c7cf1f5302c47a89605584b9a25e23d": {
          "model_module": "@jupyter-widgets/base",
          "model_name": "LayoutModel",
          "model_module_version": "1.2.0",
          "state": {
            "_model_module": "@jupyter-widgets/base",
            "_model_module_version": "1.2.0",
            "_model_name": "LayoutModel",
            "_view_count": null,
            "_view_module": "@jupyter-widgets/base",
            "_view_module_version": "1.2.0",
            "_view_name": "LayoutView",
            "align_content": null,
            "align_items": null,
            "align_self": null,
            "border": null,
            "bottom": null,
            "display": null,
            "flex": null,
            "flex_flow": null,
            "grid_area": null,
            "grid_auto_columns": null,
            "grid_auto_flow": null,
            "grid_auto_rows": null,
            "grid_column": null,
            "grid_gap": null,
            "grid_row": null,
            "grid_template_areas": null,
            "grid_template_columns": null,
            "grid_template_rows": null,
            "height": null,
            "justify_content": null,
            "justify_items": null,
            "left": null,
            "margin": null,
            "max_height": null,
            "max_width": null,
            "min_height": null,
            "min_width": null,
            "object_fit": null,
            "object_position": null,
            "order": null,
            "overflow": null,
            "overflow_x": null,
            "overflow_y": null,
            "padding": null,
            "right": null,
            "top": null,
            "visibility": null,
            "width": null
          }
        },
        "7043edfa216b4f9eba46e795390b83d2": {
          "model_module": "@jupyter-widgets/controls",
          "model_name": "ProgressStyleModel",
          "model_module_version": "1.5.0",
          "state": {
            "_model_module": "@jupyter-widgets/controls",
            "_model_module_version": "1.5.0",
            "_model_name": "ProgressStyleModel",
            "_view_count": null,
            "_view_module": "@jupyter-widgets/base",
            "_view_module_version": "1.2.0",
            "_view_name": "StyleView",
            "bar_color": null,
            "description_width": ""
          }
        },
        "22f5ac74ea6c4607864439f37e587850": {
          "model_module": "@jupyter-widgets/base",
          "model_name": "LayoutModel",
          "model_module_version": "1.2.0",
          "state": {
            "_model_module": "@jupyter-widgets/base",
            "_model_module_version": "1.2.0",
            "_model_name": "LayoutModel",
            "_view_count": null,
            "_view_module": "@jupyter-widgets/base",
            "_view_module_version": "1.2.0",
            "_view_name": "LayoutView",
            "align_content": null,
            "align_items": null,
            "align_self": null,
            "border": null,
            "bottom": null,
            "display": null,
            "flex": null,
            "flex_flow": null,
            "grid_area": null,
            "grid_auto_columns": null,
            "grid_auto_flow": null,
            "grid_auto_rows": null,
            "grid_column": null,
            "grid_gap": null,
            "grid_row": null,
            "grid_template_areas": null,
            "grid_template_columns": null,
            "grid_template_rows": null,
            "height": null,
            "justify_content": null,
            "justify_items": null,
            "left": null,
            "margin": null,
            "max_height": null,
            "max_width": null,
            "min_height": null,
            "min_width": null,
            "object_fit": null,
            "object_position": null,
            "order": null,
            "overflow": null,
            "overflow_x": null,
            "overflow_y": null,
            "padding": null,
            "right": null,
            "top": null,
            "visibility": null,
            "width": null
          }
        },
        "9277ee6067b54ad0ae744ce14ebcbff3": {
          "model_module": "@jupyter-widgets/controls",
          "model_name": "DescriptionStyleModel",
          "model_module_version": "1.5.0",
          "state": {
            "_model_module": "@jupyter-widgets/controls",
            "_model_module_version": "1.5.0",
            "_model_name": "DescriptionStyleModel",
            "_view_count": null,
            "_view_module": "@jupyter-widgets/base",
            "_view_module_version": "1.2.0",
            "_view_name": "StyleView",
            "description_width": ""
          }
        },
        "caef5f6dc7874f25bc125afd6eb0a380": {
          "model_module": "@jupyter-widgets/controls",
          "model_name": "HBoxModel",
          "model_module_version": "1.5.0",
          "state": {
            "_dom_classes": [],
            "_model_module": "@jupyter-widgets/controls",
            "_model_module_version": "1.5.0",
            "_model_name": "HBoxModel",
            "_view_count": null,
            "_view_module": "@jupyter-widgets/controls",
            "_view_module_version": "1.5.0",
            "_view_name": "HBoxView",
            "box_style": "",
            "children": [
              "IPY_MODEL_cf125b2eb4ec4dda9131502a6ae2da24",
              "IPY_MODEL_2be135379a7945eaadd0b7046333c40a",
              "IPY_MODEL_e5bbf46c0042443ba74f992b7d73b1a7"
            ],
            "layout": "IPY_MODEL_028e649721ae45c885ce3272cf191c85"
          }
        },
        "cf125b2eb4ec4dda9131502a6ae2da24": {
          "model_module": "@jupyter-widgets/controls",
          "model_name": "HTMLModel",
          "model_module_version": "1.5.0",
          "state": {
            "_dom_classes": [],
            "_model_module": "@jupyter-widgets/controls",
            "_model_module_version": "1.5.0",
            "_model_name": "HTMLModel",
            "_view_count": null,
            "_view_module": "@jupyter-widgets/controls",
            "_view_module_version": "1.5.0",
            "_view_name": "HTMLView",
            "description": "",
            "description_tooltip": null,
            "layout": "IPY_MODEL_fba1cbe259b64221a8a56cd89e65399b",
            "placeholder": "​",
            "style": "IPY_MODEL_5f11da88e9944371b1e49b76db614975",
            "value": "100%"
          }
        },
        "2be135379a7945eaadd0b7046333c40a": {
          "model_module": "@jupyter-widgets/controls",
          "model_name": "FloatProgressModel",
          "model_module_version": "1.5.0",
          "state": {
            "_dom_classes": [],
            "_model_module": "@jupyter-widgets/controls",
            "_model_module_version": "1.5.0",
            "_model_name": "FloatProgressModel",
            "_view_count": null,
            "_view_module": "@jupyter-widgets/controls",
            "_view_module_version": "1.5.0",
            "_view_name": "ProgressView",
            "bar_style": "success",
            "description": "",
            "description_tooltip": null,
            "layout": "IPY_MODEL_ce32c01d66f44d35abf2956dc92a6d59",
            "max": 3,
            "min": 0,
            "orientation": "horizontal",
            "style": "IPY_MODEL_c3544371b39144c38bb8e681e5ad6d34",
            "value": 3
          }
        },
        "e5bbf46c0042443ba74f992b7d73b1a7": {
          "model_module": "@jupyter-widgets/controls",
          "model_name": "HTMLModel",
          "model_module_version": "1.5.0",
          "state": {
            "_dom_classes": [],
            "_model_module": "@jupyter-widgets/controls",
            "_model_module_version": "1.5.0",
            "_model_name": "HTMLModel",
            "_view_count": null,
            "_view_module": "@jupyter-widgets/controls",
            "_view_module_version": "1.5.0",
            "_view_name": "HTMLView",
            "description": "",
            "description_tooltip": null,
            "layout": "IPY_MODEL_6c05b8ba15aa44afa1abf4866235a5d9",
            "placeholder": "​",
            "style": "IPY_MODEL_c27a15f02e854601a6c5596b878b0195",
            "value": " 3/3 [04:18&lt;00:00, 84.68s/it]"
          }
        },
        "028e649721ae45c885ce3272cf191c85": {
          "model_module": "@jupyter-widgets/base",
          "model_name": "LayoutModel",
          "model_module_version": "1.2.0",
          "state": {
            "_model_module": "@jupyter-widgets/base",
            "_model_module_version": "1.2.0",
            "_model_name": "LayoutModel",
            "_view_count": null,
            "_view_module": "@jupyter-widgets/base",
            "_view_module_version": "1.2.0",
            "_view_name": "LayoutView",
            "align_content": null,
            "align_items": null,
            "align_self": null,
            "border": null,
            "bottom": null,
            "display": null,
            "flex": null,
            "flex_flow": null,
            "grid_area": null,
            "grid_auto_columns": null,
            "grid_auto_flow": null,
            "grid_auto_rows": null,
            "grid_column": null,
            "grid_gap": null,
            "grid_row": null,
            "grid_template_areas": null,
            "grid_template_columns": null,
            "grid_template_rows": null,
            "height": null,
            "justify_content": null,
            "justify_items": null,
            "left": null,
            "margin": null,
            "max_height": null,
            "max_width": null,
            "min_height": null,
            "min_width": null,
            "object_fit": null,
            "object_position": null,
            "order": null,
            "overflow": null,
            "overflow_x": null,
            "overflow_y": null,
            "padding": null,
            "right": null,
            "top": null,
            "visibility": null,
            "width": null
          }
        },
        "fba1cbe259b64221a8a56cd89e65399b": {
          "model_module": "@jupyter-widgets/base",
          "model_name": "LayoutModel",
          "model_module_version": "1.2.0",
          "state": {
            "_model_module": "@jupyter-widgets/base",
            "_model_module_version": "1.2.0",
            "_model_name": "LayoutModel",
            "_view_count": null,
            "_view_module": "@jupyter-widgets/base",
            "_view_module_version": "1.2.0",
            "_view_name": "LayoutView",
            "align_content": null,
            "align_items": null,
            "align_self": null,
            "border": null,
            "bottom": null,
            "display": null,
            "flex": null,
            "flex_flow": null,
            "grid_area": null,
            "grid_auto_columns": null,
            "grid_auto_flow": null,
            "grid_auto_rows": null,
            "grid_column": null,
            "grid_gap": null,
            "grid_row": null,
            "grid_template_areas": null,
            "grid_template_columns": null,
            "grid_template_rows": null,
            "height": null,
            "justify_content": null,
            "justify_items": null,
            "left": null,
            "margin": null,
            "max_height": null,
            "max_width": null,
            "min_height": null,
            "min_width": null,
            "object_fit": null,
            "object_position": null,
            "order": null,
            "overflow": null,
            "overflow_x": null,
            "overflow_y": null,
            "padding": null,
            "right": null,
            "top": null,
            "visibility": null,
            "width": null
          }
        },
        "5f11da88e9944371b1e49b76db614975": {
          "model_module": "@jupyter-widgets/controls",
          "model_name": "DescriptionStyleModel",
          "model_module_version": "1.5.0",
          "state": {
            "_model_module": "@jupyter-widgets/controls",
            "_model_module_version": "1.5.0",
            "_model_name": "DescriptionStyleModel",
            "_view_count": null,
            "_view_module": "@jupyter-widgets/base",
            "_view_module_version": "1.2.0",
            "_view_name": "StyleView",
            "description_width": ""
          }
        },
        "ce32c01d66f44d35abf2956dc92a6d59": {
          "model_module": "@jupyter-widgets/base",
          "model_name": "LayoutModel",
          "model_module_version": "1.2.0",
          "state": {
            "_model_module": "@jupyter-widgets/base",
            "_model_module_version": "1.2.0",
            "_model_name": "LayoutModel",
            "_view_count": null,
            "_view_module": "@jupyter-widgets/base",
            "_view_module_version": "1.2.0",
            "_view_name": "LayoutView",
            "align_content": null,
            "align_items": null,
            "align_self": null,
            "border": null,
            "bottom": null,
            "display": null,
            "flex": null,
            "flex_flow": null,
            "grid_area": null,
            "grid_auto_columns": null,
            "grid_auto_flow": null,
            "grid_auto_rows": null,
            "grid_column": null,
            "grid_gap": null,
            "grid_row": null,
            "grid_template_areas": null,
            "grid_template_columns": null,
            "grid_template_rows": null,
            "height": null,
            "justify_content": null,
            "justify_items": null,
            "left": null,
            "margin": null,
            "max_height": null,
            "max_width": null,
            "min_height": null,
            "min_width": null,
            "object_fit": null,
            "object_position": null,
            "order": null,
            "overflow": null,
            "overflow_x": null,
            "overflow_y": null,
            "padding": null,
            "right": null,
            "top": null,
            "visibility": null,
            "width": null
          }
        },
        "c3544371b39144c38bb8e681e5ad6d34": {
          "model_module": "@jupyter-widgets/controls",
          "model_name": "ProgressStyleModel",
          "model_module_version": "1.5.0",
          "state": {
            "_model_module": "@jupyter-widgets/controls",
            "_model_module_version": "1.5.0",
            "_model_name": "ProgressStyleModel",
            "_view_count": null,
            "_view_module": "@jupyter-widgets/base",
            "_view_module_version": "1.2.0",
            "_view_name": "StyleView",
            "bar_color": null,
            "description_width": ""
          }
        },
        "6c05b8ba15aa44afa1abf4866235a5d9": {
          "model_module": "@jupyter-widgets/base",
          "model_name": "LayoutModel",
          "model_module_version": "1.2.0",
          "state": {
            "_model_module": "@jupyter-widgets/base",
            "_model_module_version": "1.2.0",
            "_model_name": "LayoutModel",
            "_view_count": null,
            "_view_module": "@jupyter-widgets/base",
            "_view_module_version": "1.2.0",
            "_view_name": "LayoutView",
            "align_content": null,
            "align_items": null,
            "align_self": null,
            "border": null,
            "bottom": null,
            "display": null,
            "flex": null,
            "flex_flow": null,
            "grid_area": null,
            "grid_auto_columns": null,
            "grid_auto_flow": null,
            "grid_auto_rows": null,
            "grid_column": null,
            "grid_gap": null,
            "grid_row": null,
            "grid_template_areas": null,
            "grid_template_columns": null,
            "grid_template_rows": null,
            "height": null,
            "justify_content": null,
            "justify_items": null,
            "left": null,
            "margin": null,
            "max_height": null,
            "max_width": null,
            "min_height": null,
            "min_width": null,
            "object_fit": null,
            "object_position": null,
            "order": null,
            "overflow": null,
            "overflow_x": null,
            "overflow_y": null,
            "padding": null,
            "right": null,
            "top": null,
            "visibility": null,
            "width": null
          }
        },
        "c27a15f02e854601a6c5596b878b0195": {
          "model_module": "@jupyter-widgets/controls",
          "model_name": "DescriptionStyleModel",
          "model_module_version": "1.5.0",
          "state": {
            "_model_module": "@jupyter-widgets/controls",
            "_model_module_version": "1.5.0",
            "_model_name": "DescriptionStyleModel",
            "_view_count": null,
            "_view_module": "@jupyter-widgets/base",
            "_view_module_version": "1.2.0",
            "_view_name": "StyleView",
            "description_width": ""
          }
        },
        "498ec78c7cd34df4932e9cfe3506a74c": {
          "model_module": "@jupyter-widgets/controls",
          "model_name": "HBoxModel",
          "model_module_version": "1.5.0",
          "state": {
            "_dom_classes": [],
            "_model_module": "@jupyter-widgets/controls",
            "_model_module_version": "1.5.0",
            "_model_name": "HBoxModel",
            "_view_count": null,
            "_view_module": "@jupyter-widgets/controls",
            "_view_module_version": "1.5.0",
            "_view_name": "HBoxView",
            "box_style": "",
            "children": [
              "IPY_MODEL_65daecefb06b455aadf7e594bb248ab4",
              "IPY_MODEL_af7783dec1824377a2114e6246215537",
              "IPY_MODEL_904b440863cf49149ffebe6c787d8b5f"
            ],
            "layout": "IPY_MODEL_946cc65409c74abebd90469e78b01c82"
          }
        },
        "65daecefb06b455aadf7e594bb248ab4": {
          "model_module": "@jupyter-widgets/controls",
          "model_name": "HTMLModel",
          "model_module_version": "1.5.0",
          "state": {
            "_dom_classes": [],
            "_model_module": "@jupyter-widgets/controls",
            "_model_module_version": "1.5.0",
            "_model_name": "HTMLModel",
            "_view_count": null,
            "_view_module": "@jupyter-widgets/controls",
            "_view_module_version": "1.5.0",
            "_view_name": "HTMLView",
            "description": "",
            "description_tooltip": null,
            "layout": "IPY_MODEL_48345b090e6c4ab389b560a909b9c295",
            "placeholder": "​",
            "style": "IPY_MODEL_cdac7b930c074fb384633e8b2aa15078",
            "value": "Making predictions...: 100%"
          }
        },
        "af7783dec1824377a2114e6246215537": {
          "model_module": "@jupyter-widgets/controls",
          "model_name": "FloatProgressModel",
          "model_module_version": "1.5.0",
          "state": {
            "_dom_classes": [],
            "_model_module": "@jupyter-widgets/controls",
            "_model_module_version": "1.5.0",
            "_model_name": "FloatProgressModel",
            "_view_count": null,
            "_view_module": "@jupyter-widgets/controls",
            "_view_module_version": "1.5.0",
            "_view_name": "ProgressView",
            "bar_style": "success",
            "description": "",
            "description_tooltip": null,
            "layout": "IPY_MODEL_13a753b5f0934ac2b97e050fe7bd3e93",
            "max": 313,
            "min": 0,
            "orientation": "horizontal",
            "style": "IPY_MODEL_b78aae3f921944cb9443d9d679488d6b",
            "value": 313
          }
        },
        "904b440863cf49149ffebe6c787d8b5f": {
          "model_module": "@jupyter-widgets/controls",
          "model_name": "HTMLModel",
          "model_module_version": "1.5.0",
          "state": {
            "_dom_classes": [],
            "_model_module": "@jupyter-widgets/controls",
            "_model_module_version": "1.5.0",
            "_model_name": "HTMLModel",
            "_view_count": null,
            "_view_module": "@jupyter-widgets/controls",
            "_view_module_version": "1.5.0",
            "_view_name": "HTMLView",
            "description": "",
            "description_tooltip": null,
            "layout": "IPY_MODEL_d4a60b02bd9044f482617be5cf6e4bfb",
            "placeholder": "​",
            "style": "IPY_MODEL_a5531bf5b7ca4cbcbfe76d9ffda61eb2",
            "value": " 313/313 [00:04&lt;00:00, 77.23it/s]"
          }
        },
        "946cc65409c74abebd90469e78b01c82": {
          "model_module": "@jupyter-widgets/base",
          "model_name": "LayoutModel",
          "model_module_version": "1.2.0",
          "state": {
            "_model_module": "@jupyter-widgets/base",
            "_model_module_version": "1.2.0",
            "_model_name": "LayoutModel",
            "_view_count": null,
            "_view_module": "@jupyter-widgets/base",
            "_view_module_version": "1.2.0",
            "_view_name": "LayoutView",
            "align_content": null,
            "align_items": null,
            "align_self": null,
            "border": null,
            "bottom": null,
            "display": null,
            "flex": null,
            "flex_flow": null,
            "grid_area": null,
            "grid_auto_columns": null,
            "grid_auto_flow": null,
            "grid_auto_rows": null,
            "grid_column": null,
            "grid_gap": null,
            "grid_row": null,
            "grid_template_areas": null,
            "grid_template_columns": null,
            "grid_template_rows": null,
            "height": null,
            "justify_content": null,
            "justify_items": null,
            "left": null,
            "margin": null,
            "max_height": null,
            "max_width": null,
            "min_height": null,
            "min_width": null,
            "object_fit": null,
            "object_position": null,
            "order": null,
            "overflow": null,
            "overflow_x": null,
            "overflow_y": null,
            "padding": null,
            "right": null,
            "top": null,
            "visibility": null,
            "width": null
          }
        },
        "48345b090e6c4ab389b560a909b9c295": {
          "model_module": "@jupyter-widgets/base",
          "model_name": "LayoutModel",
          "model_module_version": "1.2.0",
          "state": {
            "_model_module": "@jupyter-widgets/base",
            "_model_module_version": "1.2.0",
            "_model_name": "LayoutModel",
            "_view_count": null,
            "_view_module": "@jupyter-widgets/base",
            "_view_module_version": "1.2.0",
            "_view_name": "LayoutView",
            "align_content": null,
            "align_items": null,
            "align_self": null,
            "border": null,
            "bottom": null,
            "display": null,
            "flex": null,
            "flex_flow": null,
            "grid_area": null,
            "grid_auto_columns": null,
            "grid_auto_flow": null,
            "grid_auto_rows": null,
            "grid_column": null,
            "grid_gap": null,
            "grid_row": null,
            "grid_template_areas": null,
            "grid_template_columns": null,
            "grid_template_rows": null,
            "height": null,
            "justify_content": null,
            "justify_items": null,
            "left": null,
            "margin": null,
            "max_height": null,
            "max_width": null,
            "min_height": null,
            "min_width": null,
            "object_fit": null,
            "object_position": null,
            "order": null,
            "overflow": null,
            "overflow_x": null,
            "overflow_y": null,
            "padding": null,
            "right": null,
            "top": null,
            "visibility": null,
            "width": null
          }
        },
        "cdac7b930c074fb384633e8b2aa15078": {
          "model_module": "@jupyter-widgets/controls",
          "model_name": "DescriptionStyleModel",
          "model_module_version": "1.5.0",
          "state": {
            "_model_module": "@jupyter-widgets/controls",
            "_model_module_version": "1.5.0",
            "_model_name": "DescriptionStyleModel",
            "_view_count": null,
            "_view_module": "@jupyter-widgets/base",
            "_view_module_version": "1.2.0",
            "_view_name": "StyleView",
            "description_width": ""
          }
        },
        "13a753b5f0934ac2b97e050fe7bd3e93": {
          "model_module": "@jupyter-widgets/base",
          "model_name": "LayoutModel",
          "model_module_version": "1.2.0",
          "state": {
            "_model_module": "@jupyter-widgets/base",
            "_model_module_version": "1.2.0",
            "_model_name": "LayoutModel",
            "_view_count": null,
            "_view_module": "@jupyter-widgets/base",
            "_view_module_version": "1.2.0",
            "_view_name": "LayoutView",
            "align_content": null,
            "align_items": null,
            "align_self": null,
            "border": null,
            "bottom": null,
            "display": null,
            "flex": null,
            "flex_flow": null,
            "grid_area": null,
            "grid_auto_columns": null,
            "grid_auto_flow": null,
            "grid_auto_rows": null,
            "grid_column": null,
            "grid_gap": null,
            "grid_row": null,
            "grid_template_areas": null,
            "grid_template_columns": null,
            "grid_template_rows": null,
            "height": null,
            "justify_content": null,
            "justify_items": null,
            "left": null,
            "margin": null,
            "max_height": null,
            "max_width": null,
            "min_height": null,
            "min_width": null,
            "object_fit": null,
            "object_position": null,
            "order": null,
            "overflow": null,
            "overflow_x": null,
            "overflow_y": null,
            "padding": null,
            "right": null,
            "top": null,
            "visibility": null,
            "width": null
          }
        },
        "b78aae3f921944cb9443d9d679488d6b": {
          "model_module": "@jupyter-widgets/controls",
          "model_name": "ProgressStyleModel",
          "model_module_version": "1.5.0",
          "state": {
            "_model_module": "@jupyter-widgets/controls",
            "_model_module_version": "1.5.0",
            "_model_name": "ProgressStyleModel",
            "_view_count": null,
            "_view_module": "@jupyter-widgets/base",
            "_view_module_version": "1.2.0",
            "_view_name": "StyleView",
            "bar_color": null,
            "description_width": ""
          }
        },
        "d4a60b02bd9044f482617be5cf6e4bfb": {
          "model_module": "@jupyter-widgets/base",
          "model_name": "LayoutModel",
          "model_module_version": "1.2.0",
          "state": {
            "_model_module": "@jupyter-widgets/base",
            "_model_module_version": "1.2.0",
            "_model_name": "LayoutModel",
            "_view_count": null,
            "_view_module": "@jupyter-widgets/base",
            "_view_module_version": "1.2.0",
            "_view_name": "LayoutView",
            "align_content": null,
            "align_items": null,
            "align_self": null,
            "border": null,
            "bottom": null,
            "display": null,
            "flex": null,
            "flex_flow": null,
            "grid_area": null,
            "grid_auto_columns": null,
            "grid_auto_flow": null,
            "grid_auto_rows": null,
            "grid_column": null,
            "grid_gap": null,
            "grid_row": null,
            "grid_template_areas": null,
            "grid_template_columns": null,
            "grid_template_rows": null,
            "height": null,
            "justify_content": null,
            "justify_items": null,
            "left": null,
            "margin": null,
            "max_height": null,
            "max_width": null,
            "min_height": null,
            "min_width": null,
            "object_fit": null,
            "object_position": null,
            "order": null,
            "overflow": null,
            "overflow_x": null,
            "overflow_y": null,
            "padding": null,
            "right": null,
            "top": null,
            "visibility": null,
            "width": null
          }
        },
        "a5531bf5b7ca4cbcbfe76d9ffda61eb2": {
          "model_module": "@jupyter-widgets/controls",
          "model_name": "DescriptionStyleModel",
          "model_module_version": "1.5.0",
          "state": {
            "_model_module": "@jupyter-widgets/controls",
            "_model_module_version": "1.5.0",
            "_model_name": "DescriptionStyleModel",
            "_view_count": null,
            "_view_module": "@jupyter-widgets/base",
            "_view_module_version": "1.2.0",
            "_view_name": "StyleView",
            "description_width": ""
          }
        }
      }
    },
    "gpuClass": "standard"
  },
  "cells": [
    {
      "cell_type": "markdown",
      "source": [
        "# Computer vision with PyTorch"
      ],
      "metadata": {
        "id": "t9vwRs32FGgQ"
      }
    },
    {
      "cell_type": "markdown",
      "source": [
        "## 01. Computer viosion libraries\n",
        "\n",
        "* `torchvision` - base domain library for PyTorch computer vision\n",
        "* `torchvision.datasets` - get datasets and data loading functions for computer vision here\n",
        "* `torchvision.models` - get pretrained computervision models that you can leverae for your own problems\n",
        "* `torchvision.transforms` - Functions for manipulating your vision data(images) to bea suitable for use with an ML model.\n",
        "* `torch.utls.data.Dataset` - Base data class for PyTorch.\n",
        "* `torch.utils.data.Dataloader`  - Creates a Python iterable over a dataset"
      ],
      "metadata": {
        "id": "d0Nzrki9IrCM"
      }
    },
    {
      "cell_type": "code",
      "execution_count": 112,
      "metadata": {
        "colab": {
          "base_uri": "https://localhost:8080/"
        },
        "id": "eShW745qFFk8",
        "outputId": "a5dd3827-1a86-46e4-bfd3-6d21da761043"
      },
      "outputs": [
        {
          "output_type": "stream",
          "name": "stdout",
          "text": [
            "1.13.1+cu116\n",
            "0.14.1+cu116\n"
          ]
        }
      ],
      "source": [
        "# Import pytorch\n",
        "import torch\n",
        "from torch import nn\n",
        "\n",
        "# Import torchvision\n",
        "import torchvision\n",
        "from torchvision import datasets\n",
        "from torchvision import transforms\n",
        "from torchvision.transforms import ToTensor\n",
        "\n",
        "# Import matplotlib for visualization\n",
        "import matplotlib.pyplot as plt\n",
        "\n",
        "\n",
        "# Check versions\n",
        "print(torch.__version__)\n",
        "print(torchvision.__version__)"
      ]
    },
    {
      "cell_type": "markdown",
      "source": [
        "## 02. Geting a dataset\n",
        "\n",
        "we will be using Fashion MNIST dataset"
      ],
      "metadata": {
        "id": "r2zvDIW0LKeT"
      }
    },
    {
      "cell_type": "code",
      "source": [
        "from torch.utils.data.dataset import T\n",
        "# Setup training daata\n",
        "\n",
        "train_data = datasets.FashionMNIST(\n",
        "    root = 'data', # where to download the data\n",
        "    train = True, # Where do we want the training dataset\n",
        "    download = True, # do we want to download yes/no\n",
        "    transform = torchvision.transforms.ToTensor(), # How we want to transform the data\n",
        "    target_transform = None # how do we want to trainsform the labels\n",
        ")\n",
        "\n",
        "test_data = datasets.FashionMNIST(\n",
        "    root = 'data', # where to download the data\n",
        "    train = False, # Where do we want the training dataset\n",
        "    download = True, # do we want to download yes/no\n",
        "    transform = torchvision.transforms.ToTensor(), # How we want to transform the data\n",
        "    target_transform = None # how do we want to trainsform the labels\n",
        ")\n"
      ],
      "metadata": {
        "id": "TttXXoSFLEX8"
      },
      "execution_count": 172,
      "outputs": []
    },
    {
      "cell_type": "code",
      "source": [
        "len(train_data), len(test_data)"
      ],
      "metadata": {
        "colab": {
          "base_uri": "https://localhost:8080/"
        },
        "id": "9R_zGDp5M5xb",
        "outputId": "84e03275-976c-413a-ff66-56e0cfd5542f"
      },
      "execution_count": 114,
      "outputs": [
        {
          "output_type": "execute_result",
          "data": {
            "text/plain": [
              "(60000, 10000)"
            ]
          },
          "metadata": {},
          "execution_count": 114
        }
      ]
    },
    {
      "cell_type": "code",
      "source": [
        "# See train data\n",
        "image, label = train_data[0]\n",
        "image, label"
      ],
      "metadata": {
        "colab": {
          "base_uri": "https://localhost:8080/"
        },
        "id": "OUqHxG7QNBU9",
        "outputId": "3b7a5a93-b2c2-49d8-cc35-d90171197b2a"
      },
      "execution_count": 115,
      "outputs": [
        {
          "output_type": "execute_result",
          "data": {
            "text/plain": [
              "(tensor([[[0.0000, 0.0000, 0.0000, 0.0000, 0.0000, 0.0000, 0.0000, 0.0000,\n",
              "           0.0000, 0.0000, 0.0000, 0.0000, 0.0000, 0.0000, 0.0000, 0.0000,\n",
              "           0.0000, 0.0000, 0.0000, 0.0000, 0.0000, 0.0000, 0.0000, 0.0000,\n",
              "           0.0000, 0.0000, 0.0000, 0.0000],\n",
              "          [0.0000, 0.0000, 0.0000, 0.0000, 0.0000, 0.0000, 0.0000, 0.0000,\n",
              "           0.0000, 0.0000, 0.0000, 0.0000, 0.0000, 0.0000, 0.0000, 0.0000,\n",
              "           0.0000, 0.0000, 0.0000, 0.0000, 0.0000, 0.0000, 0.0000, 0.0000,\n",
              "           0.0000, 0.0000, 0.0000, 0.0000],\n",
              "          [0.0000, 0.0000, 0.0000, 0.0000, 0.0000, 0.0000, 0.0000, 0.0000,\n",
              "           0.0000, 0.0000, 0.0000, 0.0000, 0.0000, 0.0000, 0.0000, 0.0000,\n",
              "           0.0000, 0.0000, 0.0000, 0.0000, 0.0000, 0.0000, 0.0000, 0.0000,\n",
              "           0.0000, 0.0000, 0.0000, 0.0000],\n",
              "          [0.0000, 0.0000, 0.0000, 0.0000, 0.0000, 0.0000, 0.0000, 0.0000,\n",
              "           0.0000, 0.0000, 0.0000, 0.0000, 0.0039, 0.0000, 0.0000, 0.0510,\n",
              "           0.2863, 0.0000, 0.0000, 0.0039, 0.0157, 0.0000, 0.0000, 0.0000,\n",
              "           0.0000, 0.0039, 0.0039, 0.0000],\n",
              "          [0.0000, 0.0000, 0.0000, 0.0000, 0.0000, 0.0000, 0.0000, 0.0000,\n",
              "           0.0000, 0.0000, 0.0000, 0.0000, 0.0118, 0.0000, 0.1412, 0.5333,\n",
              "           0.4980, 0.2431, 0.2118, 0.0000, 0.0000, 0.0000, 0.0039, 0.0118,\n",
              "           0.0157, 0.0000, 0.0000, 0.0118],\n",
              "          [0.0000, 0.0000, 0.0000, 0.0000, 0.0000, 0.0000, 0.0000, 0.0000,\n",
              "           0.0000, 0.0000, 0.0000, 0.0000, 0.0235, 0.0000, 0.4000, 0.8000,\n",
              "           0.6902, 0.5255, 0.5647, 0.4824, 0.0902, 0.0000, 0.0000, 0.0000,\n",
              "           0.0000, 0.0471, 0.0392, 0.0000],\n",
              "          [0.0000, 0.0000, 0.0000, 0.0000, 0.0000, 0.0000, 0.0000, 0.0000,\n",
              "           0.0000, 0.0000, 0.0000, 0.0000, 0.0000, 0.0000, 0.6078, 0.9255,\n",
              "           0.8118, 0.6980, 0.4196, 0.6118, 0.6314, 0.4275, 0.2510, 0.0902,\n",
              "           0.3020, 0.5098, 0.2824, 0.0588],\n",
              "          [0.0000, 0.0000, 0.0000, 0.0000, 0.0000, 0.0000, 0.0000, 0.0000,\n",
              "           0.0000, 0.0000, 0.0000, 0.0039, 0.0000, 0.2706, 0.8118, 0.8745,\n",
              "           0.8549, 0.8471, 0.8471, 0.6392, 0.4980, 0.4745, 0.4784, 0.5725,\n",
              "           0.5529, 0.3451, 0.6745, 0.2588],\n",
              "          [0.0000, 0.0000, 0.0000, 0.0000, 0.0000, 0.0000, 0.0000, 0.0000,\n",
              "           0.0000, 0.0039, 0.0039, 0.0039, 0.0000, 0.7843, 0.9098, 0.9098,\n",
              "           0.9137, 0.8980, 0.8745, 0.8745, 0.8431, 0.8353, 0.6431, 0.4980,\n",
              "           0.4824, 0.7686, 0.8980, 0.0000],\n",
              "          [0.0000, 0.0000, 0.0000, 0.0000, 0.0000, 0.0000, 0.0000, 0.0000,\n",
              "           0.0000, 0.0000, 0.0000, 0.0000, 0.0000, 0.7176, 0.8824, 0.8471,\n",
              "           0.8745, 0.8941, 0.9216, 0.8902, 0.8784, 0.8706, 0.8784, 0.8667,\n",
              "           0.8745, 0.9608, 0.6784, 0.0000],\n",
              "          [0.0000, 0.0000, 0.0000, 0.0000, 0.0000, 0.0000, 0.0000, 0.0000,\n",
              "           0.0000, 0.0000, 0.0000, 0.0000, 0.0000, 0.7569, 0.8941, 0.8549,\n",
              "           0.8353, 0.7765, 0.7059, 0.8314, 0.8235, 0.8275, 0.8353, 0.8745,\n",
              "           0.8627, 0.9529, 0.7922, 0.0000],\n",
              "          [0.0000, 0.0000, 0.0000, 0.0000, 0.0000, 0.0000, 0.0000, 0.0000,\n",
              "           0.0000, 0.0039, 0.0118, 0.0000, 0.0471, 0.8588, 0.8627, 0.8314,\n",
              "           0.8549, 0.7529, 0.6627, 0.8902, 0.8157, 0.8549, 0.8784, 0.8314,\n",
              "           0.8863, 0.7725, 0.8196, 0.2039],\n",
              "          [0.0000, 0.0000, 0.0000, 0.0000, 0.0000, 0.0000, 0.0000, 0.0000,\n",
              "           0.0000, 0.0000, 0.0235, 0.0000, 0.3882, 0.9569, 0.8706, 0.8627,\n",
              "           0.8549, 0.7961, 0.7765, 0.8667, 0.8431, 0.8353, 0.8706, 0.8627,\n",
              "           0.9608, 0.4667, 0.6549, 0.2196],\n",
              "          [0.0000, 0.0000, 0.0000, 0.0000, 0.0000, 0.0000, 0.0000, 0.0000,\n",
              "           0.0000, 0.0157, 0.0000, 0.0000, 0.2157, 0.9255, 0.8941, 0.9020,\n",
              "           0.8941, 0.9412, 0.9098, 0.8353, 0.8549, 0.8745, 0.9176, 0.8510,\n",
              "           0.8510, 0.8196, 0.3608, 0.0000],\n",
              "          [0.0000, 0.0000, 0.0039, 0.0157, 0.0235, 0.0275, 0.0078, 0.0000,\n",
              "           0.0000, 0.0000, 0.0000, 0.0000, 0.9294, 0.8863, 0.8510, 0.8745,\n",
              "           0.8706, 0.8588, 0.8706, 0.8667, 0.8471, 0.8745, 0.8980, 0.8431,\n",
              "           0.8549, 1.0000, 0.3020, 0.0000],\n",
              "          [0.0000, 0.0118, 0.0000, 0.0000, 0.0000, 0.0000, 0.0000, 0.0000,\n",
              "           0.0000, 0.2431, 0.5686, 0.8000, 0.8941, 0.8118, 0.8353, 0.8667,\n",
              "           0.8549, 0.8157, 0.8275, 0.8549, 0.8784, 0.8745, 0.8588, 0.8431,\n",
              "           0.8784, 0.9569, 0.6235, 0.0000],\n",
              "          [0.0000, 0.0000, 0.0000, 0.0000, 0.0706, 0.1725, 0.3216, 0.4196,\n",
              "           0.7412, 0.8941, 0.8627, 0.8706, 0.8510, 0.8863, 0.7843, 0.8039,\n",
              "           0.8275, 0.9020, 0.8784, 0.9176, 0.6902, 0.7373, 0.9804, 0.9725,\n",
              "           0.9137, 0.9333, 0.8431, 0.0000],\n",
              "          [0.0000, 0.2235, 0.7333, 0.8157, 0.8784, 0.8667, 0.8784, 0.8157,\n",
              "           0.8000, 0.8392, 0.8157, 0.8196, 0.7843, 0.6235, 0.9608, 0.7569,\n",
              "           0.8078, 0.8745, 1.0000, 1.0000, 0.8667, 0.9176, 0.8667, 0.8275,\n",
              "           0.8627, 0.9098, 0.9647, 0.0000],\n",
              "          [0.0118, 0.7922, 0.8941, 0.8784, 0.8667, 0.8275, 0.8275, 0.8392,\n",
              "           0.8039, 0.8039, 0.8039, 0.8627, 0.9412, 0.3137, 0.5882, 1.0000,\n",
              "           0.8980, 0.8667, 0.7373, 0.6039, 0.7490, 0.8235, 0.8000, 0.8196,\n",
              "           0.8706, 0.8941, 0.8824, 0.0000],\n",
              "          [0.3843, 0.9137, 0.7765, 0.8235, 0.8706, 0.8980, 0.8980, 0.9176,\n",
              "           0.9765, 0.8627, 0.7608, 0.8431, 0.8510, 0.9451, 0.2549, 0.2863,\n",
              "           0.4157, 0.4588, 0.6588, 0.8588, 0.8667, 0.8431, 0.8510, 0.8745,\n",
              "           0.8745, 0.8784, 0.8980, 0.1137],\n",
              "          [0.2941, 0.8000, 0.8314, 0.8000, 0.7569, 0.8039, 0.8275, 0.8824,\n",
              "           0.8471, 0.7255, 0.7725, 0.8078, 0.7765, 0.8353, 0.9412, 0.7647,\n",
              "           0.8902, 0.9608, 0.9373, 0.8745, 0.8549, 0.8314, 0.8196, 0.8706,\n",
              "           0.8627, 0.8667, 0.9020, 0.2627],\n",
              "          [0.1882, 0.7961, 0.7176, 0.7608, 0.8353, 0.7725, 0.7255, 0.7451,\n",
              "           0.7608, 0.7529, 0.7922, 0.8392, 0.8588, 0.8667, 0.8627, 0.9255,\n",
              "           0.8824, 0.8471, 0.7804, 0.8078, 0.7294, 0.7098, 0.6941, 0.6745,\n",
              "           0.7098, 0.8039, 0.8078, 0.4510],\n",
              "          [0.0000, 0.4784, 0.8588, 0.7569, 0.7020, 0.6706, 0.7176, 0.7686,\n",
              "           0.8000, 0.8235, 0.8353, 0.8118, 0.8275, 0.8235, 0.7843, 0.7686,\n",
              "           0.7608, 0.7490, 0.7647, 0.7490, 0.7765, 0.7529, 0.6902, 0.6118,\n",
              "           0.6549, 0.6941, 0.8235, 0.3608],\n",
              "          [0.0000, 0.0000, 0.2902, 0.7412, 0.8314, 0.7490, 0.6863, 0.6745,\n",
              "           0.6863, 0.7098, 0.7255, 0.7373, 0.7412, 0.7373, 0.7569, 0.7765,\n",
              "           0.8000, 0.8196, 0.8235, 0.8235, 0.8275, 0.7373, 0.7373, 0.7608,\n",
              "           0.7529, 0.8471, 0.6667, 0.0000],\n",
              "          [0.0078, 0.0000, 0.0000, 0.0000, 0.2588, 0.7843, 0.8706, 0.9294,\n",
              "           0.9373, 0.9490, 0.9647, 0.9529, 0.9569, 0.8667, 0.8627, 0.7569,\n",
              "           0.7490, 0.7020, 0.7137, 0.7137, 0.7098, 0.6902, 0.6510, 0.6588,\n",
              "           0.3882, 0.2275, 0.0000, 0.0000],\n",
              "          [0.0000, 0.0000, 0.0000, 0.0000, 0.0000, 0.0000, 0.0000, 0.1569,\n",
              "           0.2392, 0.1725, 0.2824, 0.1608, 0.1373, 0.0000, 0.0000, 0.0000,\n",
              "           0.0000, 0.0000, 0.0000, 0.0000, 0.0000, 0.0000, 0.0000, 0.0000,\n",
              "           0.0000, 0.0000, 0.0000, 0.0000],\n",
              "          [0.0000, 0.0000, 0.0000, 0.0000, 0.0000, 0.0000, 0.0000, 0.0000,\n",
              "           0.0000, 0.0000, 0.0000, 0.0000, 0.0000, 0.0000, 0.0000, 0.0000,\n",
              "           0.0000, 0.0000, 0.0000, 0.0000, 0.0000, 0.0000, 0.0000, 0.0000,\n",
              "           0.0000, 0.0000, 0.0000, 0.0000],\n",
              "          [0.0000, 0.0000, 0.0000, 0.0000, 0.0000, 0.0000, 0.0000, 0.0000,\n",
              "           0.0000, 0.0000, 0.0000, 0.0000, 0.0000, 0.0000, 0.0000, 0.0000,\n",
              "           0.0000, 0.0000, 0.0000, 0.0000, 0.0000, 0.0000, 0.0000, 0.0000,\n",
              "           0.0000, 0.0000, 0.0000, 0.0000]]]), 9)"
            ]
          },
          "metadata": {},
          "execution_count": 115
        }
      ]
    },
    {
      "cell_type": "code",
      "source": [
        "class_names = train_data.classes\n",
        "class_names"
      ],
      "metadata": {
        "colab": {
          "base_uri": "https://localhost:8080/"
        },
        "id": "XRvZTgX3Nghi",
        "outputId": "6da5f761-ad9c-4d54-ab8f-9beda4ba257b"
      },
      "execution_count": 116,
      "outputs": [
        {
          "output_type": "execute_result",
          "data": {
            "text/plain": [
              "['T-shirt/top',\n",
              " 'Trouser',\n",
              " 'Pullover',\n",
              " 'Dress',\n",
              " 'Coat',\n",
              " 'Sandal',\n",
              " 'Shirt',\n",
              " 'Sneaker',\n",
              " 'Bag',\n",
              " 'Ankle boot']"
            ]
          },
          "metadata": {},
          "execution_count": 116
        }
      ]
    },
    {
      "cell_type": "code",
      "source": [
        "class_names_idx = train_data.class_to_idx\n",
        "class_names_idx "
      ],
      "metadata": {
        "colab": {
          "base_uri": "https://localhost:8080/"
        },
        "id": "WWHJ8D6ONyQE",
        "outputId": "c071e077-9b46-4962-d64e-2cf2cdd6e633"
      },
      "execution_count": 117,
      "outputs": [
        {
          "output_type": "execute_result",
          "data": {
            "text/plain": [
              "{'T-shirt/top': 0,\n",
              " 'Trouser': 1,\n",
              " 'Pullover': 2,\n",
              " 'Dress': 3,\n",
              " 'Coat': 4,\n",
              " 'Sandal': 5,\n",
              " 'Shirt': 6,\n",
              " 'Sneaker': 7,\n",
              " 'Bag': 8,\n",
              " 'Ankle boot': 9}"
            ]
          },
          "metadata": {},
          "execution_count": 117
        }
      ]
    },
    {
      "cell_type": "code",
      "source": [
        "train_data.targets"
      ],
      "metadata": {
        "colab": {
          "base_uri": "https://localhost:8080/"
        },
        "id": "UQIk_3ccN_R0",
        "outputId": "406f43e8-deca-4ae7-f9b1-848d7ab764f3"
      },
      "execution_count": 118,
      "outputs": [
        {
          "output_type": "execute_result",
          "data": {
            "text/plain": [
              "tensor([9, 0, 0,  ..., 3, 0, 5])"
            ]
          },
          "metadata": {},
          "execution_count": 118
        }
      ]
    },
    {
      "cell_type": "markdown",
      "source": [
        "### 1.1 Check input and output shapes of data"
      ],
      "metadata": {
        "id": "JF-pkNXWOwoJ"
      }
    },
    {
      "cell_type": "code",
      "source": [
        "print(f\"Image shape: {image.shape}  -> [Color_channels, height, width]\")\n",
        "print(f\"Image label: {class_names[label]}  \")"
      ],
      "metadata": {
        "colab": {
          "base_uri": "https://localhost:8080/"
        },
        "id": "4x-IYNTYOBxA",
        "outputId": "abdded75-fb4c-4363-b5a1-1fd46383faee"
      },
      "execution_count": 119,
      "outputs": [
        {
          "output_type": "stream",
          "name": "stdout",
          "text": [
            "Image shape: torch.Size([1, 28, 28])  -> [Color_channels, height, width]\n",
            "Image label: Ankle boot  \n"
          ]
        }
      ]
    },
    {
      "cell_type": "markdown",
      "source": [
        "### 1.2 Visualizing data"
      ],
      "metadata": {
        "id": "J6AFS5Q3O2JW"
      }
    },
    {
      "cell_type": "code",
      "source": [
        "import matplotlib.pyplot as plt\n",
        "image, label = train_data[0]\n",
        "plt.imshow(image.squeeze())\n",
        "plt.title(label)"
      ],
      "metadata": {
        "colab": {
          "base_uri": "https://localhost:8080/",
          "height": 298
        },
        "id": "TOUNK0ueOXZO",
        "outputId": "1daca3d0-ed5a-434f-beca-e1d4095e5ca7"
      },
      "execution_count": 120,
      "outputs": [
        {
          "output_type": "execute_result",
          "data": {
            "text/plain": [
              "Text(0.5, 1.0, '9')"
            ]
          },
          "metadata": {},
          "execution_count": 120
        },
        {
          "output_type": "display_data",
          "data": {
            "text/plain": [
              "<Figure size 432x288 with 1 Axes>"
            ],
            "image/png": "[encoded data removed]"
          },
          "metadata": {
            "needs_background": "light"
          }
        }
      ]
    },
    {
      "cell_type": "code",
      "source": [
        "plt.imshow(image.squeeze(), cmap='gray')\n",
        "plt.title(class_names[label])\n",
        "plt.axis(False)"
      ],
      "metadata": {
        "colab": {
          "base_uri": "https://localhost:8080/",
          "height": 281
        },
        "id": "oByVNZQVPBHx",
        "outputId": "0a0742eb-d602-4e46-a099-a9037c0ce1f3"
      },
      "execution_count": 121,
      "outputs": [
        {
          "output_type": "execute_result",
          "data": {
            "text/plain": [
              "(-0.5, 27.5, 27.5, -0.5)"
            ]
          },
          "metadata": {},
          "execution_count": 121
        },
        {
          "output_type": "display_data",
          "data": {
            "text/plain": [
              "<Figure size 432x288 with 1 Axes>"
            ],
            "image/png": "[encoded data removed]"
          },
          "metadata": {
            "needs_background": "light"
          }
        }
      ]
    },
    {
      "cell_type": "code",
      "source": [
        "# Plot more images \n",
        "torch.manual_seed(42)\n",
        "fig = plt.figure(figsize=(9,9))\n",
        "rows, cols = 4, 4\n",
        "for i in range(1, rows*cols + 1):\n",
        "  random_idx = torch.randint(0, len(train_data), size=[1]).item()\n",
        "  img, label = train_data[random_idx]\n",
        "  fig.add_subplot(rows, cols, i)\n",
        "  plt.imshow(img.squeeze(), cmap=\"gray\")\n",
        "  plt.title(class_names[label])\n",
        "  plt.axis(False)"
      ],
      "metadata": {
        "colab": {
          "base_uri": "https://localhost:8080/",
          "height": 536
        },
        "id": "YsS23sjoPXP_",
        "outputId": "e37f3207-8377-4d5d-8b25-37780a4187ac"
      },
      "execution_count": 122,
      "outputs": [
        {
          "output_type": "display_data",
          "data": {
            "text/plain": [
              "<Figure size 648x648 with 16 Axes>"
            ],
            "image/png": "[encoded data removed]"
          },
          "metadata": {
            "needs_background": "light"
          }
        }
      ]
    },
    {
      "cell_type": "markdown",
      "source": [
        "Here do we need linear lines or non linear lines"
      ],
      "metadata": {
        "id": "9g36XX2tRTRu"
      }
    },
    {
      "cell_type": "markdown",
      "source": [
        "## 03. Prepare DataLoader\n",
        "\n",
        "data currently in a form of pytorch datasets\n",
        "\n",
        "DataLoder turns our dataset into a python iterable\n",
        "\n",
        "\n",
        "Data has to be turned into batches or mini batches\n",
        "\n",
        "why? \n",
        "1. It is computationally efficient, as in, our computing hardware may not be able to loos (store in memory) at 6000 images in one hit. So it has to be break down to small batches\n",
        "2. It gives our nn more chances to update its gradients per epoch "
      ],
      "metadata": {
        "id": "IcPiubnpRcJH"
      }
    },
    {
      "cell_type": "code",
      "source": [
        "from torch.utils.data import DataLoader\n",
        "\n",
        "\n",
        "# Setup the batch size hyper paramters\n",
        "BATCH_SIZE = 32\n",
        "\n",
        "train_dataloader = DataLoader(dataset = train_data, \n",
        "                               batch_size = BATCH_SIZE,\n",
        "                               shuffle = True)\n",
        "\n",
        "\n",
        "test_dataloader = DataLoader(dataset = test_data,\n",
        "                              batch_size = BATCH_SIZE,\n",
        "                              shuffle = False)\n",
        "\n",
        "train_dataloader, test_dataloader"
      ],
      "metadata": {
        "colab": {
          "base_uri": "https://localhost:8080/"
        },
        "id": "2wnVHK68Pwkd",
        "outputId": "a34b7d24-dcd6-47cf-a153-7e2cbac27e1c"
      },
      "execution_count": 123,
      "outputs": [
        {
          "output_type": "execute_result",
          "data": {
            "text/plain": [
              "(<torch.utils.data.dataloader.DataLoader at 0x7f73f842f880>,\n",
              " <torch.utils.data.dataloader.DataLoader at 0x7f73f842f3d0>)"
            ]
          },
          "metadata": {},
          "execution_count": 123
        }
      ]
    },
    {
      "cell_type": "code",
      "source": [
        "# Let's checkout what we have created\n",
        "print(f\"DataLoader : {train_dataloader,test_dataloader} \")\n",
        "print(f\"Length of train_dataloader :{len(train_dataloader)} batches of {BATCH_SIZE} \")\n",
        "print(f\"Length of test_dataloader :{len(test_dataloader)} batches of {BATCH_SIZE}\")"
      ],
      "metadata": {
        "colab": {
          "base_uri": "https://localhost:8080/"
        },
        "id": "hcdVRy60GEFX",
        "outputId": "4b6c0d27-cc95-466a-fc04-533f7699fb32"
      },
      "execution_count": 124,
      "outputs": [
        {
          "output_type": "stream",
          "name": "stdout",
          "text": [
            "DataLoader : (<torch.utils.data.dataloader.DataLoader object at 0x7f73f842f880>, <torch.utils.data.dataloader.DataLoader object at 0x7f73f842f3d0>) \n",
            "Length of train_dataloader :1875 batches of 32 \n",
            "Length of test_dataloader :313 batches of 32\n"
          ]
        }
      ]
    },
    {
      "cell_type": "code",
      "source": [
        "#Check out what's inside the training data loader\n",
        "train_features_batch, train_labels_batch = next(iter(train_dataloader))\n",
        "train_features_batch.shape, train_labels_batch.shape"
      ],
      "metadata": {
        "colab": {
          "base_uri": "https://localhost:8080/"
        },
        "id": "CAmlveY-HZ9B",
        "outputId": "e38087ff-7b71-4e83-e626-67cba296ea78"
      },
      "execution_count": 125,
      "outputs": [
        {
          "output_type": "execute_result",
          "data": {
            "text/plain": [
              "(torch.Size([32, 1, 28, 28]), torch.Size([32]))"
            ]
          },
          "metadata": {},
          "execution_count": 125
        }
      ]
    },
    {
      "cell_type": "code",
      "source": [
        "len(train_features_batch)"
      ],
      "metadata": {
        "colab": {
          "base_uri": "https://localhost:8080/"
        },
        "id": "okDAj_eyIJc9",
        "outputId": "04925247-59ca-47f4-f8b9-a71256799e3f"
      },
      "execution_count": 126,
      "outputs": [
        {
          "output_type": "execute_result",
          "data": {
            "text/plain": [
              "32"
            ]
          },
          "metadata": {},
          "execution_count": 126
        }
      ]
    },
    {
      "cell_type": "code",
      "source": [
        "# Show a sample\n",
        "\n",
        "# torch.manual_seed(42)\n",
        "random_idx = torch.randint(0, len(train_features_batch), size=[1]).item()\n",
        "\n",
        "img, label = train_features_batch[random_idx], train_labels_batch[random_idx]\n",
        "plt.imshow(img.squeeze(), cmap=\"gray\")\n",
        "plt.title(class_names[label])\n",
        "plt.axis(False)\n",
        "\n",
        "print(f\"Image  size: {img.shape} label : {label}  label size : { label.shape}\")"
      ],
      "metadata": {
        "colab": {
          "base_uri": "https://localhost:8080/",
          "height": 281
        },
        "id": "KM6VGssHGgvR",
        "outputId": "069f9125-926a-4b60-9f36-7d95b4ae9250"
      },
      "execution_count": 127,
      "outputs": [
        {
          "output_type": "stream",
          "name": "stdout",
          "text": [
            "Image  size: torch.Size([1, 28, 28]) label : 8  label size : torch.Size([])\n"
          ]
        },
        {
          "output_type": "display_data",
          "data": {
            "text/plain": [
              "<Figure size 432x288 with 1 Axes>"
            ],
            "image/png": "[encoded data removed]"
          },
          "metadata": {
            "needs_background": "light"
          }
        }
      ]
    },
    {
      "cell_type": "markdown",
      "source": [
        "## 03. Model 0: Build a base line model\n",
        "\n",
        "\n",
        "When starting to build a series of machine learning modeling experiments, it's best practice to start with a baseline model.\n",
        "\n",
        "A baseline model is a simple model you will try and improve with subsequent models/experiments\n",
        "\n",
        "Starts simple and add complexity when necessary"
      ],
      "metadata": {
        "id": "CNcmJYAbJ0V1"
      }
    },
    {
      "cell_type": "code",
      "source": [
        "# Create a flatten layer\n",
        "flatten_model = nn.Flatten()\n",
        "\n",
        "\n",
        "# Get a single sample\n",
        "x = train_features_batch[0]\n",
        "\n",
        "# Flatten the sample\n",
        "output = flatten_model(x)\n",
        "\n",
        "# Print out what happend\n",
        "print(f\"Shape before flattening : {x.shape} -> [color_channels, height, width]\")\n",
        "print(f\"Shape after flattening : {output.shape} -> [color_chanels, height*width\")"
      ],
      "metadata": {
        "colab": {
          "base_uri": "https://localhost:8080/"
        },
        "id": "ITvVXvAkHtco",
        "outputId": "801dbe0c-7c8c-4f2a-96c0-530998093bc0"
      },
      "execution_count": 128,
      "outputs": [
        {
          "output_type": "stream",
          "name": "stdout",
          "text": [
            "Shape before flattening : torch.Size([1, 28, 28]) -> [color_channels, height, width]\n",
            "Shape after flattening : torch.Size([1, 784]) -> [color_chanels, height*width\n"
          ]
        }
      ]
    },
    {
      "cell_type": "code",
      "source": [
        "from torch import nn\n",
        "class FashionMNISTModelV0(nn.Module):\n",
        "  def __init__(self,\n",
        "               input_shape: int,\n",
        "               hidden_units: int,\n",
        "               output_shape: int):\n",
        "    super().__init__()\n",
        "    self.layer_stack = nn.Sequential(\n",
        "        nn.Flatten(),\n",
        "        nn.Linear(in_features = input_shape,\n",
        "                  out_features = hidden_units),\n",
        "        nn.Linear(in_features = hidden_units,\n",
        "                  out_features = hidden_units),\n",
        "        nn.Linear(in_features = hidden_units,\n",
        "                  out_features = output_shape)\n",
        "        \n",
        "    )\n",
        "\n",
        "\n",
        "  def forward(self, x):\n",
        "    return self.layer_stack(x)"
      ],
      "metadata": {
        "id": "n8BrnN9JLPlN"
      },
      "execution_count": 129,
      "outputs": []
    },
    {
      "cell_type": "code",
      "source": [
        "torch.manual_seed(42)\n",
        "\n",
        "device = \"cuda\" if torch.cuda.is_available() else \"cpu\"\n",
        "\n",
        "# Setup model with input parameters\n",
        "model_0 = FashionMNISTModelV0(\n",
        "    input_shape = 784,\n",
        "    hidden_units = 10,\n",
        "    output_shape = len(class_names)\n",
        ").to(device)\n",
        "\n",
        "model_0"
      ],
      "metadata": {
        "colab": {
          "base_uri": "https://localhost:8080/"
        },
        "id": "aJSfEe3fMTPV",
        "outputId": "0781730b-d9a9-49e6-8817-0838dd8d307b"
      },
      "execution_count": 130,
      "outputs": [
        {
          "output_type": "execute_result",
          "data": {
            "text/plain": [
              "FashionMNISTModelV0(\n",
              "  (layer_stack): Sequential(\n",
              "    (0): Flatten(start_dim=1, end_dim=-1)\n",
              "    (1): Linear(in_features=784, out_features=10, bias=True)\n",
              "    (2): Linear(in_features=10, out_features=10, bias=True)\n",
              "    (3): Linear(in_features=10, out_features=10, bias=True)\n",
              "  )\n",
              ")"
            ]
          },
          "metadata": {},
          "execution_count": 130
        }
      ]
    },
    {
      "cell_type": "code",
      "source": [
        "dummy_x = torch.rand([1,1,28,28]).to(device)\n",
        "model_0(dummy_x)"
      ],
      "metadata": {
        "colab": {
          "base_uri": "https://localhost:8080/"
        },
        "id": "1FPlGvgkM5ZV",
        "outputId": "fd2023ef-c366-4373-f075-55f514f1af51"
      },
      "execution_count": 131,
      "outputs": [
        {
          "output_type": "execute_result",
          "data": {
            "text/plain": [
              "tensor([[ 0.2826,  0.0491, -0.0742, -0.1099, -0.0071,  0.1045, -0.3287,  0.0522,\n",
              "          0.3119, -0.3001]], grad_fn=<AddmmBackward0>)"
            ]
          },
          "metadata": {},
          "execution_count": 131
        }
      ]
    },
    {
      "cell_type": "code",
      "source": [
        "model_0.state_dict()"
      ],
      "metadata": {
        "colab": {
          "base_uri": "https://localhost:8080/"
        },
        "id": "iqRxjktqNvQo",
        "outputId": "d1fc48fa-980e-4746-d69b-0779040fc071"
      },
      "execution_count": 132,
      "outputs": [
        {
          "output_type": "execute_result",
          "data": {
            "text/plain": [
              "OrderedDict([('layer_stack.1.weight',\n",
              "              tensor([[ 0.0273,  0.0296, -0.0084,  ..., -0.0142,  0.0093,  0.0135],\n",
              "                      [-0.0188, -0.0354,  0.0187,  ..., -0.0106, -0.0001,  0.0115],\n",
              "                      [-0.0008,  0.0017,  0.0045,  ..., -0.0127, -0.0188,  0.0059],\n",
              "                      ...,\n",
              "                      [-0.0116,  0.0273, -0.0344,  ...,  0.0176,  0.0283, -0.0011],\n",
              "                      [-0.0230,  0.0257,  0.0291,  ..., -0.0187, -0.0087,  0.0001],\n",
              "                      [ 0.0176, -0.0147,  0.0053,  ..., -0.0336, -0.0221,  0.0205]])),\n",
              "             ('layer_stack.1.bias',\n",
              "              tensor([-0.0093,  0.0283, -0.0033,  0.0255,  0.0017,  0.0037, -0.0302, -0.0123,\n",
              "                       0.0018,  0.0163])),\n",
              "             ('layer_stack.2.weight',\n",
              "              tensor([[ 0.0614, -0.0687,  0.0021,  0.2718,  0.2109,  0.1079, -0.2279, -0.1063,\n",
              "                        0.2019,  0.2847],\n",
              "                      [-0.1495,  0.1344, -0.0740,  0.2006, -0.0475, -0.2514, -0.3130, -0.0118,\n",
              "                        0.0932, -0.1864],\n",
              "                      [ 0.2488,  0.1500,  0.1907,  0.1457, -0.3050, -0.0580,  0.1643,  0.1565,\n",
              "                       -0.2877, -0.1792],\n",
              "                      [ 0.2305, -0.2618,  0.2397, -0.0610,  0.0232,  0.1542,  0.0851, -0.2027,\n",
              "                        0.1030, -0.2715],\n",
              "                      [-0.1596, -0.0555, -0.0633,  0.2302, -0.1726,  0.2654,  0.1473,  0.1029,\n",
              "                        0.2252, -0.2160],\n",
              "                      [-0.2725,  0.0118,  0.1559,  0.1596,  0.0132,  0.3024,  0.1124,  0.1366,\n",
              "                       -0.1533,  0.0965],\n",
              "                      [-0.1184, -0.2555, -0.2057, -0.1909, -0.0477, -0.1324,  0.2905,  0.1307,\n",
              "                       -0.2629,  0.0133],\n",
              "                      [ 0.2727, -0.0127,  0.0513,  0.0863, -0.1043, -0.2047, -0.1185, -0.0825,\n",
              "                        0.2488, -0.2571],\n",
              "                      [ 0.0425, -0.1209, -0.0336, -0.0281, -0.1227,  0.0730,  0.0747, -0.1816,\n",
              "                        0.1943,  0.2853],\n",
              "                      [-0.1310,  0.0645, -0.1171,  0.2168, -0.0245, -0.2820,  0.0736,  0.2621,\n",
              "                        0.0012, -0.0810]])),\n",
              "             ('layer_stack.2.bias',\n",
              "              tensor([-0.0087,  0.1791,  0.2712, -0.0791,  0.1685,  0.1762,  0.2825,  0.2266,\n",
              "                      -0.2612, -0.2613])),\n",
              "             ('layer_stack.3.weight',\n",
              "              tensor([[-0.2624,  0.1987, -0.1606,  0.1747, -0.0471, -0.1303,  0.2380, -0.0611,\n",
              "                       -0.1707, -0.0485],\n",
              "                      [-0.2011, -0.3045, -0.0554, -0.0178, -0.1802,  0.2803, -0.0706, -0.0803,\n",
              "                        0.2506,  0.0352],\n",
              "                      [-0.0744,  0.0727, -0.2857,  0.3109,  0.0834,  0.1112, -0.2332,  0.2418,\n",
              "                       -0.2599, -0.1099],\n",
              "                      [-0.2028, -0.1597,  0.0675, -0.3136, -0.3096,  0.0722,  0.1042,  0.0045,\n",
              "                       -0.1201, -0.0885],\n",
              "                      [-0.0437, -0.0641, -0.1956,  0.2380,  0.0640, -0.2116, -0.0643, -0.2288,\n",
              "                       -0.1848,  0.2402],\n",
              "                      [ 0.0965,  0.1385, -0.0410, -0.0789,  0.0409, -0.2247, -0.3147,  0.2223,\n",
              "                        0.0064,  0.1918],\n",
              "                      [ 0.2379,  0.1383, -0.1081, -0.0580, -0.0165,  0.0189,  0.0123, -0.2472,\n",
              "                       -0.1738,  0.2304],\n",
              "                      [ 0.0101, -0.1434,  0.2138, -0.0939, -0.1286,  0.2210, -0.2495, -0.1514,\n",
              "                        0.2393, -0.0309],\n",
              "                      [-0.1304,  0.2624,  0.0481, -0.2971, -0.2338, -0.0802, -0.0174, -0.2381,\n",
              "                       -0.1192,  0.1069],\n",
              "                      [-0.2949, -0.2963,  0.0822,  0.0604, -0.3054, -0.2942,  0.2627,  0.3156,\n",
              "                       -0.1382,  0.3150]])),\n",
              "             ('layer_stack.3.bias',\n",
              "              tensor([ 0.2184,  0.2811, -0.1361, -0.0774,  0.1864,  0.1173, -0.2524,  0.1893,\n",
              "                       0.3084, -0.2008]))])"
            ]
          },
          "metadata": {},
          "execution_count": 132
        }
      ]
    },
    {
      "cell_type": "markdown",
      "source": [],
      "metadata": {
        "id": "PHdGHvRdcnsL"
      }
    },
    {
      "cell_type": "markdown",
      "source": [
        "### 3.1 setup loss, optimizer and evaluation metrics\n",
        "\n",
        "* Loss function `nn.CrossEntrophy()`\n",
        "* Optimizer `torch.optim.SGD)`\n",
        "* Evaluation metric `Accuracy`"
      ],
      "metadata": {
        "id": "8dtCLUZuNpPR"
      }
    },
    {
      "cell_type": "code",
      "source": [
        "def accuracy_fn(y_true, y_pred):\n",
        "  correct = torch.eq(y_true,y_pred).sum().item()\n",
        "  return (correct/len(y_pred))*100"
      ],
      "metadata": {
        "id": "SpeN6133NU9J"
      },
      "execution_count": 133,
      "outputs": []
    },
    {
      "cell_type": "code",
      "source": [
        "import requests\n",
        "from pathlib import Path\n",
        "\n",
        "# Download helper functions from learn pytorch repo\n",
        "if Path(\"helper_functions.py\").is_file():\n",
        "  print(\"helper_function.py already exists, skiping download\")\n",
        "else:\n",
        "  print(\"Downlading helper function\")\n",
        "  request  = requests.get(\"https://raw.githubusercontent.com/mrdbourke/pytorch-deep-learning/main/helper_functions.py\")\n",
        "  with open(\"helper_functions.py\",\"wb\") as f :\n",
        "    f.write(request.content)\n",
        "\n",
        "from helper_functions import plot_predictions, plot_decision_boundary\n"
      ],
      "metadata": {
        "colab": {
          "base_uri": "https://localhost:8080/"
        },
        "id": "yIIZZ00lPJ1T",
        "outputId": "fb690375-6db3-4421-8769-5a991c74e1ee"
      },
      "execution_count": 134,
      "outputs": [
        {
          "output_type": "stream",
          "name": "stdout",
          "text": [
            "helper_function.py already exists, skiping download\n"
          ]
        }
      ]
    },
    {
      "cell_type": "code",
      "source": [
        "# Loss/optimizer function \n",
        "loss_fn = nn.CrossEntropyLoss()\n",
        "optimizer = torch.optim.SGD(params=model_0.parameters(), lr=0.1)"
      ],
      "metadata": {
        "id": "ixhE2D4FPXex"
      },
      "execution_count": 135,
      "outputs": []
    },
    {
      "cell_type": "markdown",
      "source": [
        "### 3.2 Creating a Function to time our experiments\n",
        "\n",
        "\n",
        "1. Model's performance\n",
        "2. How fast it is?"
      ],
      "metadata": {
        "id": "QnRhEwNgQbuR"
      }
    },
    {
      "cell_type": "code",
      "source": [
        "from timeit import default_timer as timer\n",
        "\n",
        "def print_train_time(start:float,\n",
        "                     end:float,\n",
        "                     device: torch.device=None):\n",
        "  \"\"\"Prints difference between start and time.\"\"\"\n",
        "  total_time = end-start\n",
        "  print(f\"Train time on {device} : {total_time:.3f} seconds\")\n",
        "\n",
        "  return total_time"
      ],
      "metadata": {
        "id": "AezGwzn3QU-g"
      },
      "execution_count": 136,
      "outputs": []
    },
    {
      "cell_type": "code",
      "source": [
        "start_time = timer()\n",
        "\n",
        "end_time = timer()\n",
        "\n",
        "print_train_time(start = start_time, end=end_time, device=\"cpu\")"
      ],
      "metadata": {
        "colab": {
          "base_uri": "https://localhost:8080/"
        },
        "id": "CcHbfb60RTeZ",
        "outputId": "3229acd4-982f-4761-d7fa-7719963f2577"
      },
      "execution_count": 137,
      "outputs": [
        {
          "output_type": "stream",
          "name": "stdout",
          "text": [
            "Train time on cpu : 0.000 seconds\n"
          ]
        },
        {
          "output_type": "execute_result",
          "data": {
            "text/plain": [
              "5.253200015431503e-05"
            ]
          },
          "metadata": {},
          "execution_count": 137
        }
      ]
    },
    {
      "cell_type": "markdown",
      "source": [
        "### 3.3 Creating training loop and testing loop\n",
        "\n",
        "1. loop through epochs\n",
        "2. loop through training batches, perform training steps, calculate the train loss per batch\n",
        "3. loop through testing batches, perform training steps, calculate the train loss per batch\n",
        "4. Print out what's happening\n",
        "5. Time it all"
      ],
      "metadata": {
        "id": "BIXdbhjkR2y-"
      }
    },
    {
      "cell_type": "code",
      "source": [
        "# Import tqdm for progress bar\n",
        "\n",
        "from tqdm.auto import tqdm\n",
        "# Set the seed and start the timer\n",
        "torch.manual_seed(42)\n",
        "train_time_start_on_cpu = timer()\n",
        "\n",
        "# Set the number of epochs\n",
        "epochs = 3\n",
        "\n",
        "\n",
        "# Create training and test loop\n",
        "\n",
        "for epoch in tqdm(range(epochs)):\n",
        "  print(f\"Epoch: {epoch} -----------\")\n",
        "\n",
        "  # Training\n",
        "  train_loss = 0\n",
        "  model_0.train()\n",
        "  for batch, (X,y) in enumerate(train_dataloader):\n",
        "  \n",
        "    X,y = X.to(device),y.to(device)\n",
        "    # forward pass\n",
        "    y_pred = model_0(X)\n",
        "\n",
        "    # Calculate loss\n",
        "    loss = loss_fn(y_pred, y)\n",
        "    train_loss += loss\n",
        "\n",
        "    # Optimizer zero grad\n",
        "    optimizer.zero_grad()\n",
        "\n",
        "    # Loss backward\n",
        "    loss.backward()\n",
        "\n",
        "    # optimizer step\n",
        "    optimizer.step()\n",
        "\n",
        "    #Print out what's happening\n",
        "    if(batch%400 ==0):\n",
        "      print(f\"Looked at {batch*len(X)} / {len(train_dataloader.dataset)} samples\")\n",
        "\n",
        "  # Devide total train loss by length of train data_loader\n",
        "  train_loss /= len(train_dataloader)\n",
        "\n",
        "  ### Testing\n",
        "  test_loss, test_acc = 0, 0\n",
        "  model_0.eval()\n",
        "  with torch.inference_mode():\n",
        "    for X,y in test_dataloader:\n",
        "      X,y = X.to(device),y.to(device)\n",
        "      \n",
        "      test_pred = model_0(X)\n",
        "\n",
        "      test_loss += loss_fn(test_pred, y)\n",
        "\n",
        "      test_acc += accuracy_fn(y_true = y, y_pred = test_pred.argmax(dim=1))\n",
        "\n",
        "    # Calculate the test loss average per batch\n",
        "    test_loss /= len(test_dataloader)\n",
        "\n",
        "    # Calculate the test scc average per batch\n",
        "    test_acc /= len(test_dataloader)\n",
        "\n",
        "  print(f\"Train loss : {train_loss:.4f}     Test loss: {test_loss:.4f}    Test accuracy : {test_acc:.4f}\")\n",
        "\n",
        "  train_time_end_on_cpu = timer()\n",
        "\n",
        "  total_train_time_on_cpu  = print_train_time(train_time_start_on_cpu, train_time_end_on_cpu, device = str(next(model_0.parameters())))\n",
        "\n",
        "\n",
        "\n"
      ],
      "metadata": {
        "colab": {
          "base_uri": "https://localhost:8080/",
          "height": 883,
          "referenced_widgets": [
            "6728b8d928444b3785e1e6856eeb24aa",
            "b9dce18209b348d09fad2f00abb01f5a",
            "5f446d013eeb4fdfa2ab83bc2db3ab95",
            "d54eb9e3b88c4598bef733cdc436f291",
            "a74ac08db5c348c98520d740efc772da",
            "43804236cfd24263bd84426f14b71768",
            "5d6abc51fa3d425ba95e85b4cce658f2",
            "4a6e0f48b5b4437bad78cfd8550f7db0",
            "529ef09fe6474b5ca4bfeb444fc91d73",
            "b0ee3591aaa2453a8f7e84790afa8ec2",
            "dee9c0c89f224a498f79740680469605"
          ]
        },
        "id": "tjCGe68ORnty",
        "outputId": "4bd0260d-7496-4827-b304-b007605b6589"
      },
      "execution_count": 138,
      "outputs": [
        {
          "output_type": "display_data",
          "data": {
            "text/plain": [
              "  0%|          | 0/3 [00:00<?, ?it/s]"
            ],
            "application/vnd.jupyter.widget-view+json": {
              "version_major": 2,
              "version_minor": 0,
              "model_id": "6728b8d928444b3785e1e6856eeb24aa"
            }
          },
          "metadata": {}
        },
        {
          "output_type": "stream",
          "name": "stdout",
          "text": [
            "Epoch: 0 -----------\n",
            "Looked at 0 / 60000 samples\n",
            "Looked at 12800 / 60000 samples\n",
            "Looked at 25600 / 60000 samples\n",
            "Looked at 38400 / 60000 samples\n",
            "Looked at 51200 / 60000 samples\n",
            "Train loss : 0.6355     Test loss: 0.5304    Test accuracy : 80.7907\n",
            "Train time on Parameter containing:\n",
            "tensor([[ 0.0273,  0.0295, -0.0098,  ...,  0.0039,  0.0191,  0.0135],\n",
            "        [-0.0188, -0.0357,  0.0164,  ..., -0.0165, -0.0033,  0.0101],\n",
            "        [-0.0008,  0.0015,  0.0033,  ...,  0.0166, -0.0085,  0.0070],\n",
            "        ...,\n",
            "        [-0.0116,  0.0270, -0.0352,  ..., -0.0025,  0.0175, -0.0025],\n",
            "        [-0.0230,  0.0258,  0.0294,  ...,  0.0204,  0.0088,  0.0012],\n",
            "        [ 0.0176, -0.0147,  0.0045,  ..., -0.0530, -0.0303,  0.0190]],\n",
            "       requires_grad=True) : 9.981 seconds\n",
            "Epoch: 1 -----------\n",
            "Looked at 0 / 60000 samples\n",
            "Looked at 12800 / 60000 samples\n",
            "Looked at 25600 / 60000 samples\n",
            "Looked at 38400 / 60000 samples\n",
            "Looked at 51200 / 60000 samples\n",
            "Train loss : 0.4999     Test loss: 0.4911    Test accuracy : 82.6278\n",
            "Train time on Parameter containing:\n",
            "tensor([[ 0.0273,  0.0295, -0.0103,  ...,  0.0143,  0.0279,  0.0147],\n",
            "        [-0.0189, -0.0360,  0.0136,  ..., -0.0254, -0.0094,  0.0089],\n",
            "        [-0.0009,  0.0014,  0.0023,  ...,  0.0286, -0.0019,  0.0080],\n",
            "        ...,\n",
            "        [-0.0115,  0.0268, -0.0358,  ..., -0.0025,  0.0170, -0.0028],\n",
            "        [-0.0231,  0.0258,  0.0294,  ...,  0.0245,  0.0126,  0.0011],\n",
            "        [ 0.0176, -0.0147,  0.0039,  ..., -0.0570, -0.0316,  0.0181]],\n",
            "       requires_grad=True) : 19.361 seconds\n",
            "Epoch: 2 -----------\n",
            "Looked at 0 / 60000 samples\n",
            "Looked at 12800 / 60000 samples\n",
            "Looked at 25600 / 60000 samples\n",
            "Looked at 38400 / 60000 samples\n",
            "Looked at 51200 / 60000 samples\n",
            "Train loss : 0.4741     Test loss: 0.4989    Test accuracy : 82.8574\n",
            "Train time on Parameter containing:\n",
            "tensor([[ 0.0274,  0.0295, -0.0113,  ...,  0.0241,  0.0369,  0.0158],\n",
            "        [-0.0189, -0.0363,  0.0111,  ..., -0.0362, -0.0138,  0.0080],\n",
            "        [-0.0009,  0.0011,  0.0009,  ...,  0.0393,  0.0065,  0.0092],\n",
            "        ...,\n",
            "        [-0.0115,  0.0265, -0.0366,  ..., -0.0034,  0.0184, -0.0026],\n",
            "        [-0.0232,  0.0259,  0.0292,  ...,  0.0265,  0.0148,  0.0006],\n",
            "        [ 0.0176, -0.0146,  0.0034,  ..., -0.0716, -0.0348,  0.0167]],\n",
            "       requires_grad=True) : 30.788 seconds\n"
          ]
        }
      ]
    },
    {
      "cell_type": "code",
      "source": [
        "next(model_0.parameters()).device"
      ],
      "metadata": {
        "colab": {
          "base_uri": "https://localhost:8080/"
        },
        "id": "2FvXp05TWypq",
        "outputId": "92de150e-420a-4295-f19d-cb7f25bd2100"
      },
      "execution_count": 139,
      "outputs": [
        {
          "output_type": "execute_result",
          "data": {
            "text/plain": [
              "device(type='cpu')"
            ]
          },
          "metadata": {},
          "execution_count": 139
        }
      ]
    },
    {
      "cell_type": "markdown",
      "source": [
        "## 04. Make predictions and get Model 0 results\n"
      ],
      "metadata": {
        "id": "QoY33L6nXtJ4"
      }
    },
    {
      "cell_type": "code",
      "source": [
        "torch.manual_seed(42)\n",
        "def eval_model(model: torch.nn.Module,\n",
        "               dataloader: torch.utils.data.DataLoader,\n",
        "               loss_fn,\n",
        "               accuracy_fn):\n",
        "  \"\"\" Return a dictionary containing the results of model predicting on data_loader. \"\"\"\n",
        "\n",
        "  loss, acc = 0, 0\n",
        "  model.eval()\n",
        "  with torch.inference_mode():\n",
        "    for X, y in dataloader:\n",
        "      X,y = X.to(device),y.to(device)\n",
        "\n",
        "      # Make predictions\n",
        "      y_pred = model(X)\n",
        "\n",
        "      #Accumulate the loss and acc values per batch\n",
        "      loss += loss_fn(y_pred, y)\n",
        "      acc += accuracy_fn(y, y_pred.argmax(dim=1))\n",
        "\n",
        "    # Scale loss and acc to find the average loss/acc per batch\n",
        "    loss /= len(dataloader)\n",
        "    acc /= len(dataloader)\n",
        "\n",
        "  return {\"model_name\": model.__class__.__name__,\n",
        "         \"model_loss\" : loss.item(),\n",
        "         \"model_accuracy\" : acc}\n",
        "\n",
        "\n",
        "model_0_results = eval_model(model = model_0,\n",
        "                            dataloader = test_dataloader,\n",
        "                            loss_fn = loss_fn,\n",
        "                            accuracy_fn = accuracy_fn)\n",
        "\n",
        "model_0_results"
      ],
      "metadata": {
        "colab": {
          "base_uri": "https://localhost:8080/"
        },
        "id": "EQsasKPWXHcl",
        "outputId": "22e176ef-784d-49b9-bb6a-70924f4d0aff"
      },
      "execution_count": 140,
      "outputs": [
        {
          "output_type": "execute_result",
          "data": {
            "text/plain": [
              "{'model_name': 'FashionMNISTModelV0',\n",
              " 'model_loss': 0.49889200925827026,\n",
              " 'model_accuracy': 82.85742811501598}"
            ]
          },
          "metadata": {},
          "execution_count": 140
        }
      ]
    },
    {
      "cell_type": "markdown",
      "source": [
        "## 5. device agnostic code "
      ],
      "metadata": {
        "id": "ubGZyJsWcXsu"
      }
    },
    {
      "cell_type": "code",
      "source": [
        "\n",
        "device = \"cuda\" if torch.cuda.is_available() else \"cpu\"\n"
      ],
      "metadata": {
        "id": "Afjwerm9bUnM"
      },
      "execution_count": 141,
      "outputs": []
    },
    {
      "cell_type": "markdown",
      "source": [
        "## 06 Model 1: Building a better model with non -linearity"
      ],
      "metadata": {
        "id": "1RnzwDd-OFko"
      }
    },
    {
      "cell_type": "code",
      "source": [
        "# Create a model with non-linear and linear layers\n",
        "class FashionMNISTV1(nn.Module):\n",
        "\n",
        "  def __init__(self,\n",
        "               input_shape:int,\n",
        "               hidden_units:int,\n",
        "               output_shape: int):\n",
        "    super().__init__()\n",
        "    self.layer_stack = nn.Sequential(\n",
        "        nn.Flatten(),\n",
        "        nn.Linear(in_features = input_shape, out_features = hidden_units),\n",
        "        # nn.ReLU(),\n",
        "        nn.Linear(in_features = hidden_units, out_features = output_shape),\n",
        "        # nn.ReLU()\n",
        "    )\n",
        "\n",
        "  def forward(self, x: torch.Tensor):\n",
        "    return self.layer_stack(x)\n"
      ],
      "metadata": {
        "id": "yjOhVQsxcT7x"
      },
      "execution_count": 142,
      "outputs": []
    },
    {
      "cell_type": "code",
      "source": [
        "from torchvision.datasets.mnist import FashionMNIST\n",
        "# Create an instanc of model_1\n",
        "torch.manual_seed(42)\n",
        "model_1 = FashionMNISTV1(input_shape=784, hidden_units=10, output_shape = len(class_names)).to(device)"
      ],
      "metadata": {
        "id": "AQIPT-LSPOpf"
      },
      "execution_count": 143,
      "outputs": []
    },
    {
      "cell_type": "code",
      "source": [
        "model_1"
      ],
      "metadata": {
        "colab": {
          "base_uri": "https://localhost:8080/"
        },
        "id": "NkKWd4IlPqdW",
        "outputId": "6bf38478-042e-4c8a-ec63-71c96f322564"
      },
      "execution_count": 144,
      "outputs": [
        {
          "output_type": "execute_result",
          "data": {
            "text/plain": [
              "FashionMNISTV1(\n",
              "  (layer_stack): Sequential(\n",
              "    (0): Flatten(start_dim=1, end_dim=-1)\n",
              "    (1): Linear(in_features=784, out_features=10, bias=True)\n",
              "    (2): Linear(in_features=10, out_features=10, bias=True)\n",
              "  )\n",
              ")"
            ]
          },
          "metadata": {},
          "execution_count": 144
        }
      ]
    },
    {
      "cell_type": "code",
      "source": [
        "from torch.optim.optimizer import Optimizer\n",
        "from helper_functions import accuracy_fn\n",
        "loss_fn = nn.CrossEntropyLoss()\n",
        "optimizer = torch.optim.SGD(params = model_1.parameters(), lr=0.1)"
      ],
      "metadata": {
        "id": "XCSHHjcHP5TF"
      },
      "execution_count": 145,
      "outputs": []
    },
    {
      "cell_type": "markdown",
      "source": [
        "### 6.1 Functionizing training and testing\n",
        "\n",
        "trainig_loop  - `train_step`\n",
        "\n",
        "testing_loop - `test_step`"
      ],
      "metadata": {
        "id": "NRwC3b8XRC2L"
      }
    },
    {
      "cell_type": "code",
      "source": [
        "\n",
        "from tqdm.auto import tqdm\n",
        "def train_step(model:torch.nn.Module,\n",
        "               data_loader: torch.utils.data.DataLoader,\n",
        "               loss_fn : torch.nn.Module,\n",
        "               optimizer: torch.optim.Optimizer,\n",
        "               accuracy_fn,\n",
        "               device : torch.device = device):\n",
        "  \"\"\" Perform a training with model trying to learn data_loader\"\"\"\n",
        "\n",
        "\n",
        "\n",
        "    # Training mode \n",
        "  model.train()\n",
        "\n",
        "  train_loss, train_acc = 0, 0\n",
        "\n",
        "  for batch, (X,y) in enumerate(data_loader):\n",
        "    \n",
        "\n",
        "    X,y = X.to(device), y.to(device)\n",
        "\n",
        "    # forward pass\n",
        "    y_pred = model(X)\n",
        "\n",
        "    # Calculate loss\n",
        "    loss = loss_fn(y_pred, y)\n",
        "    train_loss += loss\n",
        "    train_acc += accuracy_fn(y_true=y, \n",
        "                              y_pred=y_pred.argmax(dim=1))\n",
        "\n",
        "    # Optimizer zero grad\n",
        "    optimizer.zero_grad()\n",
        "\n",
        "    # Loss backward\n",
        "    loss.backward()\n",
        "\n",
        "    # optimizer step\n",
        "    optimizer.step()\n",
        "\n",
        "    #Print out what's happening\n",
        "    if(batch%400 ==0):\n",
        "      print(f\"Looked at {batch*len(X)} / {len(data_loader.dataset)} samples\")\n",
        "\n",
        "  # Devide total train loss by length of train data_loader\n",
        "  train_loss /= len(data_loader)\n",
        "  train_acc /= len(data_loader)\n",
        "\n",
        "  print(f\"Train loss : {train_loss:.4f}     Train accuracy : {train_acc:.4f}\")\n",
        "\n"
      ],
      "metadata": {
        "id": "mGsrbrcfQvWD"
      },
      "execution_count": 146,
      "outputs": []
    },
    {
      "cell_type": "code",
      "source": [
        "def test_step(model : torch.nn.Module,\n",
        "              data_loader : torch.utils.data.DataLoader,\n",
        "              loss_fn : torch.nn.Module,\n",
        "              optimizer: torch.optim.Optimizer,\n",
        "              accuracy_fn,\n",
        "              device: torch.device = device):\n",
        "  \"\"\" Performs a testing loop step on model going over data_loader\"\"\"\n",
        "\n",
        "  test_loss, test_acc = 0, 0\n",
        "\n",
        "  # Put the model in eval model\n",
        "  model.eval()\n",
        "\n",
        "  with torch.inference_mode():\n",
        "    for  (X,y) in data_loader:\n",
        "      X,y = X.to(device),y.to(device)\n",
        "\n",
        "\n",
        "      # Send the data to the target device\n",
        "\n",
        "      # 1. Forward pass(outputs raw objects)\n",
        "      test_pred = model(X)\n",
        "\n",
        "      # 2. Calculate the loss/acc\n",
        "      test_loss += loss_fn(test_pred, y)\n",
        "      test_acc += accuracy_fn(y_true=y, y_pred = test_pred.argmax(dim=1))\n",
        "\n",
        "    test_acc /= len(data_loader)\n",
        "    test_loss /= len(data_loader)\n",
        "\n",
        "    print(f\"Test loss : {test_loss:.4f}     Test accuracy : {test_acc:.4f}\")\n"
      ],
      "metadata": {
        "id": "w_S2knf0TYd3"
      },
      "execution_count": 147,
      "outputs": []
    },
    {
      "cell_type": "code",
      "source": [
        "loss_fn"
      ],
      "metadata": {
        "colab": {
          "base_uri": "https://localhost:8080/"
        },
        "id": "pryGtnJmgK86",
        "outputId": "a97e3944-34ff-4bfd-d2a0-c2f7e14189c3"
      },
      "execution_count": 148,
      "outputs": [
        {
          "output_type": "execute_result",
          "data": {
            "text/plain": [
              "CrossEntropyLoss()"
            ]
          },
          "metadata": {},
          "execution_count": 148
        }
      ]
    },
    {
      "cell_type": "code",
      "source": [
        "torch.manual_seed(42)\n",
        "\n",
        "# Measure time \n",
        "from timeit import default_timer as timer\n",
        "train_time_start_on_GPU = timer()\n",
        "\n",
        "\n",
        "# Set epochs\n",
        "epochs = 3\n",
        "\n",
        "# Create a optimization and evaluation loop using train_step() and test_step()\n",
        "\n",
        "for epoch in tqdm(range(epochs)):\n",
        "  print(f\"Epoch: {epoch} ------------------\")\n",
        "  print(model_1.state_dict())\n",
        "  train_step(model = model_1,\n",
        "             data_loader = train_dataloader,\n",
        "             loss_fn= loss_fn,\n",
        "             optimizer = optimizer,\n",
        "             accuracy_fn = accuracy_fn,\n",
        "             device  = device)\n",
        "  \n",
        "  test_step(model = model_1,\n",
        "             data_loader = test_dataloader,\n",
        "             loss_fn= loss_fn,\n",
        "             optimizer = optimizer,\n",
        "             accuracy_fn = accuracy_fn,\n",
        "             device  = device)\n",
        "  \n",
        "train_time_end_on_GPU = timer()\n",
        "\n",
        "total_train_time_model_1_on_cpu = print_train_time(start = train_time_start_on_GPU,\n",
        "                 end = train_time_end_on_GPU,\n",
        "                 device = device)\n",
        "\n"
      ],
      "metadata": {
        "colab": {
          "base_uri": "https://localhost:8080/",
          "height": 1000,
          "referenced_widgets": [
            "ec27aa2086864716b1f8d1c3d3b79fb0",
            "6f5ef551689b4acaaedb4c1adb222a6d",
            "11c7415fa32e4572925490b97a39de49",
            "23997f31bd4a4ef4b54d691064ddd745",
            "169aed0894a8490fba089d660f901483",
            "2067e9e0839f4facba309243e3bde238",
            "2f1c85ebbe9b4c8fbcaf7764c9a2246b",
            "0c7cf1f5302c47a89605584b9a25e23d",
            "7043edfa216b4f9eba46e795390b83d2",
            "22f5ac74ea6c4607864439f37e587850",
            "9277ee6067b54ad0ae744ce14ebcbff3"
          ]
        },
        "id": "TO8bx1nHVwye",
        "outputId": "20bd34b1-a330-41af-8608-4c9837b4bda8"
      },
      "execution_count": 149,
      "outputs": [
        {
          "output_type": "display_data",
          "data": {
            "text/plain": [
              "  0%|          | 0/3 [00:00<?, ?it/s]"
            ],
            "application/vnd.jupyter.widget-view+json": {
              "version_major": 2,
              "version_minor": 0,
              "model_id": "ec27aa2086864716b1f8d1c3d3b79fb0"
            }
          },
          "metadata": {}
        },
        {
          "output_type": "stream",
          "name": "stdout",
          "text": [
            "Epoch: 0 ------------------\n",
            "OrderedDict([('layer_stack.1.weight', tensor([[ 0.0273,  0.0296, -0.0084,  ..., -0.0142,  0.0093,  0.0135],\n",
            "        [-0.0188, -0.0354,  0.0187,  ..., -0.0106, -0.0001,  0.0115],\n",
            "        [-0.0008,  0.0017,  0.0045,  ..., -0.0127, -0.0188,  0.0059],\n",
            "        ...,\n",
            "        [-0.0116,  0.0273, -0.0344,  ...,  0.0176,  0.0283, -0.0011],\n",
            "        [-0.0230,  0.0257,  0.0291,  ..., -0.0187, -0.0087,  0.0001],\n",
            "        [ 0.0176, -0.0147,  0.0053,  ..., -0.0336, -0.0221,  0.0205]])), ('layer_stack.1.bias', tensor([-0.0093,  0.0283, -0.0033,  0.0255,  0.0017,  0.0037, -0.0302, -0.0123,\n",
            "         0.0018,  0.0163])), ('layer_stack.2.weight', tensor([[ 0.0614, -0.0687,  0.0021,  0.2718,  0.2109,  0.1079, -0.2279, -0.1063,\n",
            "          0.2019,  0.2847],\n",
            "        [-0.1495,  0.1344, -0.0740,  0.2006, -0.0475, -0.2514, -0.3130, -0.0118,\n",
            "          0.0932, -0.1864],\n",
            "        [ 0.2488,  0.1500,  0.1907,  0.1457, -0.3050, -0.0580,  0.1643,  0.1565,\n",
            "         -0.2877, -0.1792],\n",
            "        [ 0.2305, -0.2618,  0.2397, -0.0610,  0.0232,  0.1542,  0.0851, -0.2027,\n",
            "          0.1030, -0.2715],\n",
            "        [-0.1596, -0.0555, -0.0633,  0.2302, -0.1726,  0.2654,  0.1473,  0.1029,\n",
            "          0.2252, -0.2160],\n",
            "        [-0.2725,  0.0118,  0.1559,  0.1596,  0.0132,  0.3024,  0.1124,  0.1366,\n",
            "         -0.1533,  0.0965],\n",
            "        [-0.1184, -0.2555, -0.2057, -0.1909, -0.0477, -0.1324,  0.2905,  0.1307,\n",
            "         -0.2629,  0.0133],\n",
            "        [ 0.2727, -0.0127,  0.0513,  0.0863, -0.1043, -0.2047, -0.1185, -0.0825,\n",
            "          0.2488, -0.2571],\n",
            "        [ 0.0425, -0.1209, -0.0336, -0.0281, -0.1227,  0.0730,  0.0747, -0.1816,\n",
            "          0.1943,  0.2853],\n",
            "        [-0.1310,  0.0645, -0.1171,  0.2168, -0.0245, -0.2820,  0.0736,  0.2621,\n",
            "          0.0012, -0.0810]])), ('layer_stack.2.bias', tensor([-0.0087,  0.1791,  0.2712, -0.0791,  0.1685,  0.1762,  0.2825,  0.2266,\n",
            "        -0.2612, -0.2613]))])\n",
            "Looked at 0 / 60000 samples\n",
            "Looked at 12800 / 60000 samples\n",
            "Looked at 25600 / 60000 samples\n",
            "Looked at 38400 / 60000 samples\n",
            "Looked at 51200 / 60000 samples\n",
            "Train loss : 0.5904     Train accuracy : 79.1717\n",
            "Test loss : 0.5095     Test accuracy : 82.0387\n",
            "Epoch: 1 ------------------\n",
            "OrderedDict([('layer_stack.1.weight', tensor([[ 0.0273,  0.0297, -0.0080,  ..., -0.0104,  0.0050,  0.0144],\n",
            "        [-0.0188, -0.0354,  0.0177,  ...,  0.0114,  0.0093,  0.0119],\n",
            "        [-0.0008,  0.0018,  0.0042,  ...,  0.0068, -0.0097,  0.0075],\n",
            "        ...,\n",
            "        [-0.0116,  0.0273, -0.0342,  ...,  0.0374,  0.0381, -0.0002],\n",
            "        [-0.0230,  0.0255,  0.0274,  ..., -0.0542, -0.0248, -0.0033],\n",
            "        [ 0.0176, -0.0146,  0.0049,  ..., -0.0689, -0.0360,  0.0173]])), ('layer_stack.1.bias', tensor([-0.2120,  0.2046,  0.8748, -0.4522,  0.4008,  0.4436, -0.2043,  0.1143,\n",
            "        -0.2704,  0.7532])), ('layer_stack.2.weight', tensor([[ 0.2426, -0.4816, -0.1609,  0.3936,  0.4591,  0.6387, -0.1497, -0.2214,\n",
            "         -0.1715,  0.3314],\n",
            "        [-0.4431,  0.3329, -0.2944,  0.2429, -0.0863, -0.1608, -1.0436, -0.5061,\n",
            "         -0.2000, -0.7695],\n",
            "        [ 0.6380, -0.0690, -0.0899,  0.2550, -0.3222,  0.5014,  0.2255, -0.1266,\n",
            "         -0.5794, -0.1025],\n",
            "        [ 0.3474, -0.5167,  0.6111, -0.1736,  0.3023,  0.2729,  0.1191, -0.4398,\n",
            "          0.1042, -0.4744],\n",
            "        [ 0.0688, -0.3218, -0.3520,  0.2372, -0.3975,  0.8195,  0.4114, -0.1212,\n",
            "          0.0168, -0.5262],\n",
            "        [-1.0904,  0.8257,  1.1233, -0.1070, -0.0707, -0.1665, -0.0224,  0.9127,\n",
            "          0.1104,  0.5595],\n",
            "        [ 0.1875, -0.5052, -0.4278, -0.2974,  0.1123,  0.5892,  0.4520, -0.0274,\n",
            "         -0.4584,  0.1039],\n",
            "        [ 0.4063,  0.4268,  0.0810, -0.1153, -0.1585, -1.1187, -0.5142,  0.4995,\n",
            "          0.8621, -0.2482],\n",
            "        [ 0.0912, -0.1342, -0.1904, -0.0767, -0.6136,  0.0346,  0.5169, -0.4703,\n",
            "          0.4526,  0.8574],\n",
            "        [-0.4234,  0.0286, -0.1541,  0.6724,  0.1981, -1.4359,  0.2934,  0.7043,\n",
            "          0.2271, -0.2429]])), ('layer_stack.2.bias', tensor([ 0.1693, -0.0117,  0.2716,  0.1341, -0.4132,  1.0189,  0.6867,  0.0941,\n",
            "        -0.4015, -0.8545]))])\n",
            "Looked at 0 / 60000 samples\n",
            "Looked at 12800 / 60000 samples\n",
            "Looked at 25600 / 60000 samples\n",
            "Looked at 38400 / 60000 samples\n",
            "Looked at 51200 / 60000 samples\n",
            "Train loss : 0.4763     Train accuracy : 83.3200\n",
            "Test loss : 0.4799     Test accuracy : 83.1969\n",
            "Epoch: 2 ------------------\n",
            "OrderedDict([('layer_stack.1.weight', tensor([[ 0.0273,  0.0297, -0.0073,  ..., -0.0060,  0.0050,  0.0154],\n",
            "        [-0.0189, -0.0355,  0.0165,  ...,  0.0121,  0.0104,  0.0117],\n",
            "        [-0.0008,  0.0019,  0.0037,  ...,  0.0070, -0.0110,  0.0082],\n",
            "        ...,\n",
            "        [-0.0116,  0.0273, -0.0333,  ...,  0.0440,  0.0412,  0.0002],\n",
            "        [-0.0230,  0.0254,  0.0253,  ..., -0.0701, -0.0322, -0.0052],\n",
            "        [ 0.0176, -0.0148,  0.0035,  ..., -0.0940, -0.0521,  0.0148]])), ('layer_stack.1.bias', tensor([-0.0835,  0.2062,  1.1319, -0.6285,  0.5315,  0.5095, -0.2712,  0.1423,\n",
            "        -0.2118,  0.9289])), ('layer_stack.2.weight', tensor([[ 0.3653, -0.4552, -0.1992,  0.4420,  0.4018,  0.6664, -0.1846, -0.2273,\n",
            "         -0.1479,  0.3404],\n",
            "        [-0.4962,  0.2504, -0.3979,  0.1953, -0.0674, -0.1297, -1.0034, -0.6037,\n",
            "         -0.2733, -0.8031],\n",
            "        [ 0.6879, -0.1306, -0.0635,  0.2630, -0.3104,  0.6045,  0.2021, -0.2263,\n",
            "         -0.5731, -0.1673],\n",
            "        [ 0.3092, -0.5523,  0.5296, -0.1476,  0.2949,  0.3542,  0.1383, -0.4783,\n",
            "          0.0553, -0.4623],\n",
            "        [ 0.1722, -0.3291, -0.3252,  0.1707, -0.3850,  0.9782,  0.4014, -0.1606,\n",
            "         -0.0706, -0.4632],\n",
            "        [-1.1661,  0.8795,  1.1776, -0.1327, -0.0804, -0.3137,  0.0883,  1.1236,\n",
            "          0.1632,  0.5298],\n",
            "        [ 0.2295, -0.5177, -0.4277, -0.2466,  0.0907,  0.6189,  0.3924, -0.1499,\n",
            "         -0.4673,  0.0759],\n",
            "        [ 0.3549,  0.4930,  0.1374, -0.2309, -0.0472, -1.2021, -0.5719,  0.7080,\n",
            "          0.9834, -0.0912],\n",
            "        [ 0.0746, -0.1348, -0.1958,  0.0181, -0.6732,  0.0283,  0.5249, -0.5825,\n",
            "          0.3985,  0.8004],\n",
            "        [-0.5063,  0.0823, -0.0894,  0.6998,  0.1992, -1.6304,  0.3009,  0.8008,\n",
            "          0.2955, -0.2710]])), ('layer_stack.2.bias', tensor([ 0.2168, -0.1131,  0.3483,  0.2499, -0.5841,  1.0160,  0.8169,  0.1507,\n",
            "        -0.3828, -1.0249]))])\n",
            "Looked at 0 / 60000 samples\n",
            "Looked at 12800 / 60000 samples\n",
            "Looked at 25600 / 60000 samples\n",
            "Looked at 38400 / 60000 samples\n",
            "Looked at 51200 / 60000 samples\n",
            "Train loss : 0.4550     Train accuracy : 84.0517\n",
            "Test loss : 0.4766     Test accuracy : 83.4265\n",
            "Train time on cpu : 48.229 seconds\n"
          ]
        }
      ]
    },
    {
      "cell_type": "code",
      "source": [
        "model_1_results = eval_model(model = model_1,\n",
        "                             dataloader = test_dataloader,\n",
        "                             loss_fn = loss_fn,\n",
        "                             accuracy_fn = accuracy_fn\n",
        "                            )\n",
        "model_1_results"
      ],
      "metadata": {
        "colab": {
          "base_uri": "https://localhost:8080/"
        },
        "id": "1W5y8hVuXMIZ",
        "outputId": "a94a0749-eff9-4bc5-c069-d82c60981c61"
      },
      "execution_count": 150,
      "outputs": [
        {
          "output_type": "execute_result",
          "data": {
            "text/plain": [
              "{'model_name': 'FashionMNISTV1',\n",
              " 'model_loss': 0.47663894295692444,\n",
              " 'model_accuracy': 83.42651757188499}"
            ]
          },
          "metadata": {},
          "execution_count": 150
        }
      ]
    },
    {
      "cell_type": "markdown",
      "source": [
        "## 07 Model 2 : Building a Convolutional Neural Network(CNN)\n",
        "\n",
        "CNN's are known for their capbabilities to find patterns in visual data"
      ],
      "metadata": {
        "id": "xFvxgySuqwZU"
      }
    },
    {
      "cell_type": "code",
      "source": [
        "# Create a convolutional nn\n",
        "\n",
        "class FashionMNISTModelV2(nn.Module):\n",
        "  \"\"\" \n",
        "  Model architecture that replicateds the TinyVGG\n",
        "  model from CNN explianer website\n",
        "  \"\"\"\n",
        "\n",
        "\n",
        "  def __init__(self, input_shape: int, hidden_units:int, output_shape: int):\n",
        "    super().__init__()\n",
        "    self.Conv_block_1 = nn.Sequential(\n",
        "        nn.Conv2d(in_channels = input_shape,\n",
        "                  out_channels = hidden_units,\n",
        "                  kernel_size = 3,\n",
        "                  stride=1,\n",
        "                  padding=1), # values we can set ourselves in our NN's are called hyper parametes\n",
        "    \n",
        "      nn.ReLU(),\n",
        "      nn.Conv2d(in_channels = hidden_units,\n",
        "                  out_channels = hidden_units,\n",
        "                  kernel_size = 3,\n",
        "                  stride=1,\n",
        "                  padding=1),\n",
        "      nn.ReLU(),\n",
        "      nn.MaxPool2d(kernel_size = 2)\n",
        "    )\n",
        "\n",
        "    self.conv_block_2 = nn.Sequential(\n",
        "        nn.Conv2d(in_channels = hidden_units,\n",
        "                  out_channels = hidden_units,\n",
        "                  kernel_size = 3,\n",
        "                  stride=1,\n",
        "                  padding=1), # values we can set ourselves in our NN's are called hyper parametes\n",
        "    \n",
        "      nn.ReLU(),\n",
        "      nn.Conv2d(in_channels = hidden_units,\n",
        "                  out_channels = hidden_units,\n",
        "                  kernel_size = 3,\n",
        "                  stride=1,\n",
        "                  padding=1),\n",
        "      nn.ReLU(),\n",
        "      nn.MaxPool2d(kernel_size = 2)\n",
        "    )\n",
        "\n",
        "    self.classifier = nn.Sequential(\n",
        "        nn.Flatten(),\n",
        "        nn.Linear(in_features = hidden_units*7*7,\n",
        "                  out_features = output_shape)\n",
        "    )\n",
        "\n",
        "\n",
        "  def forward(self,x):\n",
        "    x = self.Conv_block_1(x)\n",
        "    # print(\"Output shape of conv_block_1\", x.shape)\n",
        "    x = self.conv_block_2(x)\n",
        "    # print(\"Output shape of conv_block_2\",x.shape)\n",
        "    x = self.classifier(x)\n",
        "    # print(\"Output shape of classifier\",x.shape)\n",
        "\n",
        "    return x\n",
        "\n",
        "\n",
        "\n",
        "\n"
      ],
      "metadata": {
        "id": "d9iinrYtb45H"
      },
      "execution_count": 151,
      "outputs": []
    },
    {
      "cell_type": "code",
      "source": [
        "torch.manual_seed(42)\n",
        "\n",
        "model_2 = FashionMNISTModelV2(input_shape =1 , output_shape = len(class_names), hidden_units =10).to(device)"
      ],
      "metadata": {
        "id": "bRhG0cMOteDw"
      },
      "execution_count": 152,
      "outputs": []
    },
    {
      "cell_type": "markdown",
      "source": [
        "### 7.1 stepping through `nn.Conv2d`"
      ],
      "metadata": {
        "id": "iyymYshIwV3n"
      }
    },
    {
      "cell_type": "code",
      "source": [
        "torch.manual_seed(42)\n",
        "\n",
        "# Create a bratch of images\n",
        "\n",
        "images = torch.randn(size=(32,3,64,64))\n",
        "\n",
        "print(f\"Image batch shape: {images.shape} \")\n",
        "print(f\"dingle image shape: {images[0].shape} \")"
      ],
      "metadata": {
        "colab": {
          "base_uri": "https://localhost:8080/"
        },
        "id": "EJ76W67VvNXv",
        "outputId": "8f32a23a-d096-4626-d68e-057fb3eac8c3"
      },
      "execution_count": 153,
      "outputs": [
        {
          "output_type": "stream",
          "name": "stdout",
          "text": [
            "Image batch shape: torch.Size([32, 3, 64, 64]) \n",
            "dingle image shape: torch.Size([3, 64, 64]) \n"
          ]
        }
      ]
    },
    {
      "cell_type": "code",
      "source": [
        "# Create a single conv2d layer\n",
        "\n",
        "conv_layer = nn.Conv2d(in_channels = 3,\n",
        "                       out_channels = 10,\n",
        "                       kernel_size =3,\n",
        "                       stride = 1,\n",
        "                       padding = 1\n",
        "                       )\n",
        "\n",
        "\n",
        "# Pass the data through the convolutioanal layer\n",
        "conv_output = conv_layer(images[0].unsqueeze(0))\n",
        "conv_output.shape"
      ],
      "metadata": {
        "colab": {
          "base_uri": "https://localhost:8080/"
        },
        "id": "r_NA3FZDxpfo",
        "outputId": "15e33081-9324-43ed-fdc8-6dd1923f6095"
      },
      "execution_count": 154,
      "outputs": [
        {
          "output_type": "execute_result",
          "data": {
            "text/plain": [
              "torch.Size([1, 10, 64, 64])"
            ]
          },
          "metadata": {},
          "execution_count": 154
        }
      ]
    },
    {
      "cell_type": "markdown",
      "source": [
        "### 7.1 stepping through `nn.MaxPool2d`"
      ],
      "metadata": {
        "id": "_qe4NQv_zfZ7"
      }
    },
    {
      "cell_type": "code",
      "source": [
        "# Create a sample Maxpools2d later\n",
        "max_pool_layer = nn.MaxPool2d(kernel_size = 5)\n",
        "\n",
        "test_image_through_conv = conv_layer(images[0].unsqueeze(dim=0))\n",
        "print(f\"Shape after going through conv_layer() : {test_image_through_conv.shape}\")\n",
        "\n",
        "test_image_through_conv_and_max_pool = max_pool_layer(test_image_through_conv)\n",
        "\n",
        "print(f\"Shape after going through conv_layer and max pool later : {test_image_through_conv_and_max_pool.shape}\")"
      ],
      "metadata": {
        "colab": {
          "base_uri": "https://localhost:8080/"
        },
        "id": "mRWBBO93y1Z2",
        "outputId": "148671a7-9ada-406c-d1e0-e710a7429347"
      },
      "execution_count": 155,
      "outputs": [
        {
          "output_type": "stream",
          "name": "stdout",
          "text": [
            "Shape after going through conv_layer() : torch.Size([1, 10, 64, 64])\n",
            "Shape after going through conv_layer and max pool later : torch.Size([1, 10, 12, 12])\n"
          ]
        }
      ]
    },
    {
      "cell_type": "code",
      "source": [
        "random_tensor = torch.randn(size =(1,1,2,2))\n",
        "\n",
        "# Create a max pool layer\n",
        "max_pool = nn.MaxPool2d(kernel_size = 2)\n",
        "\n",
        "max_pool_tensor = max_pool(random_tensor)\n",
        "\n",
        "print(f\"Max pool tesnor : {max_pool_tensor}\")\n",
        "print(f\"Max pool tensor  shape : {max_pool_tensor.shape}\")\n",
        "print(f\"random_tensor : {random_tensor}\")"
      ],
      "metadata": {
        "colab": {
          "base_uri": "https://localhost:8080/"
        },
        "id": "h9CXuaEF0ilN",
        "outputId": "b648ffdf-108f-4b50-96cf-09faf80d4a73"
      },
      "execution_count": 156,
      "outputs": [
        {
          "output_type": "stream",
          "name": "stdout",
          "text": [
            "Max pool tesnor : tensor([[[[0.5534]]]])\n",
            "Max pool tensor  shape : torch.Size([1, 1, 1, 1])\n",
            "random_tensor : tensor([[[[0.4963, 0.0045],\n",
            "          [0.5534, 0.1379]]]])\n"
          ]
        }
      ]
    },
    {
      "cell_type": "code",
      "source": [
        "random_image_tensor = torch.randn(size =(1,1,28,28))\n",
        "model_2(random_image_tensor)"
      ],
      "metadata": {
        "colab": {
          "base_uri": "https://localhost:8080/"
        },
        "id": "ON6OKH0V3xUm",
        "outputId": "6dadc330-fb2f-4a92-d3dc-84f06385f952"
      },
      "execution_count": 157,
      "outputs": [
        {
          "output_type": "execute_result",
          "data": {
            "text/plain": [
              "tensor([[ 0.0338, -0.0919,  0.0639, -0.0353,  0.0078,  0.0246,  0.0213,  0.0064,\n",
              "         -0.0107, -0.0162]], grad_fn=<AddmmBackward0>)"
            ]
          },
          "metadata": {},
          "execution_count": 157
        }
      ]
    },
    {
      "cell_type": "markdown",
      "source": [
        "### 7.3 Setup loss function and optimizer for `model_2`"
      ],
      "metadata": {
        "id": "QQTXgq326nT1"
      }
    },
    {
      "cell_type": "code",
      "source": [
        "# Setup loss function/eval metrics/optimizer\n",
        "from helper_functions import accuracy_fn\n",
        "\n",
        "loss_fn = nn.CrossEntropyLoss()\n",
        "optimizer = torch.optim.SGD(params=model_2.parameters(), lr=0.01)"
      ],
      "metadata": {
        "id": "WSzH6lg05D4I"
      },
      "execution_count": 158,
      "outputs": []
    },
    {
      "cell_type": "code",
      "source": [
        "model_2.state_dict()"
      ],
      "metadata": {
        "colab": {
          "base_uri": "https://localhost:8080/"
        },
        "id": "ulCf5eGT7C6u",
        "outputId": "6faa28da-1b01-4715-c089-971795cd79fe"
      },
      "execution_count": 159,
      "outputs": [
        {
          "output_type": "execute_result",
          "data": {
            "text/plain": [
              "OrderedDict([('Conv_block_1.0.weight', tensor([[[[ 0.2548,  0.2767, -0.0781],\n",
              "                        [ 0.3062, -0.0730,  0.0673],\n",
              "                        [-0.1623,  0.1958,  0.2938]]],\n",
              "              \n",
              "              \n",
              "                      [[[-0.2445,  0.2897,  0.0624],\n",
              "                        [ 0.2463,  0.0451,  0.1607],\n",
              "                        [-0.0471,  0.2570,  0.0493]]],\n",
              "              \n",
              "              \n",
              "                      [[[-0.1556,  0.0850, -0.1536],\n",
              "                        [-0.0391, -0.1354,  0.2211],\n",
              "                        [-0.2631, -0.1537, -0.0941]]],\n",
              "              \n",
              "              \n",
              "                      [[[-0.2004,  0.0315, -0.3292],\n",
              "                        [ 0.3010, -0.2832,  0.2573],\n",
              "                        [ 0.0555, -0.1082,  0.2060]]],\n",
              "              \n",
              "              \n",
              "                      [[[ 0.0520,  0.2693,  0.0364],\n",
              "                        [-0.1051,  0.0896, -0.0904],\n",
              "                        [ 0.1403,  0.2976,  0.1927]]],\n",
              "              \n",
              "              \n",
              "                      [[[-0.1457,  0.1924,  0.0596],\n",
              "                        [ 0.1693, -0.2032, -0.3300],\n",
              "                        [-0.1288, -0.2557,  0.2735]]],\n",
              "              \n",
              "              \n",
              "                      [[[ 0.0960,  0.1381,  0.1054],\n",
              "                        [-0.0058,  0.2609, -0.2368],\n",
              "                        [ 0.0210, -0.2275,  0.1028]]],\n",
              "              \n",
              "              \n",
              "                      [[[-0.1148,  0.1021, -0.0694],\n",
              "                        [ 0.2765, -0.1976, -0.1988],\n",
              "                        [-0.1988,  0.2998,  0.1111]]],\n",
              "              \n",
              "              \n",
              "                      [[[ 0.3208, -0.2751, -0.3306],\n",
              "                        [-0.2608, -0.2242,  0.1350],\n",
              "                        [ 0.1194,  0.2770, -0.1721]]],\n",
              "              \n",
              "              \n",
              "                      [[[-0.2272,  0.1769, -0.1347],\n",
              "                        [ 0.2023, -0.0791,  0.1907],\n",
              "                        [-0.2590, -0.1682,  0.1016]]]])),\n",
              "             ('Conv_block_1.0.bias',\n",
              "              tensor([ 0.0705, -0.0850,  0.1987,  0.2266, -0.2417, -0.1780,  0.3052, -0.1125,\n",
              "                      -0.1182, -0.3225])),\n",
              "             ('Conv_block_1.2.weight', tensor([[[[-0.0604,  0.0263, -0.0139],\n",
              "                        [-0.0765,  0.0025, -0.0720],\n",
              "                        [-0.0894, -0.0580, -0.0923]],\n",
              "              \n",
              "                       [[-0.0671,  0.1054,  0.0199],\n",
              "                        [ 0.0325, -0.0983, -0.0692],\n",
              "                        [-0.0351,  0.0165, -0.0928]],\n",
              "              \n",
              "                       [[-0.0454, -0.0631,  0.0003],\n",
              "                        [-0.0392, -0.0073, -0.0714],\n",
              "                        [-0.0724, -0.0615, -0.0361]],\n",
              "              \n",
              "                       [[-0.0832,  0.0884, -0.0209],\n",
              "                        [ 0.0907,  0.0328, -0.0893],\n",
              "                        [ 0.0729, -0.0290, -0.0404]],\n",
              "              \n",
              "                       [[-0.0875, -0.1048,  0.0302],\n",
              "                        [-0.0230,  0.0410, -0.0865],\n",
              "                        [ 0.0783, -0.0774, -0.0182]],\n",
              "              \n",
              "                       [[ 0.0220,  0.0544,  0.0851],\n",
              "                        [ 0.0960, -0.0836,  0.0265],\n",
              "                        [-0.0453, -0.0116, -0.0789]],\n",
              "              \n",
              "                       [[ 0.0960, -0.0774,  0.0563],\n",
              "                        [ 0.0370,  0.0343, -0.0570],\n",
              "                        [ 0.0958,  0.0232,  0.0136]],\n",
              "              \n",
              "                       [[-0.0929,  0.0442, -0.0158],\n",
              "                        [-0.0483,  0.0905,  0.0235],\n",
              "                        [-0.0583, -0.0534, -0.0050]],\n",
              "              \n",
              "                       [[ 0.0589, -0.0269, -0.0601],\n",
              "                        [-0.0361, -0.0787,  0.0376],\n",
              "                        [ 0.0816, -0.0992,  0.0245]],\n",
              "              \n",
              "                       [[ 0.0545,  0.0191, -0.0375],\n",
              "                        [ 0.0550,  0.0554,  0.0394],\n",
              "                        [-0.0185, -0.0279,  0.0113]]],\n",
              "              \n",
              "              \n",
              "                      [[[-0.0186, -0.0314,  0.0674],\n",
              "                        [ 0.0906, -0.0104, -0.0236],\n",
              "                        [ 0.0015, -0.0063,  0.0253]],\n",
              "              \n",
              "                       [[ 0.0295, -0.0957, -0.0389],\n",
              "                        [ 0.0888,  0.0411, -0.0052],\n",
              "                        [-0.0636, -0.0645, -0.0944]],\n",
              "              \n",
              "                       [[-0.0344,  0.0356,  0.0672],\n",
              "                        [ 0.0487, -0.0932, -0.0634],\n",
              "                        [-0.0166,  0.1020,  0.0152]],\n",
              "              \n",
              "                       [[-0.0273,  0.0436, -0.0401],\n",
              "                        [-0.0682,  0.0769, -0.0479],\n",
              "                        [-0.0211, -0.1049,  0.0705]],\n",
              "              \n",
              "                       [[ 0.0799,  0.0384, -0.0735],\n",
              "                        [-0.1040, -0.0856,  0.0786],\n",
              "                        [ 0.0506,  0.0887,  0.0552]],\n",
              "              \n",
              "                       [[ 0.0267, -0.0010, -0.0802],\n",
              "                        [-0.0903, -0.0986,  0.0432],\n",
              "                        [-0.0518, -0.0212, -0.0607]],\n",
              "              \n",
              "                       [[-0.0192, -0.0742, -0.0689],\n",
              "                        [ 0.0350, -0.0313,  0.0651],\n",
              "                        [-0.0338, -0.0773, -0.0186]],\n",
              "              \n",
              "                       [[-0.0511, -0.0322, -0.1003],\n",
              "                        [ 0.0590, -0.0734,  0.0530],\n",
              "                        [ 0.0478,  0.0753, -0.0809]],\n",
              "              \n",
              "                       [[ 0.0758, -0.0498,  0.0391],\n",
              "                        [ 0.0990, -0.0149, -0.0008],\n",
              "                        [-0.0243, -0.0880,  0.0506]],\n",
              "              \n",
              "                       [[-0.1046,  0.0654,  0.0789],\n",
              "                        [ 0.0997, -0.0249, -0.0866],\n",
              "                        [ 0.0237,  0.0582, -0.1049]]],\n",
              "              \n",
              "              \n",
              "                      [[[-0.0239, -0.0632, -0.0092],\n",
              "                        [-0.0519, -0.0431, -0.0335],\n",
              "                        [-0.1002,  0.0865,  0.0884]],\n",
              "              \n",
              "                       [[-0.0165, -0.0120, -0.0430],\n",
              "                        [-0.0952, -0.1026,  0.0392],\n",
              "                        [-0.0579, -0.0678, -0.0082]],\n",
              "              \n",
              "                       [[-0.0351, -0.0341,  0.0034],\n",
              "                        [-0.0224, -0.0363, -0.0505],\n",
              "                        [-0.0858,  0.0884, -0.0422]],\n",
              "              \n",
              "                       [[ 0.0279, -0.0366,  0.0086],\n",
              "                        [ 0.0983,  0.0486, -0.0913],\n",
              "                        [ 0.0418,  0.1001,  0.0277]],\n",
              "              \n",
              "                       [[ 0.0707,  0.1039, -0.0162],\n",
              "                        [ 0.0219, -0.0733, -0.0217],\n",
              "                        [ 0.0781,  0.0540, -0.0667]],\n",
              "              \n",
              "                       [[-0.0845, -0.0720, -0.1040],\n",
              "                        [-0.0813, -0.0261,  0.0711],\n",
              "                        [ 0.0176, -0.0802, -0.0846]],\n",
              "              \n",
              "                       [[ 0.0524, -0.0784, -0.0130],\n",
              "                        [ 0.0506, -0.0488, -0.0115],\n",
              "                        [-0.0092, -0.0249, -0.0534]],\n",
              "              \n",
              "                       [[-0.0940, -0.0852, -0.0564],\n",
              "                        [ 0.1018, -0.0509, -0.0708],\n",
              "                        [ 0.0256,  0.0291,  0.0578]],\n",
              "              \n",
              "                       [[ 0.0801,  0.0587, -0.1045],\n",
              "                        [ 0.0093,  0.0639, -0.0097],\n",
              "                        [-0.0621,  0.1005, -0.0394]],\n",
              "              \n",
              "                       [[-0.0600, -0.0950,  0.0047],\n",
              "                        [ 0.0467,  0.0233,  0.0208],\n",
              "                        [-0.0799, -0.0984,  0.0019]]],\n",
              "              \n",
              "              \n",
              "                      [[[ 0.0961,  0.0608, -0.0614],\n",
              "                        [-0.0137, -0.0777, -0.0509],\n",
              "                        [ 0.0191,  0.0574,  0.0873]],\n",
              "              \n",
              "                       [[-0.0968,  0.0705, -0.0743],\n",
              "                        [ 0.0395,  0.0892,  0.0015],\n",
              "                        [ 0.0959, -0.0898, -0.0403]],\n",
              "              \n",
              "                       [[ 0.0615, -0.0230, -0.0216],\n",
              "                        [-0.0439,  0.0727,  0.0517],\n",
              "                        [ 0.0338, -0.0592, -0.0856]],\n",
              "              \n",
              "                       [[ 0.0114,  0.0312, -0.0487],\n",
              "                        [-0.0295,  0.0712,  0.0084],\n",
              "                        [ 0.0048, -0.0259, -0.0955]],\n",
              "              \n",
              "                       [[-0.0991, -0.0504, -0.0536],\n",
              "                        [ 0.0328, -0.0307, -0.0412],\n",
              "                        [ 0.1005,  0.0367,  0.0751]],\n",
              "              \n",
              "                       [[-0.0510, -0.0431,  0.0387],\n",
              "                        [-0.0702, -0.0689, -0.0051],\n",
              "                        [-0.0386, -0.0790,  0.0625]],\n",
              "              \n",
              "                       [[ 0.0848,  0.0171, -0.0184],\n",
              "                        [-0.0976, -0.0384,  0.0268],\n",
              "                        [ 0.0497, -0.0133, -0.0417]],\n",
              "              \n",
              "                       [[ 0.0587, -0.0839,  0.0666],\n",
              "                        [-0.0409,  0.0016, -0.0208],\n",
              "                        [ 0.0128, -0.0319,  0.0766]],\n",
              "              \n",
              "                       [[-0.0027,  0.0823,  0.1013],\n",
              "                        [-0.0514, -0.0769,  0.0846],\n",
              "                        [ 0.0826, -0.0805, -0.0081]],\n",
              "              \n",
              "                       [[-0.1039, -0.0863,  0.0204],\n",
              "                        [ 0.0280,  0.0223, -0.0287],\n",
              "                        [ 0.0972,  0.0151, -0.0622]]],\n",
              "              \n",
              "              \n",
              "                      [[[-0.0060,  0.0253,  0.0369],\n",
              "                        [-0.0745,  0.0395, -0.0539],\n",
              "                        [-0.0876, -0.0576,  0.1017]],\n",
              "              \n",
              "                       [[ 0.0901,  0.0944,  0.0619],\n",
              "                        [ 0.0796, -0.0141, -0.0580],\n",
              "                        [ 0.0527, -0.0546, -0.0711]],\n",
              "              \n",
              "                       [[-0.0337,  0.0221,  0.0543],\n",
              "                        [-0.0409, -0.0620,  0.0142],\n",
              "                        [-0.0621, -0.0686,  0.0549]],\n",
              "              \n",
              "                       [[-0.0177,  0.0963,  0.1025],\n",
              "                        [ 0.0315,  0.0363,  0.0243],\n",
              "                        [ 0.0017, -0.0077,  0.0014]],\n",
              "              \n",
              "                       [[ 0.0394,  0.0980, -0.0273],\n",
              "                        [-0.0446, -0.0255, -0.0509],\n",
              "                        [ 0.0179,  0.0787,  0.0824]],\n",
              "              \n",
              "                       [[ 0.0484, -0.0776, -0.0566],\n",
              "                        [-0.0232, -0.0194,  0.0087],\n",
              "                        [-0.0968,  0.0328, -0.0804]],\n",
              "              \n",
              "                       [[-0.0667, -0.0876,  0.0918],\n",
              "                        [-0.0998,  0.0795, -0.0035],\n",
              "                        [-0.0123,  0.0659, -0.0097]],\n",
              "              \n",
              "                       [[ 0.0661,  0.0762, -0.0915],\n",
              "                        [ 0.0406,  0.0199,  0.0227],\n",
              "                        [ 0.0154,  0.0288, -0.0507]],\n",
              "              \n",
              "                       [[-0.0135,  0.1002,  0.0708],\n",
              "                        [-0.0040, -0.0991,  0.0046],\n",
              "                        [-0.0718,  0.0857, -0.0640]],\n",
              "              \n",
              "                       [[-0.0076, -0.0234,  0.0188],\n",
              "                        [ 0.0992,  0.0100,  0.0610],\n",
              "                        [ 0.0818,  0.0851, -0.0364]]],\n",
              "              \n",
              "              \n",
              "                      [[[-0.0236,  0.0508, -0.0288],\n",
              "                        [ 0.0494, -0.0230, -0.0715],\n",
              "                        [ 0.0429,  0.0162,  0.0470]],\n",
              "              \n",
              "                       [[ 0.1047,  0.0720,  0.0999],\n",
              "                        [ 0.0056, -0.0907, -0.0739],\n",
              "                        [-0.0655, -0.0929, -0.0528]],\n",
              "              \n",
              "                       [[-0.0970, -0.0973, -0.0630],\n",
              "                        [-0.1039, -0.0647,  0.0402],\n",
              "                        [ 0.0879, -0.0314, -0.0307]],\n",
              "              \n",
              "                       [[ 0.0563, -0.0520, -0.0498],\n",
              "                        [ 0.0649, -0.0918,  0.0129],\n",
              "                        [ 0.0931,  0.0181,  0.0287]],\n",
              "              \n",
              "                       [[-0.0614, -0.0015,  0.0058],\n",
              "                        [ 0.0259,  0.0410,  0.0916],\n",
              "                        [-0.0805,  0.0032, -0.0527]],\n",
              "              \n",
              "                       [[-0.0834, -0.0084, -0.0928],\n",
              "                        [ 0.0736,  0.0122, -0.0568],\n",
              "                        [ 0.0551, -0.0998, -0.0408]],\n",
              "              \n",
              "                       [[-0.0205, -0.0896, -0.0670],\n",
              "                        [-0.0172,  0.0800,  0.1018],\n",
              "                        [ 0.0671, -0.0629, -0.0690]],\n",
              "              \n",
              "                       [[ 0.0920,  0.0373,  0.0028],\n",
              "                        [ 0.0143, -0.0847, -0.0352],\n",
              "                        [ 0.1015, -0.0260, -0.0053]],\n",
              "              \n",
              "                       [[-0.0875, -0.0590, -0.0022],\n",
              "                        [-0.0655, -0.0131,  0.0429],\n",
              "                        [-0.1031,  0.0313, -0.0697]],\n",
              "              \n",
              "                       [[-0.0514,  0.0405,  0.0838],\n",
              "                        [-0.0288, -0.0433, -0.0953],\n",
              "                        [-0.0544, -0.0923, -0.0241]]],\n",
              "              \n",
              "              \n",
              "                      [[[ 0.0215, -0.0988,  0.0920],\n",
              "                        [ 0.0661, -0.1032, -0.0503],\n",
              "                        [ 0.0344, -0.0217, -0.0115]],\n",
              "              \n",
              "                       [[-0.0476,  0.0847, -0.0589],\n",
              "                        [ 0.0874,  0.0068,  0.0212],\n",
              "                        [ 0.0822, -0.0174, -0.0600]],\n",
              "              \n",
              "                       [[-0.0170,  0.0855, -0.0782],\n",
              "                        [ 0.0239, -0.1036,  0.0553],\n",
              "                        [ 0.0389,  0.0045,  0.0452]],\n",
              "              \n",
              "                       [[ 0.0001,  0.0583, -0.0834],\n",
              "                        [-0.0155,  0.0468,  0.1050],\n",
              "                        [ 0.0537, -0.0767,  0.0811]],\n",
              "              \n",
              "                       [[-0.0235, -0.0225, -0.0958],\n",
              "                        [-0.0166,  0.0746,  0.0147],\n",
              "                        [-0.0614,  0.0324, -0.0338]],\n",
              "              \n",
              "                       [[ 0.0962, -0.0915, -0.0333],\n",
              "                        [-0.1018, -0.0415,  0.0332],\n",
              "                        [ 0.1015,  0.0177,  0.1033]],\n",
              "              \n",
              "                       [[ 0.0206,  0.0609,  0.0845],\n",
              "                        [ 0.0881, -0.0590,  0.0969],\n",
              "                        [ 0.0639, -0.0493, -0.0503]],\n",
              "              \n",
              "                       [[-0.0884,  0.0265, -0.0854],\n",
              "                        [ 0.0445,  0.0333, -0.0916],\n",
              "                        [ 0.0287, -0.0086,  0.0482]],\n",
              "              \n",
              "                       [[ 0.0605, -0.1048,  0.0967],\n",
              "                        [ 0.0884,  0.0419, -0.0963],\n",
              "                        [-0.0377, -0.0305, -0.0271]],\n",
              "              \n",
              "                       [[ 0.0594,  0.0383,  0.0835],\n",
              "                        [-0.0395,  0.0355,  0.0375],\n",
              "                        [-0.0878, -0.1022, -0.0547]]],\n",
              "              \n",
              "              \n",
              "                      [[[ 0.0722, -0.0992, -0.0918],\n",
              "                        [ 0.0591,  0.0569,  0.0867],\n",
              "                        [-0.0796, -0.0771,  0.0541]],\n",
              "              \n",
              "                       [[ 0.0917,  0.0631,  0.0165],\n",
              "                        [ 0.0347,  0.1000, -0.0680],\n",
              "                        [-0.0479,  0.0737, -0.0721]],\n",
              "              \n",
              "                       [[-0.0581,  0.0769,  0.0333],\n",
              "                        [ 0.0341, -0.0447, -0.0015],\n",
              "                        [ 0.0965, -0.0633,  0.0008]],\n",
              "              \n",
              "                       [[ 0.0501, -0.0728,  0.1024],\n",
              "                        [-0.0527, -0.0253, -0.0285],\n",
              "                        [-0.0687, -0.1034,  0.0594]],\n",
              "              \n",
              "                       [[ 0.0280, -0.0987, -0.0678],\n",
              "                        [ 0.1042,  0.0403,  0.0423],\n",
              "                        [-0.0631, -0.0462, -0.0159]],\n",
              "              \n",
              "                       [[-0.0193, -0.0722,  0.0087],\n",
              "                        [ 0.0105, -0.0133,  0.0146],\n",
              "                        [-0.0418,  0.0274,  0.0398]],\n",
              "              \n",
              "                       [[-0.0555, -0.1045,  0.0552],\n",
              "                        [ 0.0251, -0.0536,  0.1016],\n",
              "                        [-0.0477,  0.0712,  0.0535]],\n",
              "              \n",
              "                       [[-0.0884,  0.0680, -0.0969],\n",
              "                        [-0.0584, -0.0176, -0.0711],\n",
              "                        [ 0.1030, -0.0211,  0.0419]],\n",
              "              \n",
              "                       [[-0.0941,  0.0607, -0.0328],\n",
              "                        [-0.0802,  0.0154,  0.0511],\n",
              "                        [ 0.0912, -0.0644, -0.0519]],\n",
              "              \n",
              "                       [[ 0.0203,  0.0286,  0.0405],\n",
              "                        [ 0.0579, -0.0239,  0.0586],\n",
              "                        [ 0.0777, -0.0275,  0.0750]]],\n",
              "              \n",
              "              \n",
              "                      [[[ 0.0515,  0.0930, -0.0599],\n",
              "                        [-0.0521, -0.0305,  0.0053],\n",
              "                        [ 0.0633, -0.0602,  0.0528]],\n",
              "              \n",
              "                       [[-0.0378,  0.0637, -0.0050],\n",
              "                        [-0.0923, -0.0580, -0.0763],\n",
              "                        [ 0.0523, -0.0707, -0.0088]],\n",
              "              \n",
              "                       [[ 0.0227, -0.0578,  0.0304],\n",
              "                        [-0.1029, -0.0754, -0.0955],\n",
              "                        [-0.0319, -0.0384,  0.0151]],\n",
              "              \n",
              "                       [[-0.0195,  0.0496,  0.0966],\n",
              "                        [ 0.0378, -0.0415, -0.0987],\n",
              "                        [ 0.0382, -0.0522,  0.0536]],\n",
              "              \n",
              "                       [[ 0.0705,  0.0407,  0.0989],\n",
              "                        [ 0.1001,  0.0223, -0.0768],\n",
              "                        [ 0.0942, -0.0500, -0.0498]],\n",
              "              \n",
              "                       [[ 0.0882,  0.0817,  0.0318],\n",
              "                        [ 0.0066, -0.0887, -0.0109],\n",
              "                        [ 0.1011,  0.0268,  0.0090]],\n",
              "              \n",
              "                       [[-0.0219, -0.0368,  0.0628],\n",
              "                        [ 0.0065,  0.0686, -0.0187],\n",
              "                        [ 0.0461,  0.0435,  0.0168]],\n",
              "              \n",
              "                       [[ 0.0662,  0.0661,  0.0977],\n",
              "                        [ 0.0810, -0.0270, -0.0892],\n",
              "                        [ 0.0193, -0.0009, -0.0275]],\n",
              "              \n",
              "                       [[-0.0177,  0.0050,  0.0769],\n",
              "                        [ 0.0329, -0.0374, -0.0433],\n",
              "                        [-0.0261, -0.0407,  0.0948]],\n",
              "              \n",
              "                       [[ 0.0558,  0.0952,  0.0003],\n",
              "                        [ 0.0213,  0.0366, -0.0998],\n",
              "                        [ 0.0094, -0.0071, -0.0591]]],\n",
              "              \n",
              "              \n",
              "                      [[[-0.0818,  0.0933,  0.0857],\n",
              "                        [ 0.0489,  0.1006, -0.0428],\n",
              "                        [-0.0182,  0.0399, -0.0174]],\n",
              "              \n",
              "                       [[-0.0207, -0.0871,  0.0283],\n",
              "                        [-0.0637,  0.0038,  0.1028],\n",
              "                        [-0.0324, -0.0332,  0.0636]],\n",
              "              \n",
              "                       [[-0.0388, -0.0091,  0.0984],\n",
              "                        [-0.0432, -0.0754, -0.0590],\n",
              "                        [-0.0292, -0.0500, -0.0547]],\n",
              "              \n",
              "                       [[ 0.0426,  0.0179, -0.0337],\n",
              "                        [-0.0819, -0.0332, -0.0445],\n",
              "                        [-0.0343, -0.0951,  0.0227]],\n",
              "              \n",
              "                       [[-0.0774, -0.0821, -0.0861],\n",
              "                        [ 0.0440, -0.0635, -0.0435],\n",
              "                        [ 0.0826,  0.0560,  0.0604]],\n",
              "              \n",
              "                       [[-0.1001, -0.0756, -0.0398],\n",
              "                        [ 0.0871,  0.0108, -0.0788],\n",
              "                        [ 0.0007, -0.0819, -0.0231]],\n",
              "              \n",
              "                       [[-0.0290,  0.0912,  0.0326],\n",
              "                        [-0.0184,  0.0178, -0.0304],\n",
              "                        [ 0.0414,  0.0417,  0.0283]],\n",
              "              \n",
              "                       [[-0.0411,  0.0899, -0.0152],\n",
              "                        [-0.0410,  0.0660,  0.0859],\n",
              "                        [ 0.1049,  0.0312, -0.0359]],\n",
              "              \n",
              "                       [[ 0.0535,  0.0904, -0.1034],\n",
              "                        [-0.0131, -0.0719,  0.0196],\n",
              "                        [ 0.0436, -0.0218, -0.0088]],\n",
              "              \n",
              "                       [[ 0.0474, -0.0177, -0.0885],\n",
              "                        [ 0.0843, -0.0531, -0.0116],\n",
              "                        [ 0.0099, -0.0063, -0.0992]]]])),\n",
              "             ('Conv_block_1.2.bias',\n",
              "              tensor([ 0.0484, -0.0479, -0.0547,  0.0252, -0.0550, -0.0487, -0.0355, -0.0396,\n",
              "                      -0.0440, -0.0284])),\n",
              "             ('conv_block_2.0.weight',\n",
              "              tensor([[[[ 2.7393e-02, -8.5299e-02, -6.3802e-02],\n",
              "                        [ 1.5381e-03,  1.4659e-02,  5.8217e-02],\n",
              "                        [-7.4044e-02,  3.3646e-02,  5.9914e-02]],\n",
              "              \n",
              "                       [[ 5.8530e-02, -9.8180e-02, -4.0225e-02],\n",
              "                        [-9.0606e-02, -6.6704e-02,  5.8711e-02],\n",
              "                        [-1.5740e-02,  4.4769e-02, -6.1876e-02]],\n",
              "              \n",
              "                       [[ 1.6018e-02, -6.3758e-02,  5.2693e-02],\n",
              "                        [-4.6104e-02, -2.6432e-02, -9.1456e-02],\n",
              "                        [ 3.4822e-04,  1.0008e-01,  5.1163e-02]],\n",
              "              \n",
              "                       [[-5.6240e-02,  1.4176e-03, -1.1558e-02],\n",
              "                        [-8.4862e-02,  8.2650e-02,  1.6993e-03],\n",
              "                        [ 2.2199e-02, -4.2567e-02, -4.9323e-02]],\n",
              "              \n",
              "                       [[ 1.7381e-02,  3.8971e-02,  2.3643e-02],\n",
              "                        [-5.0801e-02,  1.0234e-01, -1.5517e-02],\n",
              "                        [-6.4554e-02, -4.9301e-02,  1.0377e-01]],\n",
              "              \n",
              "                       [[ 5.0766e-06, -1.4309e-02, -4.3867e-02],\n",
              "                        [-2.7633e-02, -8.8779e-02, -8.3767e-02],\n",
              "                        [ 6.1695e-02,  9.0172e-02,  1.0059e-01]],\n",
              "              \n",
              "                       [[-7.6099e-02,  5.7012e-02, -6.5245e-02],\n",
              "                        [ 6.2883e-02,  7.6058e-02,  8.1573e-02],\n",
              "                        [ 7.5900e-02,  6.5941e-02,  2.0516e-03]],\n",
              "              \n",
              "                       [[ 4.8434e-02, -3.7712e-02,  4.5899e-02],\n",
              "                        [-3.3879e-02, -1.7700e-03, -9.1746e-02],\n",
              "                        [-2.7562e-02, -5.5432e-02, -3.5557e-02]],\n",
              "              \n",
              "                       [[-6.7313e-02, -9.4810e-02,  6.8639e-03],\n",
              "                        [ 6.8408e-02,  9.6001e-02,  6.1512e-02],\n",
              "                        [-5.4638e-02, -1.0425e-01,  3.9983e-02]],\n",
              "              \n",
              "                       [[ 5.9062e-02, -9.0495e-02,  3.7798e-02],\n",
              "                        [ 8.9121e-02,  6.3853e-03, -6.3505e-02],\n",
              "                        [ 8.6423e-02,  4.5011e-02,  6.9802e-02]]],\n",
              "              \n",
              "              \n",
              "                      [[[-7.1287e-02,  6.1342e-02, -7.2002e-02],\n",
              "                        [ 1.0430e-01, -4.4662e-02,  6.3516e-02],\n",
              "                        [ 2.1107e-02,  2.7935e-02, -1.6165e-02]],\n",
              "              \n",
              "                       [[ 4.3295e-02, -4.3932e-02, -9.9357e-02],\n",
              "                        [-4.0499e-02,  8.2592e-02, -2.7751e-02],\n",
              "                        [ 3.3132e-02, -3.8973e-02,  7.9073e-02]],\n",
              "              \n",
              "                       [[ 6.3086e-02,  3.7211e-02, -5.3881e-02],\n",
              "                        [-8.6133e-02,  3.9686e-03, -6.1839e-02],\n",
              "                        [ 8.6667e-02, -1.0130e-01,  4.7104e-02]],\n",
              "              \n",
              "                       [[ 1.0508e-01,  5.2792e-02,  3.5942e-02],\n",
              "                        [-1.0142e-01,  1.0139e-01, -1.8030e-02],\n",
              "                        [-9.8495e-02,  1.0406e-01, -4.2894e-02]],\n",
              "              \n",
              "                       [[-7.4575e-03,  9.6479e-02, -7.3070e-02],\n",
              "                        [-7.4576e-02,  1.7141e-02, -1.4109e-02],\n",
              "                        [ 2.4280e-02, -8.8407e-02,  3.1524e-03]],\n",
              "              \n",
              "                       [[-4.6882e-02, -5.1820e-02, -9.6517e-02],\n",
              "                        [ 5.5890e-02,  2.0306e-02, -8.9118e-02],\n",
              "                        [ 8.3648e-02,  3.1794e-02,  1.9560e-02]],\n",
              "              \n",
              "                       [[-6.1890e-02,  1.5896e-02,  1.0157e-01],\n",
              "                        [ 7.2299e-02, -8.2100e-02,  9.6220e-02],\n",
              "                        [ 8.1702e-03,  5.0698e-02,  8.1869e-02]],\n",
              "              \n",
              "                       [[ 8.9862e-02, -8.2170e-02,  9.2303e-02],\n",
              "                        [-7.1591e-02,  7.9021e-03, -7.3656e-02],\n",
              "                        [-2.3109e-02, -4.7901e-03, -1.2611e-02]],\n",
              "              \n",
              "                       [[-1.6652e-02,  8.3137e-03,  1.0398e-01],\n",
              "                        [ 6.1244e-02,  5.8973e-02,  4.2190e-02],\n",
              "                        [ 8.1606e-02, -4.8645e-03,  8.3813e-03]],\n",
              "              \n",
              "                       [[ 2.1693e-02, -9.1931e-02, -8.4913e-02],\n",
              "                        [ 1.2923e-02, -4.1241e-02, -1.9342e-03],\n",
              "                        [-2.4187e-02,  1.6408e-02,  6.8581e-02]]],\n",
              "              \n",
              "              \n",
              "                      [[[-3.4958e-02,  8.4418e-02,  8.3227e-02],\n",
              "                        [-8.0901e-02, -8.1400e-02, -8.5284e-02],\n",
              "                        [-5.7766e-02, -4.1033e-02, -7.9341e-03]],\n",
              "              \n",
              "                       [[-2.5635e-02, -5.3258e-02, -3.3488e-02],\n",
              "                        [-3.8131e-02,  1.0341e-01, -3.9068e-02],\n",
              "                        [-7.5473e-02,  4.3818e-02, -6.0886e-03]],\n",
              "              \n",
              "                       [[ 8.0698e-02,  6.5863e-02,  9.6843e-02],\n",
              "                        [-7.7197e-02,  6.7764e-02,  8.8464e-02],\n",
              "                        [-5.2054e-02,  9.6890e-02,  7.9019e-02]],\n",
              "              \n",
              "                       [[ 1.1544e-03,  5.0823e-02, -3.6853e-02],\n",
              "                        [-9.1936e-02,  2.6645e-02,  3.1425e-02],\n",
              "                        [-6.8891e-02,  5.1123e-02, -9.0043e-02]],\n",
              "              \n",
              "                       [[ 9.0718e-02,  1.0208e-01,  2.8699e-02],\n",
              "                        [-6.6137e-02,  5.1300e-02,  1.7963e-02],\n",
              "                        [ 2.8663e-02,  3.4643e-02,  8.0254e-02]],\n",
              "              \n",
              "                       [[-4.5309e-02, -2.3711e-02,  2.8746e-02],\n",
              "                        [ 1.1486e-02,  8.5000e-02, -5.5365e-02],\n",
              "                        [-3.8387e-03,  1.9696e-02, -2.7996e-02]],\n",
              "              \n",
              "                       [[ 7.1859e-02,  1.1530e-02, -9.7422e-02],\n",
              "                        [-1.1420e-02, -4.7809e-02,  1.0243e-02],\n",
              "                        [-1.2250e-02, -1.0456e-01, -1.9208e-02]],\n",
              "              \n",
              "                       [[-1.0096e-02, -3.1083e-02,  9.6848e-02],\n",
              "                        [-2.3000e-02,  6.7717e-02,  2.6112e-02],\n",
              "                        [-8.8979e-02,  2.4770e-02,  8.7356e-02]],\n",
              "              \n",
              "                       [[-6.8948e-02, -6.8134e-02,  1.0318e-01],\n",
              "                        [ 8.4697e-02, -5.8807e-02,  6.3429e-02],\n",
              "                        [-1.3485e-02, -1.0393e-01,  7.9198e-03]],\n",
              "              \n",
              "                       [[ 3.4057e-02, -3.1619e-02,  3.6670e-02],\n",
              "                        [-9.0136e-02,  7.3050e-02,  8.9865e-02],\n",
              "                        [ 5.8130e-02,  1.7866e-02,  3.4716e-02]]],\n",
              "              \n",
              "              \n",
              "                      [[[-7.6269e-02, -2.6339e-02, -1.0063e-02],\n",
              "                        [-5.8659e-02, -7.7857e-02,  7.0900e-02],\n",
              "                        [ 7.1535e-02, -9.5731e-02,  3.3542e-02]],\n",
              "              \n",
              "                       [[ 4.2881e-02,  1.0014e-01,  6.0985e-02],\n",
              "                        [ 9.6907e-02, -3.4510e-02,  7.3827e-02],\n",
              "                        [ 8.5740e-02, -9.9541e-02, -8.4613e-02]],\n",
              "              \n",
              "                       [[ 2.1335e-02,  5.7557e-02, -5.2369e-02],\n",
              "                        [ 1.1609e-02, -1.5303e-04,  2.6680e-02],\n",
              "                        [-5.6642e-02,  5.9455e-02,  7.0098e-02]],\n",
              "              \n",
              "                       [[-7.3139e-02,  1.0211e-03,  2.9247e-04],\n",
              "                        [ 3.3849e-02,  9.8198e-02,  3.0913e-02],\n",
              "                        [-2.3951e-02,  9.4672e-02, -4.0112e-02]],\n",
              "              \n",
              "                       [[-3.0608e-02,  7.1969e-03, -8.0270e-02],\n",
              "                        [ 1.1470e-02, -7.1518e-02,  1.0838e-02],\n",
              "                        [ 1.0099e-02,  1.4591e-02, -8.8891e-02]],\n",
              "              \n",
              "                       [[-1.0012e-01,  4.8501e-02,  9.0399e-02],\n",
              "                        [-9.3537e-02,  3.9043e-02, -7.7594e-02],\n",
              "                        [ 6.6082e-03,  9.8068e-02,  7.9965e-02]],\n",
              "              \n",
              "                       [[-7.7069e-02,  6.5203e-02,  5.5057e-02],\n",
              "                        [-1.6168e-04,  1.0211e-01, -4.1866e-02],\n",
              "                        [-2.4530e-02, -5.3275e-02,  1.5168e-02]],\n",
              "              \n",
              "                       [[ 2.7911e-02,  8.3990e-03, -5.9307e-02],\n",
              "                        [-4.7452e-02,  3.5855e-02, -9.2426e-02],\n",
              "                        [-1.6416e-02, -2.3350e-03, -4.2708e-02]],\n",
              "              \n",
              "                       [[ 3.8360e-02,  6.7940e-03,  7.4004e-02],\n",
              "                        [-9.3616e-03, -6.6528e-02,  7.4477e-02],\n",
              "                        [ 1.4720e-02, -3.0189e-02, -6.9476e-02]],\n",
              "              \n",
              "                       [[ 2.4707e-02, -1.0053e-01,  2.7762e-02],\n",
              "                        [ 5.2119e-02, -9.2465e-02, -6.9009e-02],\n",
              "                        [-7.5781e-02,  8.8597e-02,  8.9611e-02]]],\n",
              "              \n",
              "              \n",
              "                      [[[ 6.5987e-03,  9.8959e-02, -3.5239e-02],\n",
              "                        [-1.0233e-01,  3.6819e-02,  3.7343e-02],\n",
              "                        [ 1.0334e-01, -3.0510e-05,  8.0785e-02]],\n",
              "              \n",
              "                       [[ 6.4612e-02,  7.6292e-02, -1.0460e-01],\n",
              "                        [ 8.6800e-02, -8.9856e-02,  9.4501e-02],\n",
              "                        [-4.3682e-03, -9.3415e-02,  2.9314e-02]],\n",
              "              \n",
              "                       [[-2.1456e-02, -9.4678e-02, -3.8215e-02],\n",
              "                        [ 1.0868e-02,  8.2098e-02, -3.2406e-02],\n",
              "                        [ 6.2610e-02,  1.3200e-02,  3.5531e-03]],\n",
              "              \n",
              "                       [[ 2.0170e-02, -6.9177e-02, -8.7616e-02],\n",
              "                        [-3.3121e-02, -9.8226e-02, -4.9158e-02],\n",
              "                        [ 4.8494e-03, -6.9424e-02, -4.3723e-02]],\n",
              "              \n",
              "                       [[-1.8941e-02, -1.2144e-02, -5.8187e-02],\n",
              "                        [ 5.0650e-03, -1.4795e-02,  3.0147e-02],\n",
              "                        [ 4.7611e-03, -5.2638e-02, -3.6291e-02]],\n",
              "              \n",
              "                       [[-1.2149e-03, -6.5774e-02,  8.2520e-03],\n",
              "                        [-7.4425e-03,  4.0897e-02,  2.4947e-02],\n",
              "                        [ 7.8887e-02, -3.4749e-03, -7.7887e-02]],\n",
              "              \n",
              "                       [[ 4.7119e-02, -7.1240e-02, -1.4489e-02],\n",
              "                        [-3.4132e-02, -3.9997e-02, -3.9000e-02],\n",
              "                        [ 9.6863e-02,  6.0342e-02,  2.9213e-02]],\n",
              "              \n",
              "                       [[ 9.8975e-02, -9.5524e-02,  1.7010e-02],\n",
              "                        [ 6.7481e-02,  7.0022e-02, -8.3890e-02],\n",
              "                        [ 3.7514e-02, -6.0050e-02, -4.1187e-03]],\n",
              "              \n",
              "                       [[-2.1996e-02, -8.8013e-02, -1.0055e-01],\n",
              "                        [-6.9349e-02,  4.7832e-02,  4.8218e-02],\n",
              "                        [-9.1681e-02, -3.9586e-02,  1.7218e-03]],\n",
              "              \n",
              "                       [[-9.1135e-02,  5.9393e-02,  9.5473e-02],\n",
              "                        [ 1.8643e-02, -7.8321e-02,  2.4580e-02],\n",
              "                        [ 3.8265e-02,  8.3468e-02, -5.6085e-02]]],\n",
              "              \n",
              "              \n",
              "                      [[[-9.4437e-02,  4.6312e-02,  6.5624e-03],\n",
              "                        [-3.4345e-02, -4.4169e-02, -5.4351e-02],\n",
              "                        [ 8.5328e-02, -1.8187e-02,  7.6022e-02]],\n",
              "              \n",
              "                       [[ 9.4094e-02,  1.3353e-02,  2.2454e-02],\n",
              "                        [-7.1789e-03,  7.2397e-02, -9.4983e-02],\n",
              "                        [ 4.1919e-02, -1.7174e-02,  4.8132e-02]],\n",
              "              \n",
              "                       [[-4.6949e-04, -3.9029e-02, -1.1379e-02],\n",
              "                        [ 5.6920e-02, -7.3210e-02, -6.6629e-02],\n",
              "                        [-2.3611e-02, -3.8235e-02,  4.1409e-02]],\n",
              "              \n",
              "                       [[ 7.0937e-02, -1.1289e-02,  9.9672e-02],\n",
              "                        [-4.4042e-02, -5.9151e-02, -4.7191e-02],\n",
              "                        [-7.2624e-02, -7.3885e-02, -9.3921e-02]],\n",
              "              \n",
              "                       [[-9.3422e-02,  2.7512e-02,  6.4284e-02],\n",
              "                        [ 9.8963e-02,  8.9787e-02, -6.0709e-03],\n",
              "                        [ 2.0454e-02, -6.3068e-02,  4.0743e-02]],\n",
              "              \n",
              "                       [[-1.0107e-01,  4.9719e-02,  1.9334e-02],\n",
              "                        [ 3.2393e-02,  3.8595e-02, -4.8394e-02],\n",
              "                        [ 9.0452e-02,  5.0307e-02,  6.9243e-02]],\n",
              "              \n",
              "                       [[ 1.3922e-02,  6.6196e-02,  7.0941e-02],\n",
              "                        [ 4.7775e-02,  8.0297e-02, -1.9119e-02],\n",
              "                        [ 6.9310e-02,  2.4286e-02,  6.3424e-02]],\n",
              "              \n",
              "                       [[ 1.0267e-01,  2.3869e-02, -3.9124e-02],\n",
              "                        [-1.0488e-02,  2.9676e-02,  1.7773e-02],\n",
              "                        [-2.8795e-02,  8.2590e-02,  6.3331e-02]],\n",
              "              \n",
              "                       [[-6.5475e-02, -8.5889e-03, -1.0119e-02],\n",
              "                        [-6.6063e-02,  1.5374e-02, -3.2360e-02],\n",
              "                        [-5.4419e-02, -3.3894e-02, -3.7584e-02]],\n",
              "              \n",
              "                       [[ 1.0084e-01,  4.0432e-02,  1.0373e-01],\n",
              "                        [ 2.8903e-02,  2.3868e-02,  4.3333e-02],\n",
              "                        [ 1.8092e-02, -8.2722e-02, -6.2334e-02]]],\n",
              "              \n",
              "              \n",
              "                      [[[-2.5538e-02,  1.5846e-03,  3.9709e-02],\n",
              "                        [ 4.0588e-02,  8.3623e-02,  2.1458e-02],\n",
              "                        [-3.5975e-02, -7.9271e-02, -7.7203e-02]],\n",
              "              \n",
              "                       [[-6.2965e-02,  3.1792e-02,  5.6950e-02],\n",
              "                        [ 9.2224e-02, -3.3342e-02, -8.3150e-03],\n",
              "                        [-3.1303e-02, -3.8517e-04,  3.3837e-02]],\n",
              "              \n",
              "                       [[-2.3160e-03,  4.8799e-03,  1.3354e-02],\n",
              "                        [ 3.9256e-02, -3.1981e-02, -6.2855e-02],\n",
              "                        [ 2.4869e-02, -1.2481e-02, -4.7753e-02]],\n",
              "              \n",
              "                       [[ 4.4268e-02,  9.5597e-04, -1.5333e-02],\n",
              "                        [-5.1027e-02, -1.3868e-02, -8.9632e-02],\n",
              "                        [ 2.3980e-02,  1.5818e-03,  6.3966e-02]],\n",
              "              \n",
              "                       [[ 6.8063e-03,  8.4277e-03,  2.8715e-02],\n",
              "                        [ 8.0210e-02, -4.9812e-02,  6.2930e-02],\n",
              "                        [ 2.5779e-02, -7.0320e-02,  3.6702e-02]],\n",
              "              \n",
              "                       [[-6.3217e-02, -3.3181e-02, -5.0245e-02],\n",
              "                        [-7.1711e-02,  8.3017e-02, -9.4217e-02],\n",
              "                        [ 5.2706e-02, -9.4870e-02, -1.2829e-02]],\n",
              "              \n",
              "                       [[ 6.2868e-03,  7.4937e-02, -3.8147e-02],\n",
              "                        [ 3.0340e-02,  1.6329e-02,  6.2021e-02],\n",
              "                        [ 6.2667e-03,  3.9470e-02, -6.3677e-02]],\n",
              "              \n",
              "                       [[-7.3250e-02,  9.3928e-02, -7.6808e-02],\n",
              "                        [-1.7945e-02, -1.2742e-02,  1.0308e-01],\n",
              "                        [-2.2780e-02, -8.0249e-02, -2.6721e-02]],\n",
              "              \n",
              "                       [[ 5.4372e-02,  4.1773e-02,  8.7204e-02],\n",
              "                        [-2.1579e-02,  4.9653e-02, -9.9194e-02],\n",
              "                        [ 4.0787e-02,  4.8432e-02,  6.7998e-02]],\n",
              "              \n",
              "                       [[-6.0446e-02, -2.8142e-02,  2.5502e-02],\n",
              "                        [-7.4905e-02, -8.3851e-02, -1.0141e-01],\n",
              "                        [ 5.8842e-03,  6.5458e-02,  2.7075e-02]]],\n",
              "              \n",
              "              \n",
              "                      [[[ 6.4263e-03,  3.6727e-02, -6.6240e-02],\n",
              "                        [ 1.1113e-02, -2.6186e-02, -5.2193e-02],\n",
              "                        [ 9.0902e-02, -8.1550e-02,  1.5448e-02]],\n",
              "              \n",
              "                       [[-9.2624e-02, -3.5762e-03, -4.6840e-02],\n",
              "                        [ 3.4695e-02, -5.9191e-02,  6.7466e-02],\n",
              "                        [-8.5536e-02,  6.3313e-02, -7.9181e-02]],\n",
              "              \n",
              "                       [[ 5.6456e-02, -4.4384e-02, -2.4556e-04],\n",
              "                        [-1.9238e-02,  6.8414e-02,  3.4546e-02],\n",
              "                        [-9.2887e-02,  9.6914e-03, -7.2718e-02]],\n",
              "              \n",
              "                       [[ 7.8800e-02,  1.7319e-02, -2.7109e-02],\n",
              "                        [-5.3777e-02,  3.6485e-02, -6.3129e-02],\n",
              "                        [ 4.9992e-02,  5.7519e-02,  6.4701e-02]],\n",
              "              \n",
              "                       [[ 2.7537e-02, -9.2272e-02,  7.5823e-02],\n",
              "                        [-3.2700e-02, -3.1163e-02, -1.1325e-02],\n",
              "                        [ 7.7068e-02,  8.1052e-02,  1.6276e-02]],\n",
              "              \n",
              "                       [[ 5.0296e-02, -9.8241e-02,  2.4900e-04],\n",
              "                        [-9.3254e-02,  3.5876e-02, -7.5099e-02],\n",
              "                        [-3.7568e-02,  7.3684e-02,  1.0074e-01]],\n",
              "              \n",
              "                       [[-6.3286e-02, -5.8503e-02,  1.3055e-02],\n",
              "                        [ 4.1437e-02, -1.7168e-02, -3.2918e-02],\n",
              "                        [-6.9237e-02,  4.4997e-02,  1.0328e-01]],\n",
              "              \n",
              "                       [[-5.1026e-02,  4.9718e-02,  5.1481e-02],\n",
              "                        [ 8.4728e-02, -1.2001e-02,  3.3202e-03],\n",
              "                        [ 7.7444e-02,  6.6631e-02,  1.0411e-01]],\n",
              "              \n",
              "                       [[-3.0207e-02,  4.1709e-02,  7.3605e-02],\n",
              "                        [-7.1553e-02,  2.0940e-02, -2.3586e-02],\n",
              "                        [ 6.7760e-02, -4.7342e-02,  7.3933e-03]],\n",
              "              \n",
              "                       [[ 6.3067e-02, -9.6567e-02, -8.9004e-02],\n",
              "                        [-5.3989e-02,  6.7611e-02,  7.0680e-02],\n",
              "                        [-7.1991e-02,  2.0100e-02, -5.5854e-02]]],\n",
              "              \n",
              "              \n",
              "                      [[[-4.8926e-02,  9.0907e-02,  5.0914e-02],\n",
              "                        [-2.8828e-02,  1.5516e-02,  2.0424e-02],\n",
              "                        [ 2.4691e-02, -3.6079e-02, -6.2074e-02]],\n",
              "              \n",
              "                       [[ 6.9788e-02,  1.4164e-02,  4.4119e-02],\n",
              "                        [-3.9922e-02,  5.1057e-02,  7.6713e-02],\n",
              "                        [ 6.4107e-02,  2.8660e-02,  1.0371e-01]],\n",
              "              \n",
              "                       [[-2.3053e-04,  2.2441e-02,  1.0015e-01],\n",
              "                        [ 1.0245e-01, -4.4506e-02,  9.4953e-02],\n",
              "                        [ 3.8902e-02, -1.1799e-02,  9.2038e-02]],\n",
              "              \n",
              "                       [[-5.4605e-02,  6.8490e-02,  1.0445e-01],\n",
              "                        [-7.2701e-02, -6.2201e-02, -1.0445e-01],\n",
              "                        [-1.8970e-02, -9.5733e-02, -3.5304e-02]],\n",
              "              \n",
              "                       [[ 3.2002e-02,  7.4511e-02,  5.8717e-02],\n",
              "                        [ 5.8511e-02,  4.3730e-02, -6.5378e-02],\n",
              "                        [-8.3694e-02,  4.3696e-03,  1.0009e-01]],\n",
              "              \n",
              "                       [[ 5.9351e-03, -9.0662e-03, -7.1545e-02],\n",
              "                        [-5.2266e-02, -8.1256e-02,  8.4398e-02],\n",
              "                        [-1.7174e-02, -9.3119e-02,  1.1308e-02]],\n",
              "              \n",
              "                       [[ 7.6494e-03, -1.3023e-02,  3.7733e-02],\n",
              "                        [ 5.6687e-02, -9.9128e-02, -8.0753e-02],\n",
              "                        [-5.0639e-03, -9.7729e-02, -9.5750e-02]],\n",
              "              \n",
              "                       [[ 9.3067e-02, -8.0174e-03, -5.2113e-02],\n",
              "                        [-3.6157e-02, -8.2295e-02,  8.2258e-02],\n",
              "                        [-2.2857e-02, -5.9265e-02, -7.9944e-02]],\n",
              "              \n",
              "                       [[ 6.1611e-02, -1.4571e-02, -1.1074e-02],\n",
              "                        [-2.7473e-02, -5.0883e-02,  1.8751e-02],\n",
              "                        [ 8.1099e-02, -6.1093e-02,  5.0504e-03]],\n",
              "              \n",
              "                       [[-8.0165e-02, -4.9426e-02,  9.2525e-02],\n",
              "                        [ 1.1052e-03,  1.0154e-01, -1.8468e-02],\n",
              "                        [-5.7453e-02, -6.2981e-02,  9.3426e-02]]],\n",
              "              \n",
              "              \n",
              "                      [[[-8.1058e-02,  5.5318e-02,  2.6203e-02],\n",
              "                        [ 3.1107e-02,  5.9476e-02, -2.7577e-02],\n",
              "                        [ 6.5223e-02, -8.3982e-02, -3.7087e-02]],\n",
              "              \n",
              "                       [[ 7.7164e-02,  3.1283e-02, -1.4038e-02],\n",
              "                        [-2.4616e-02, -6.4364e-02,  6.4098e-02],\n",
              "                        [-3.3520e-03, -3.5664e-03,  2.4929e-02]],\n",
              "              \n",
              "                       [[ 7.7787e-02, -5.3778e-02, -3.6303e-02],\n",
              "                        [ 7.1429e-02,  5.9532e-02, -5.1855e-02],\n",
              "                        [-1.0428e-01,  1.9555e-02,  5.5434e-02]],\n",
              "              \n",
              "                       [[ 2.5178e-02,  7.4768e-02, -8.3640e-02],\n",
              "                        [ 5.3156e-02, -6.5531e-02,  5.9325e-02],\n",
              "                        [ 7.8394e-02,  3.3385e-02,  8.5284e-02]],\n",
              "              \n",
              "                       [[-6.9481e-02, -9.4275e-02, -1.0135e-01],\n",
              "                        [ 6.6179e-02,  3.6926e-02, -7.7188e-02],\n",
              "                        [ 5.1048e-02,  9.6177e-02, -1.0394e-01]],\n",
              "              \n",
              "                       [[ 7.6466e-02,  1.6167e-02,  9.8053e-03],\n",
              "                        [ 9.4847e-02,  9.5458e-02,  4.4414e-02],\n",
              "                        [ 8.3288e-02,  4.3853e-02,  1.7176e-02]],\n",
              "              \n",
              "                       [[-9.2656e-02,  1.9689e-02, -7.4993e-02],\n",
              "                        [ 3.2452e-02,  1.8598e-02,  2.3681e-03],\n",
              "                        [-7.2071e-02, -6.3899e-02,  7.7912e-02]],\n",
              "              \n",
              "                       [[ 5.1336e-02,  5.5576e-02, -3.1410e-02],\n",
              "                        [-1.8151e-02, -2.7014e-02,  7.2489e-02],\n",
              "                        [-4.5504e-02,  6.6394e-02,  7.2679e-02]],\n",
              "              \n",
              "                       [[-9.6403e-02,  6.4369e-04, -2.0076e-02],\n",
              "                        [-5.8273e-02,  4.5507e-02, -1.2807e-02],\n",
              "                        [ 9.2287e-02, -6.5976e-02,  4.8976e-02]],\n",
              "              \n",
              "                       [[-8.9998e-02, -5.2833e-02,  7.1903e-03],\n",
              "                        [ 8.3283e-02,  5.5521e-02, -8.6550e-02],\n",
              "                        [ 1.1676e-02, -6.2138e-02,  4.5674e-03]]]])),\n",
              "             ('conv_block_2.0.bias',\n",
              "              tensor([-0.0878, -0.0309,  0.0723, -0.0967, -0.1005,  0.0192,  0.0144, -0.0193,\n",
              "                       0.0920, -0.0635])),\n",
              "             ('conv_block_2.2.weight',\n",
              "              tensor([[[[-6.3992e-02, -7.8791e-02, -1.9619e-02],\n",
              "                        [-2.6901e-02,  6.5222e-02, -5.9186e-03],\n",
              "                        [ 3.3663e-02, -4.3804e-02,  8.5507e-02]],\n",
              "              \n",
              "                       [[ 8.8862e-02, -9.4401e-02, -2.7090e-02],\n",
              "                        [-8.9439e-02,  4.4781e-02, -9.2094e-02],\n",
              "                        [-4.9839e-02,  1.0532e-01, -1.0066e-01]],\n",
              "              \n",
              "                       [[ 7.7771e-02,  8.9049e-03,  8.4289e-02],\n",
              "                        [-5.3494e-02,  6.9236e-02,  1.2718e-02],\n",
              "                        [ 8.1073e-03,  7.1945e-02, -1.0019e-01]],\n",
              "              \n",
              "                       [[-8.4902e-02,  1.0180e-01, -6.3298e-02],\n",
              "                        [-7.5980e-02, -5.1539e-03, -3.3742e-02],\n",
              "                        [-1.4421e-02, -7.0623e-02,  3.8034e-02]],\n",
              "              \n",
              "                       [[-9.0703e-02,  8.5374e-03,  6.1510e-02],\n",
              "                        [ 2.0253e-02,  1.4006e-02,  1.5418e-02],\n",
              "                        [-3.0880e-02, -2.0080e-02, -4.4450e-02]],\n",
              "              \n",
              "                       [[-7.1207e-02, -5.5810e-02,  1.0420e-01],\n",
              "                        [-1.7641e-02,  3.6924e-02,  7.2896e-02],\n",
              "                        [-8.2343e-03, -5.6707e-02, -7.1419e-02]],\n",
              "              \n",
              "                       [[-3.8833e-02,  3.7624e-02, -8.8771e-02],\n",
              "                        [-1.2870e-02,  4.0096e-02,  8.5999e-02],\n",
              "                        [ 3.1721e-02,  2.0846e-02,  7.2162e-02]],\n",
              "              \n",
              "                       [[ 4.8708e-02,  3.5661e-02, -3.2682e-02],\n",
              "                        [-8.4528e-02, -2.2769e-02, -1.9117e-02],\n",
              "                        [ 7.7410e-03, -1.1593e-02,  4.2616e-02]],\n",
              "              \n",
              "                       [[ 7.0050e-02, -4.2735e-02, -1.0002e-01],\n",
              "                        [-5.4081e-02, -5.0436e-02,  5.9750e-02],\n",
              "                        [-6.7994e-02, -9.9145e-03, -2.2340e-02]],\n",
              "              \n",
              "                       [[-6.3976e-02,  4.7780e-02, -4.3909e-02],\n",
              "                        [-5.4531e-03, -7.4112e-02, -1.0632e-02],\n",
              "                        [ 1.4977e-02, -4.2894e-03, -3.9386e-02]]],\n",
              "              \n",
              "              \n",
              "                      [[[ 3.1315e-02, -2.7311e-02, -5.8439e-02],\n",
              "                        [-7.7732e-02, -2.2329e-02, -9.9578e-02],\n",
              "                        [ 8.7492e-02, -5.0357e-02, -4.3684e-02]],\n",
              "              \n",
              "                       [[ 9.7439e-03,  2.7326e-02, -9.9393e-03],\n",
              "                        [ 7.2313e-02, -6.1448e-02,  3.7777e-02],\n",
              "                        [-2.3773e-04, -8.5747e-02, -4.0824e-02]],\n",
              "              \n",
              "                       [[ 2.6825e-02,  2.0138e-02,  7.6647e-02],\n",
              "                        [ 7.0518e-02, -5.7493e-02, -4.5013e-02],\n",
              "                        [-2.2351e-02, -7.5517e-02, -2.8459e-02]],\n",
              "              \n",
              "                       [[-8.6258e-02,  4.0092e-02,  7.4583e-02],\n",
              "                        [ 8.3459e-03, -7.5460e-02, -7.9827e-02],\n",
              "                        [-4.1036e-02,  3.0659e-02,  2.5711e-03]],\n",
              "              \n",
              "                       [[ 1.9166e-02,  9.9346e-02,  4.8956e-02],\n",
              "                        [ 2.2665e-02, -2.1327e-02,  4.9864e-02],\n",
              "                        [ 3.8563e-02, -9.4879e-02, -6.2266e-02]],\n",
              "              \n",
              "                       [[ 3.5381e-03,  3.9997e-02,  5.1282e-02],\n",
              "                        [-6.2748e-02, -1.0458e-01, -5.4909e-03],\n",
              "                        [-1.2050e-02,  3.0588e-02, -2.8988e-02]],\n",
              "              \n",
              "                       [[ 8.0588e-02,  7.0333e-03,  7.6975e-02],\n",
              "                        [-7.3398e-02,  4.2167e-02,  1.2560e-02],\n",
              "                        [-5.2720e-02,  5.2256e-02, -1.0372e-01]],\n",
              "              \n",
              "                       [[ 8.5220e-02,  8.4947e-03,  1.0178e-02],\n",
              "                        [ 4.8746e-02,  8.7503e-03,  4.5184e-02],\n",
              "                        [ 6.7063e-02, -8.2268e-02,  6.9735e-02]],\n",
              "              \n",
              "                       [[-1.5784e-02, -2.4513e-02,  2.1217e-02],\n",
              "                        [ 8.2446e-02, -5.7302e-02, -7.1039e-02],\n",
              "                        [ 6.5418e-02, -4.9507e-02,  3.3937e-02]],\n",
              "              \n",
              "                       [[-1.5530e-02,  2.9014e-02,  8.0439e-02],\n",
              "                        [-5.3421e-02, -5.1151e-02,  5.1716e-02],\n",
              "                        [ 5.7714e-03, -1.1601e-02, -9.2590e-02]]],\n",
              "              \n",
              "              \n",
              "                      [[[ 8.9309e-02, -3.9919e-03, -1.9415e-02],\n",
              "                        [-4.3269e-02, -2.0801e-02,  5.1233e-02],\n",
              "                        [-2.4227e-03,  9.0147e-02, -6.0858e-03]],\n",
              "              \n",
              "                       [[-1.5122e-02,  5.9498e-02, -2.7275e-03],\n",
              "                        [-2.1039e-02,  3.5231e-02,  8.3129e-02],\n",
              "                        [ 2.6305e-02,  7.3398e-02,  6.8309e-02]],\n",
              "              \n",
              "                       [[ 2.9810e-02,  3.6650e-02,  3.4014e-02],\n",
              "                        [ 1.0934e-02,  8.9675e-02,  9.7308e-02],\n",
              "                        [ 3.7524e-02, -5.2640e-03,  9.4509e-02]],\n",
              "              \n",
              "                       [[-8.2042e-02,  7.7453e-02,  5.5849e-02],\n",
              "                        [ 6.7687e-02, -8.0992e-03, -7.8646e-02],\n",
              "                        [ 7.5193e-02, -4.6091e-02,  2.7734e-02]],\n",
              "              \n",
              "                       [[ 5.9719e-02, -9.8508e-02,  6.9954e-03],\n",
              "                        [-3.7444e-02,  7.4815e-02, -6.7114e-02],\n",
              "                        [ 6.4001e-02,  6.5730e-02,  5.8156e-02]],\n",
              "              \n",
              "                       [[ 1.0119e-01,  1.5964e-02, -9.5541e-02],\n",
              "                        [ 7.5248e-02,  9.6499e-03,  2.0918e-03],\n",
              "                        [-1.0041e-01, -2.3691e-02, -5.1162e-02]],\n",
              "              \n",
              "                       [[ 1.0324e-01,  7.5054e-02,  7.8634e-02],\n",
              "                        [ 7.2188e-02, -6.5340e-02, -4.5270e-02],\n",
              "                        [-4.1252e-02, -4.2257e-02,  8.2054e-02]],\n",
              "              \n",
              "                       [[ 3.5815e-02,  8.4470e-02, -4.9309e-03],\n",
              "                        [-9.3965e-02, -3.0582e-02,  7.4081e-02],\n",
              "                        [ 6.4174e-02,  3.2632e-02, -3.0919e-02]],\n",
              "              \n",
              "                       [[-9.8386e-02, -5.6639e-02,  5.4958e-02],\n",
              "                        [-4.2518e-02,  5.0421e-02,  2.8781e-02],\n",
              "                        [-4.0486e-02,  6.4202e-02, -3.3871e-02]],\n",
              "              \n",
              "                       [[-3.5020e-03, -4.0152e-02, -9.9988e-02],\n",
              "                        [ 1.6996e-02,  3.0460e-02, -5.3072e-02],\n",
              "                        [ 6.4663e-02, -9.4558e-02, -1.0161e-01]]],\n",
              "              \n",
              "              \n",
              "                      [[[-6.5106e-02, -3.6430e-02, -1.1707e-02],\n",
              "                        [-2.0370e-02,  4.8108e-02, -9.2510e-02],\n",
              "                        [ 1.5521e-02,  1.8254e-03,  2.7842e-02]],\n",
              "              \n",
              "                       [[ 1.0479e-01,  6.4874e-02, -5.8366e-02],\n",
              "                        [-8.6378e-02, -2.5520e-02, -5.2876e-02],\n",
              "                        [ 3.6820e-02,  9.6628e-04,  8.4783e-02]],\n",
              "              \n",
              "                       [[ 4.1405e-02, -1.9382e-02,  3.6229e-03],\n",
              "                        [ 2.5244e-02, -1.3080e-02,  8.5058e-02],\n",
              "                        [-8.2420e-02,  5.1377e-02, -6.7192e-02]],\n",
              "              \n",
              "                       [[-9.2347e-02, -2.1640e-02,  5.1366e-02],\n",
              "                        [ 7.4478e-02,  2.6452e-02, -9.1104e-03],\n",
              "                        [-5.9092e-03, -4.2731e-02, -9.4592e-03]],\n",
              "              \n",
              "                       [[-7.2831e-03,  8.9699e-02,  6.1690e-02],\n",
              "                        [-8.4351e-02,  4.3604e-04, -6.4834e-02],\n",
              "                        [-1.6733e-02, -8.3776e-02,  2.7402e-02]],\n",
              "              \n",
              "                       [[-7.6008e-02,  1.0406e-01,  7.9605e-02],\n",
              "                        [-7.2559e-02, -9.9239e-02,  4.1128e-03],\n",
              "                        [-2.9425e-02,  3.0945e-02, -7.1353e-02]],\n",
              "              \n",
              "                       [[ 4.3148e-02, -9.1047e-02, -5.5632e-02],\n",
              "                        [-5.5414e-02,  5.1007e-02, -2.7597e-03],\n",
              "                        [-1.0130e-01, -6.0201e-02, -4.8781e-02]],\n",
              "              \n",
              "                       [[-9.7802e-02,  1.3497e-02,  3.7561e-02],\n",
              "                        [-1.9340e-02, -4.1947e-02, -6.3926e-04],\n",
              "                        [-8.3725e-02, -6.4184e-02, -2.4040e-03]],\n",
              "              \n",
              "                       [[ 9.3643e-02, -3.2414e-02,  5.2247e-02],\n",
              "                        [-4.1484e-02, -2.8060e-02, -1.0034e-01],\n",
              "                        [ 8.7330e-02,  1.0264e-01, -2.2139e-03]],\n",
              "              \n",
              "                       [[ 6.6974e-02,  8.6219e-02,  5.2359e-02],\n",
              "                        [ 5.4288e-02, -1.0035e-01, -9.9050e-02],\n",
              "                        [-8.0906e-02,  3.2970e-02, -9.1177e-02]]],\n",
              "              \n",
              "              \n",
              "                      [[[-8.0464e-02, -5.1092e-02, -9.7154e-02],\n",
              "                        [ 1.4203e-04,  1.5207e-02, -6.1686e-02],\n",
              "                        [ 6.9018e-02, -4.0018e-02, -2.9676e-02]],\n",
              "              \n",
              "                       [[ 8.0309e-02,  9.0499e-02, -1.2093e-02],\n",
              "                        [-7.5671e-02, -5.2881e-02,  1.3423e-02],\n",
              "                        [ 6.1790e-02,  5.2477e-02, -4.6547e-02]],\n",
              "              \n",
              "                       [[-9.9650e-02, -9.2249e-02, -3.3537e-02],\n",
              "                        [ 1.3223e-03, -4.7347e-02, -8.3348e-02],\n",
              "                        [ 1.1109e-02, -8.3668e-02, -8.0946e-02]],\n",
              "              \n",
              "                       [[-8.5692e-02, -2.8563e-02,  9.3104e-02],\n",
              "                        [ 4.1207e-02, -1.2498e-02,  2.1694e-02],\n",
              "                        [ 4.1975e-02,  6.1414e-04, -8.5020e-02]],\n",
              "              \n",
              "                       [[-6.4944e-02, -7.1610e-02, -2.6766e-03],\n",
              "                        [-9.6492e-02, -1.9166e-02, -3.8545e-02],\n",
              "                        [ 1.0345e-01,  8.5679e-02,  6.1227e-02]],\n",
              "              \n",
              "                       [[ 5.9116e-03, -3.4129e-02,  2.6887e-02],\n",
              "                        [-7.2830e-02, -4.4957e-02, -2.1175e-02],\n",
              "                        [-2.4766e-02, -9.9854e-02,  4.1903e-02]],\n",
              "              \n",
              "                       [[ 8.6803e-02, -5.8141e-02,  2.8415e-02],\n",
              "                        [-1.2225e-02, -3.8445e-03,  6.1443e-03],\n",
              "                        [ 9.1346e-02,  1.4124e-02, -6.6690e-02]],\n",
              "              \n",
              "                       [[-3.7917e-02,  5.1495e-02,  3.2893e-02],\n",
              "                        [ 2.0487e-03, -1.3912e-02, -4.1012e-02],\n",
              "                        [-3.7413e-02, -5.5602e-02,  1.7273e-02]],\n",
              "              \n",
              "                       [[ 2.9603e-02,  8.0717e-02, -2.3813e-02],\n",
              "                        [ 7.5461e-03,  6.8125e-02,  4.5852e-02],\n",
              "                        [ 1.3544e-02,  3.2390e-02,  5.4714e-03]],\n",
              "              \n",
              "                       [[-9.0419e-02,  4.0636e-03, -2.3040e-02],\n",
              "                        [ 9.5123e-02,  9.5145e-02,  2.0912e-02],\n",
              "                        [ 9.4215e-02, -5.4288e-02,  9.1619e-02]]],\n",
              "              \n",
              "              \n",
              "                      [[[ 9.0756e-02, -4.0288e-03, -8.4592e-02],\n",
              "                        [-3.4015e-02, -2.8189e-02,  1.7411e-03],\n",
              "                        [-9.5569e-02,  1.9535e-02, -4.3839e-02]],\n",
              "              \n",
              "                       [[-2.6989e-02, -5.4443e-02, -2.2255e-02],\n",
              "                        [-9.7896e-02, -5.5885e-02,  9.7108e-03],\n",
              "                        [ 6.9072e-02,  9.5790e-02, -7.9737e-02]],\n",
              "              \n",
              "                       [[ 4.4264e-02, -5.9419e-02, -8.1498e-02],\n",
              "                        [-4.6417e-03, -6.0468e-02, -9.0783e-02],\n",
              "                        [-9.8509e-02, -7.0556e-02,  8.6619e-02]],\n",
              "              \n",
              "                       [[ 5.8788e-02, -4.1726e-02, -7.0553e-02],\n",
              "                        [-8.1085e-02, -6.2246e-02, -4.3376e-02],\n",
              "                        [ 6.3308e-02,  3.4496e-02, -4.0622e-02]],\n",
              "              \n",
              "                       [[ 7.2567e-02, -6.5484e-02, -8.5876e-02],\n",
              "                        [ 2.3006e-02, -5.8123e-02,  2.9987e-02],\n",
              "                        [ 8.9306e-02, -4.9849e-02, -7.3556e-02]],\n",
              "              \n",
              "                       [[ 3.9676e-02, -9.5200e-02,  9.4044e-02],\n",
              "                        [-4.9780e-02,  5.0961e-02, -8.3818e-02],\n",
              "                        [-7.1348e-02,  1.1611e-02,  3.7463e-02]],\n",
              "              \n",
              "                       [[ 8.1734e-02,  8.8158e-02, -6.0623e-03],\n",
              "                        [-1.3552e-02,  1.7424e-02, -2.4486e-02],\n",
              "                        [ 3.5882e-03, -9.9828e-02, -8.6531e-02]],\n",
              "              \n",
              "                       [[ 7.2233e-02, -6.1597e-02,  8.3008e-02],\n",
              "                        [ 1.1568e-02,  2.5676e-02,  9.5804e-02],\n",
              "                        [-5.8628e-02, -1.6640e-02,  1.8675e-02]],\n",
              "              \n",
              "                       [[ 3.6012e-02, -1.0259e-01,  3.7464e-02],\n",
              "                        [-6.2163e-02,  1.3846e-02,  7.1315e-02],\n",
              "                        [-1.0500e-02, -3.3346e-03, -7.8757e-03]],\n",
              "              \n",
              "                       [[ 8.7962e-02,  5.9907e-02,  1.7727e-02],\n",
              "                        [-6.3437e-02, -5.7241e-02,  8.3964e-02],\n",
              "                        [ 7.5834e-02,  6.1033e-02, -8.2189e-02]]],\n",
              "              \n",
              "              \n",
              "                      [[[ 8.2092e-02, -1.0076e-02,  7.7661e-02],\n",
              "                        [ 9.1553e-02,  1.1554e-02, -4.3863e-02],\n",
              "                        [ 9.9153e-02, -5.4931e-02,  6.8876e-02]],\n",
              "              \n",
              "                       [[-1.0108e-01, -3.3153e-02, -9.1902e-02],\n",
              "                        [-4.7284e-02,  4.4759e-02, -7.5529e-02],\n",
              "                        [-9.1158e-02,  7.5371e-02,  5.6270e-02]],\n",
              "              \n",
              "                       [[-1.1527e-03, -7.4309e-02, -2.7927e-02],\n",
              "                        [-3.4129e-02,  6.5100e-02, -3.4478e-02],\n",
              "                        [-3.0360e-02, -7.4720e-02, -4.9646e-02]],\n",
              "              \n",
              "                       [[ 5.7074e-02,  6.7914e-02,  1.5315e-02],\n",
              "                        [-3.9549e-02,  1.0124e-01,  2.0806e-02],\n",
              "                        [-4.0688e-02, -3.6535e-02, -1.4752e-02]],\n",
              "              \n",
              "                       [[ 4.9974e-02,  3.8555e-02,  7.6418e-02],\n",
              "                        [-4.7494e-03,  8.7183e-02, -4.2816e-02],\n",
              "                        [-4.8547e-02, -3.8927e-02, -9.8896e-02]],\n",
              "              \n",
              "                       [[-6.9195e-02, -9.5382e-02, -6.2294e-03],\n",
              "                        [ 9.9374e-04, -2.7358e-02, -7.2035e-02],\n",
              "                        [ 9.5637e-02, -3.4926e-02,  5.0233e-02]],\n",
              "              \n",
              "                       [[ 7.3408e-02, -6.9291e-02, -1.3179e-02],\n",
              "                        [ 6.0923e-02,  1.0218e-01, -1.3299e-02],\n",
              "                        [ 7.6382e-02, -8.2732e-02, -6.8489e-02]],\n",
              "              \n",
              "                       [[ 8.6682e-02, -9.9801e-03,  1.0414e-01],\n",
              "                        [ 7.6651e-03, -4.3714e-02,  1.0011e-01],\n",
              "                        [ 9.2179e-02,  9.7826e-03, -6.3900e-02]],\n",
              "              \n",
              "                       [[-4.5639e-03, -5.0693e-02,  7.6810e-02],\n",
              "                        [ 4.8829e-03,  2.2191e-02,  6.3927e-02],\n",
              "                        [ 3.4916e-02, -6.5803e-02,  8.7566e-02]],\n",
              "              \n",
              "                       [[ 6.4758e-02, -6.5073e-02,  7.9700e-02],\n",
              "                        [ 2.9905e-02, -2.0750e-02, -7.5385e-02],\n",
              "                        [-1.7490e-02, -1.0335e-01,  6.0163e-02]]],\n",
              "              \n",
              "              \n",
              "                      [[[ 7.6343e-02, -3.0347e-02,  9.7720e-02],\n",
              "                        [-3.9032e-02,  1.8051e-02, -7.3459e-02],\n",
              "                        [-4.4565e-03,  4.2610e-02,  4.5403e-02]],\n",
              "              \n",
              "                       [[-3.5346e-03, -5.3154e-02,  7.3680e-02],\n",
              "                        [ 6.9788e-02,  1.6916e-02, -4.8475e-02],\n",
              "                        [ 2.2349e-02,  2.8186e-04,  9.6302e-02]],\n",
              "              \n",
              "                       [[ 1.5621e-02,  8.1301e-03,  7.2057e-03],\n",
              "                        [ 5.6079e-02, -1.3024e-03,  9.0351e-02],\n",
              "                        [ 5.4917e-02, -7.9650e-02, -1.2063e-06]],\n",
              "              \n",
              "                       [[-8.9472e-02, -8.0934e-02,  2.0480e-02],\n",
              "                        [ 2.3687e-02, -9.2246e-03,  1.0019e-01],\n",
              "                        [-5.6627e-02, -4.4176e-02, -1.6881e-02]],\n",
              "              \n",
              "                       [[ 6.3911e-04, -8.9284e-03,  9.4909e-02],\n",
              "                        [-4.4519e-02, -5.5137e-02,  9.0599e-03],\n",
              "                        [ 7.9171e-02,  2.5019e-02,  5.6787e-02]],\n",
              "              \n",
              "                       [[ 2.0406e-02,  8.9839e-02,  6.3311e-02],\n",
              "                        [ 7.5428e-02, -1.4198e-02, -8.7268e-02],\n",
              "                        [-5.0002e-02,  3.5910e-02,  7.3950e-02]],\n",
              "              \n",
              "                       [[-4.1184e-02,  8.7218e-02,  1.5150e-02],\n",
              "                        [ 4.1869e-04,  4.1093e-03, -1.8623e-02],\n",
              "                        [ 9.8683e-02,  4.5784e-03,  6.4564e-02]],\n",
              "              \n",
              "                       [[-8.8967e-02, -5.4309e-02,  1.1852e-02],\n",
              "                        [ 8.4169e-02,  5.0184e-02,  2.0076e-02],\n",
              "                        [-1.0414e-01,  1.9816e-03, -6.9581e-02]],\n",
              "              \n",
              "                       [[-9.0006e-02,  1.4414e-02, -6.6693e-02],\n",
              "                        [ 9.5674e-02, -5.7294e-02,  3.3970e-02],\n",
              "                        [ 6.1871e-02, -8.1928e-02,  5.3946e-02]],\n",
              "              \n",
              "                       [[-1.4114e-02,  5.4619e-02,  1.0201e-01],\n",
              "                        [-4.4922e-02, -4.5653e-02,  8.3753e-02],\n",
              "                        [ 1.1722e-02, -1.0513e-02,  7.9971e-02]]],\n",
              "              \n",
              "              \n",
              "                      [[[-5.0928e-02, -5.2047e-03,  7.2403e-02],\n",
              "                        [ 4.1195e-02, -6.8180e-02,  2.7398e-02],\n",
              "                        [-8.0368e-02, -5.7245e-02,  6.7779e-02]],\n",
              "              \n",
              "                       [[-2.8093e-02, -5.3691e-02,  7.4717e-03],\n",
              "                        [ 2.5759e-02, -6.5524e-02, -7.1084e-02],\n",
              "                        [-1.0209e-01,  2.7236e-02, -6.8013e-02]],\n",
              "              \n",
              "                       [[ 8.0331e-03, -2.3576e-02, -6.8923e-02],\n",
              "                        [-3.3636e-02, -8.1027e-02, -5.5797e-02],\n",
              "                        [-3.2857e-03, -9.0116e-02, -9.2447e-02]],\n",
              "              \n",
              "                       [[ 7.8958e-02,  9.9188e-03, -4.6618e-02],\n",
              "                        [-3.5047e-03,  7.8168e-02, -8.7939e-02],\n",
              "                        [-5.5886e-02, -7.6226e-02, -7.6634e-03]],\n",
              "              \n",
              "                       [[-3.6274e-03, -8.2146e-02,  7.3163e-02],\n",
              "                        [-8.0946e-02,  9.8414e-02, -7.2560e-02],\n",
              "                        [-1.4446e-02,  1.9710e-02, -4.6852e-02]],\n",
              "              \n",
              "                       [[ 9.6939e-02, -7.2673e-02, -5.8427e-03],\n",
              "                        [-7.7398e-02,  2.9261e-02,  8.9871e-02],\n",
              "                        [ 9.7776e-02,  1.2514e-02, -5.2773e-02]],\n",
              "              \n",
              "                       [[ 1.0244e-01,  7.8667e-03,  7.1317e-02],\n",
              "                        [-5.4751e-02, -4.8920e-02, -8.7504e-02],\n",
              "                        [ 9.6990e-02,  1.7486e-02, -7.5704e-02]],\n",
              "              \n",
              "                       [[ 9.0535e-03, -4.5211e-02,  5.2659e-03],\n",
              "                        [ 3.4988e-02, -5.2308e-02,  1.8394e-02],\n",
              "                        [-6.6553e-02,  2.0312e-02, -1.0178e-01]],\n",
              "              \n",
              "                       [[ 1.6797e-02,  1.0473e-01,  9.7094e-02],\n",
              "                        [ 3.8451e-02,  7.7563e-02,  1.0248e-01],\n",
              "                        [ 2.9870e-02,  3.5156e-02,  1.3707e-02]],\n",
              "              \n",
              "                       [[ 9.3322e-02,  9.0551e-02, -4.9570e-02],\n",
              "                        [-4.3333e-03, -5.3110e-02,  3.7824e-02],\n",
              "                        [-1.0214e-01,  3.7301e-02, -2.8929e-02]]],\n",
              "              \n",
              "              \n",
              "                      [[[ 3.8227e-02,  3.2899e-02, -5.2454e-02],\n",
              "                        [ 5.4687e-02,  4.4762e-02, -8.9602e-02],\n",
              "                        [ 1.0517e-01,  9.0731e-02,  6.5584e-02]],\n",
              "              \n",
              "                       [[-1.0699e-02,  3.7345e-02, -5.7028e-02],\n",
              "                        [-3.5818e-02,  4.9749e-02,  4.6925e-02],\n",
              "                        [ 4.1741e-02, -1.0053e-01,  8.7350e-02]],\n",
              "              \n",
              "                       [[-4.4028e-02,  9.1223e-02,  8.6852e-02],\n",
              "                        [ 3.9070e-02,  1.0502e-01,  6.0528e-02],\n",
              "                        [ 6.1821e-02, -3.5794e-02,  9.7766e-02]],\n",
              "              \n",
              "                       [[ 2.7627e-02,  6.2280e-02, -2.3834e-02],\n",
              "                        [ 7.6340e-02,  9.3509e-02, -8.0770e-02],\n",
              "                        [ 8.6415e-02, -6.9664e-02, -7.2571e-02]],\n",
              "              \n",
              "                       [[-8.8089e-02,  3.0459e-02, -7.9144e-02],\n",
              "                        [-3.9680e-02, -5.2988e-02,  2.8172e-02],\n",
              "                        [-1.0349e-01, -4.8324e-02,  7.7112e-04]],\n",
              "              \n",
              "                       [[ 9.4660e-03, -4.7605e-02,  3.7764e-02],\n",
              "                        [-6.9544e-02, -8.9270e-02, -1.4986e-02],\n",
              "                        [-5.6989e-02,  6.6443e-02, -7.2049e-02]],\n",
              "              \n",
              "                       [[-8.8494e-03,  4.3782e-02, -9.2311e-02],\n",
              "                        [ 8.1599e-02, -4.7895e-02, -2.8684e-02],\n",
              "                        [-6.4480e-02, -3.9279e-02, -4.0645e-02]],\n",
              "              \n",
              "                       [[-9.3801e-02,  3.6019e-02, -3.3768e-04],\n",
              "                        [ 1.0311e-01,  7.1117e-02,  9.1699e-02],\n",
              "                        [ 3.1014e-02,  5.5388e-02,  9.8704e-02]],\n",
              "              \n",
              "                       [[ 8.6545e-02, -8.0996e-02, -2.3636e-02],\n",
              "                        [-1.0166e-01,  3.9877e-03, -3.7229e-02],\n",
              "                        [ 9.1486e-02,  1.6666e-02,  1.1601e-03]],\n",
              "              \n",
              "                       [[-7.6248e-02, -8.2718e-02,  1.6594e-02],\n",
              "                        [-5.2376e-02, -4.8409e-02,  7.3938e-02],\n",
              "                        [-5.4952e-02, -4.6918e-02,  8.0934e-02]]]])),\n",
              "             ('conv_block_2.2.bias',\n",
              "              tensor([ 0.0412, -0.0599,  0.0319,  0.0531, -0.0936,  0.0197,  0.0241, -0.0041,\n",
              "                       0.1011, -0.0697])),\n",
              "             ('classifier.1.weight',\n",
              "              tensor([[ 0.0245, -0.0240, -0.0387,  ...,  0.0094, -0.0015, -0.0225],\n",
              "                      [ 0.0228,  0.0067, -0.0439,  ..., -0.0302,  0.0368,  0.0293],\n",
              "                      [ 0.0303,  0.0347, -0.0211,  ...,  0.0207, -0.0423, -0.0240],\n",
              "                      ...,\n",
              "                      [-0.0359, -0.0343,  0.0166,  ...,  0.0324,  0.0113, -0.0143],\n",
              "                      [-0.0294, -0.0316,  0.0251,  ..., -0.0056,  0.0300, -0.0396],\n",
              "                      [-0.0246, -0.0035, -0.0046,  ..., -0.0146, -0.0358,  0.0175]])),\n",
              "             ('classifier.1.bias',\n",
              "              tensor([ 0.0320, -0.0445,  0.0246, -0.0357, -0.0442,  0.0156, -0.0010, -0.0277,\n",
              "                       0.0404,  0.0037]))])"
            ]
          },
          "metadata": {},
          "execution_count": 159
        }
      ]
    },
    {
      "cell_type": "markdown",
      "source": [
        "### 7.4 Training and Testing `model_2` Using our training and test functions"
      ],
      "metadata": {
        "id": "xcBOBnCb7Nf0"
      }
    },
    {
      "cell_type": "code",
      "source": [
        "torch.manual_seed(42)\n",
        "torch.cuda.manual_seed(42)\n",
        "\n",
        "# Meature time\n",
        "from timeit import default_timer as timer\n",
        "\n",
        "train_time_start_model_2 = timer()\n",
        "\n",
        "\n",
        "# Train and test model\n",
        "\n",
        "epochs = 3 \n",
        "\n",
        "\n",
        "for epoch in tqdm(range(epochs)):\n",
        "  print(f\"Epoch: {epoch}      -----------------------------\")\n",
        "  train_step(model=model_2,\n",
        "             data_loader = train_dataloader,\n",
        "             loss_fn = loss_fn,\n",
        "             optimizer = optimizer,\n",
        "             accuracy_fn= accuracy_fn,\n",
        "             device = device)\n",
        "  \n",
        "  train_step(model=model_2,\n",
        "             data_loader = test_dataloader,\n",
        "             loss_fn = loss_fn,\n",
        "             optimizer = optimizer,\n",
        "             accuracy_fn= accuracy_fn,\n",
        "             device = device)\n",
        "  \n",
        "train_time_end_model_2 = timer()\n",
        "\n",
        "total_train_time_model_2_on_cpu = print_train_time(start = train_time_start_model_2, end = train_time_end_model_2,device=device)\n"
      ],
      "metadata": {
        "colab": {
          "base_uri": "https://localhost:8080/",
          "height": 535,
          "referenced_widgets": [
            "caef5f6dc7874f25bc125afd6eb0a380",
            "cf125b2eb4ec4dda9131502a6ae2da24",
            "2be135379a7945eaadd0b7046333c40a",
            "e5bbf46c0042443ba74f992b7d73b1a7",
            "028e649721ae45c885ce3272cf191c85",
            "fba1cbe259b64221a8a56cd89e65399b",
            "5f11da88e9944371b1e49b76db614975",
            "ce32c01d66f44d35abf2956dc92a6d59",
            "c3544371b39144c38bb8e681e5ad6d34",
            "6c05b8ba15aa44afa1abf4866235a5d9",
            "c27a15f02e854601a6c5596b878b0195"
          ]
        },
        "id": "Lxu157lh7Joj",
        "outputId": "febddae0-ca4b-449a-ae93-a2b42ce09e9a"
      },
      "execution_count": 160,
      "outputs": [
        {
          "output_type": "display_data",
          "data": {
            "text/plain": [
              "  0%|          | 0/3 [00:00<?, ?it/s]"
            ],
            "application/vnd.jupyter.widget-view+json": {
              "version_major": 2,
              "version_minor": 0,
              "model_id": "caef5f6dc7874f25bc125afd6eb0a380"
            }
          },
          "metadata": {}
        },
        {
          "output_type": "stream",
          "name": "stdout",
          "text": [
            "Epoch: 0      -----------------------------\n",
            "Looked at 0 / 60000 samples\n",
            "Looked at 12800 / 60000 samples\n",
            "Looked at 25600 / 60000 samples\n",
            "Looked at 38400 / 60000 samples\n",
            "Looked at 51200 / 60000 samples\n",
            "Train loss : 1.0378     Train accuracy : 62.3517\n",
            "Looked at 0 / 10000 samples\n",
            "Train loss : 0.6392     Train accuracy : 76.4976\n",
            "Epoch: 1      -----------------------------\n",
            "Looked at 0 / 60000 samples\n",
            "Looked at 12800 / 60000 samples\n",
            "Looked at 25600 / 60000 samples\n",
            "Looked at 38400 / 60000 samples\n",
            "Looked at 51200 / 60000 samples\n",
            "Train loss : 0.5271     Train accuracy : 80.7867\n",
            "Looked at 0 / 10000 samples\n",
            "Train loss : 0.4930     Train accuracy : 82.0587\n",
            "Epoch: 2      -----------------------------\n",
            "Looked at 0 / 60000 samples\n",
            "Looked at 12800 / 60000 samples\n",
            "Looked at 25600 / 60000 samples\n",
            "Looked at 38400 / 60000 samples\n",
            "Looked at 51200 / 60000 samples\n",
            "Train loss : 0.4396     Train accuracy : 84.1750\n",
            "Looked at 0 / 10000 samples\n",
            "Train loss : 0.4398     Train accuracy : 84.1454\n",
            "Train time on cpu : 258.456 seconds\n"
          ]
        }
      ]
    },
    {
      "cell_type": "markdown",
      "source": [
        "### 7.5 Evaluating `model_2`"
      ],
      "metadata": {
        "id": "2D42xHny9S4f"
      }
    },
    {
      "cell_type": "code",
      "source": [
        "model_2_results = eval_model(\n",
        "    model = model_2,\n",
        "    dataloader = test_dataloader,\n",
        "    loss_fn = loss_fn,\n",
        "    accuracy_fn = accuracy_fn\n",
        ")\n",
        "\n",
        "model_2_results"
      ],
      "metadata": {
        "colab": {
          "base_uri": "https://localhost:8080/"
        },
        "id": "zOQVcT8-8kwr",
        "outputId": "cb8a0d8a-228c-44de-db8e-6ec65f168a33"
      },
      "execution_count": 161,
      "outputs": [
        {
          "output_type": "execute_result",
          "data": {
            "text/plain": [
              "{'model_name': 'FashionMNISTModelV2',\n",
              " 'model_loss': 0.5057083964347839,\n",
              " 'model_accuracy': 80.23162939297124}"
            ]
          },
          "metadata": {},
          "execution_count": 161
        }
      ]
    },
    {
      "cell_type": "markdown",
      "source": [
        "## 8. Compare model results and training time"
      ],
      "metadata": {
        "id": "3Dav30Ap-Yh_"
      }
    },
    {
      "cell_type": "code",
      "source": [
        "\n",
        "\n",
        "import pandas as pd\n",
        "\n",
        "compare_results = pd.DataFrame([model_0_results,model_1_results,model_2_results])\n",
        "compare_results"
      ],
      "metadata": {
        "colab": {
          "base_uri": "https://localhost:8080/",
          "height": 143
        },
        "id": "_DO1RctK9rFV",
        "outputId": "2eaa7e5d-0731-4c75-9220-c13d052d3e4b"
      },
      "execution_count": 162,
      "outputs": [
        {
          "output_type": "execute_result",
          "data": {
            "text/plain": [
              "            model_name  model_loss  model_accuracy\n",
              "0  FashionMNISTModelV0    0.498892       82.857428\n",
              "1       FashionMNISTV1    0.476639       83.426518\n",
              "2  FashionMNISTModelV2    0.505708       80.231629"
            ],
            "text/html": [
              "\n",
              "  <div id=\"df-a9b04d11-e0bf-40f0-8222-b72923904106\">\n",
              "    <div class=\"colab-df-container\">\n",
              "      <div>\n",
              "<style scoped>\n",
              "    .dataframe tbody tr th:only-of-type {\n",
              "        vertical-align: middle;\n",
              "    }\n",
              "\n",
              "    .dataframe tbody tr th {\n",
              "        vertical-align: top;\n",
              "    }\n",
              "\n",
              "    .dataframe thead th {\n",
              "        text-align: right;\n",
              "    }\n",
              "</style>\n",
              "<table border=\"1\" class=\"dataframe\">\n",
              "  <thead>\n",
              "    <tr style=\"text-align: right;\">\n",
              "      <th></th>\n",
              "      <th>model_name</th>\n",
              "      <th>model_loss</th>\n",
              "      <th>model_accuracy</th>\n",
              "    </tr>\n",
              "  </thead>\n",
              "  <tbody>\n",
              "    <tr>\n",
              "      <th>0</th>\n",
              "      <td>FashionMNISTModelV0</td>\n",
              "      <td>0.498892</td>\n",
              "      <td>82.857428</td>\n",
              "    </tr>\n",
              "    <tr>\n",
              "      <th>1</th>\n",
              "      <td>FashionMNISTV1</td>\n",
              "      <td>0.476639</td>\n",
              "      <td>83.426518</td>\n",
              "    </tr>\n",
              "    <tr>\n",
              "      <th>2</th>\n",
              "      <td>FashionMNISTModelV2</td>\n",
              "      <td>0.505708</td>\n",
              "      <td>80.231629</td>\n",
              "    </tr>\n",
              "  </tbody>\n",
              "</table>\n",
              "</div>\n",
              "      <button class=\"colab-df-convert\" onclick=\"convertToInteractive('df-a9b04d11-e0bf-40f0-8222-b72923904106')\"\n",
              "              title=\"Convert this dataframe to an interactive table.\"\n",
              "              style=\"display:none;\">\n",
              "        \n",
              "  <svg xmlns=\"http://www.w3.org/2000/svg\" height=\"24px\"viewBox=\"0 0 24 24\"\n",
              "       width=\"24px\">\n",
              "    <path d=\"M0 0h24v24H0V0z\" fill=\"none\"/>\n",
              "    <path d=\"M18.56 5.44l.94 2.06.94-2.06 2.06-.94-2.06-.94-.94-2.06-.94 2.06-2.06.94zm-11 1L8.5 8.5l.94-2.06 2.06-.94-2.06-.94L8.5 2.5l-.94 2.06-2.06.94zm10 10l.94 2.06.94-2.06 2.06-.94-2.06-.94-.94-2.06-.94 2.06-2.06.94z\"/><path d=\"M17.41 7.96l-1.37-1.37c-.4-.4-.92-.59-1.43-.59-.52 0-1.04.2-1.43.59L10.3 9.45l-7.72 7.72c-.78.78-.78 2.05 0 2.83L4 21.41c.39.39.9.59 1.41.59.51 0 1.02-.2 1.41-.59l7.78-7.78 2.81-2.81c.8-.78.8-2.07 0-2.86zM5.41 20L4 18.59l7.72-7.72 1.47 1.35L5.41 20z\"/>\n",
              "  </svg>\n",
              "      </button>\n",
              "      \n",
              "  <style>\n",
              "    .colab-df-container {\n",
              "      display:flex;\n",
              "      flex-wrap:wrap;\n",
              "      gap: 12px;\n",
              "    }\n",
              "\n",
              "    .colab-df-convert {\n",
              "      background-color: #E8F0FE;\n",
              "      border: none;\n",
              "      border-radius: 50%;\n",
              "      cursor: pointer;\n",
              "      display: none;\n",
              "      fill: #1967D2;\n",
              "      height: 32px;\n",
              "      padding: 0 0 0 0;\n",
              "      width: 32px;\n",
              "    }\n",
              "\n",
              "    .colab-df-convert:hover {\n",
              "      background-color: #E2EBFA;\n",
              "      box-shadow: 0px 1px 2px rgba(60, 64, 67, 0.3), 0px 1px 3px 1px rgba(60, 64, 67, 0.15);\n",
              "      fill: #174EA6;\n",
              "    }\n",
              "\n",
              "    [theme=dark] .colab-df-convert {\n",
              "      background-color: #3B4455;\n",
              "      fill: #D2E3FC;\n",
              "    }\n",
              "\n",
              "    [theme=dark] .colab-df-convert:hover {\n",
              "      background-color: #434B5C;\n",
              "      box-shadow: 0px 1px 3px 1px rgba(0, 0, 0, 0.15);\n",
              "      filter: drop-shadow(0px 1px 2px rgba(0, 0, 0, 0.3));\n",
              "      fill: #FFFFFF;\n",
              "    }\n",
              "  </style>\n",
              "\n",
              "      <script>\n",
              "        const buttonEl =\n",
              "          document.querySelector('#df-a9b04d11-e0bf-40f0-8222-b72923904106 button.colab-df-convert');\n",
              "        buttonEl.style.display =\n",
              "          google.colab.kernel.accessAllowed ? 'block' : 'none';\n",
              "\n",
              "        async function convertToInteractive(key) {\n",
              "          const element = document.querySelector('#df-a9b04d11-e0bf-40f0-8222-b72923904106');\n",
              "          const dataTable =\n",
              "            await google.colab.kernel.invokeFunction('convertToInteractive',\n",
              "                                                     [key], {});\n",
              "          if (!dataTable) return;\n",
              "\n",
              "          const docLinkHtml = 'Like what you see? Visit the ' +\n",
              "            '<a target=\"_blank\" href=https://colab.research.google.com/notebooks/data_table.ipynb>data table notebook</a>'\n",
              "            + ' to learn more about interactive tables.';\n",
              "          element.innerHTML = '';\n",
              "          dataTable['output_type'] = 'display_data';\n",
              "          await google.colab.output.renderOutput(dataTable, element);\n",
              "          const docLink = document.createElement('div');\n",
              "          docLink.innerHTML = docLinkHtml;\n",
              "          element.appendChild(docLink);\n",
              "        }\n",
              "      </script>\n",
              "    </div>\n",
              "  </div>\n",
              "  "
            ]
          },
          "metadata": {},
          "execution_count": 162
        }
      ]
    },
    {
      "cell_type": "code",
      "source": [
        "# Add training time to results comparision\n",
        "\n",
        "compare_results[\"Toral train time\"] = [total_train_time_on_cpu,total_train_time_model_1_on_cpu,total_train_time_model_2_on_cpu]\n",
        "\n",
        "compare_results"
      ],
      "metadata": {
        "colab": {
          "base_uri": "https://localhost:8080/",
          "height": 143
        },
        "id": "jLtx2m95-MOR",
        "outputId": "c1a8990a-285c-4d06-daba-b5af66ea4a0a"
      },
      "execution_count": 163,
      "outputs": [
        {
          "output_type": "execute_result",
          "data": {
            "text/plain": [
              "            model_name  model_loss  model_accuracy  Toral train time\n",
              "0  FashionMNISTModelV0    0.498892       82.857428         30.788498\n",
              "1       FashionMNISTV1    0.476639       83.426518         48.228911\n",
              "2  FashionMNISTModelV2    0.505708       80.231629        258.456095"
            ],
            "text/html": [
              "\n",
              "  <div id=\"df-e94d2f4f-dd22-46fe-b7df-348d11c7dd41\">\n",
              "    <div class=\"colab-df-container\">\n",
              "      <div>\n",
              "<style scoped>\n",
              "    .dataframe tbody tr th:only-of-type {\n",
              "        vertical-align: middle;\n",
              "    }\n",
              "\n",
              "    .dataframe tbody tr th {\n",
              "        vertical-align: top;\n",
              "    }\n",
              "\n",
              "    .dataframe thead th {\n",
              "        text-align: right;\n",
              "    }\n",
              "</style>\n",
              "<table border=\"1\" class=\"dataframe\">\n",
              "  <thead>\n",
              "    <tr style=\"text-align: right;\">\n",
              "      <th></th>\n",
              "      <th>model_name</th>\n",
              "      <th>model_loss</th>\n",
              "      <th>model_accuracy</th>\n",
              "      <th>Toral train time</th>\n",
              "    </tr>\n",
              "  </thead>\n",
              "  <tbody>\n",
              "    <tr>\n",
              "      <th>0</th>\n",
              "      <td>FashionMNISTModelV0</td>\n",
              "      <td>0.498892</td>\n",
              "      <td>82.857428</td>\n",
              "      <td>30.788498</td>\n",
              "    </tr>\n",
              "    <tr>\n",
              "      <th>1</th>\n",
              "      <td>FashionMNISTV1</td>\n",
              "      <td>0.476639</td>\n",
              "      <td>83.426518</td>\n",
              "      <td>48.228911</td>\n",
              "    </tr>\n",
              "    <tr>\n",
              "      <th>2</th>\n",
              "      <td>FashionMNISTModelV2</td>\n",
              "      <td>0.505708</td>\n",
              "      <td>80.231629</td>\n",
              "      <td>258.456095</td>\n",
              "    </tr>\n",
              "  </tbody>\n",
              "</table>\n",
              "</div>\n",
              "      <button class=\"colab-df-convert\" onclick=\"convertToInteractive('df-e94d2f4f-dd22-46fe-b7df-348d11c7dd41')\"\n",
              "              title=\"Convert this dataframe to an interactive table.\"\n",
              "              style=\"display:none;\">\n",
              "        \n",
              "  <svg xmlns=\"http://www.w3.org/2000/svg\" height=\"24px\"viewBox=\"0 0 24 24\"\n",
              "       width=\"24px\">\n",
              "    <path d=\"M0 0h24v24H0V0z\" fill=\"none\"/>\n",
              "    <path d=\"M18.56 5.44l.94 2.06.94-2.06 2.06-.94-2.06-.94-.94-2.06-.94 2.06-2.06.94zm-11 1L8.5 8.5l.94-2.06 2.06-.94-2.06-.94L8.5 2.5l-.94 2.06-2.06.94zm10 10l.94 2.06.94-2.06 2.06-.94-2.06-.94-.94-2.06-.94 2.06-2.06.94z\"/><path d=\"M17.41 7.96l-1.37-1.37c-.4-.4-.92-.59-1.43-.59-.52 0-1.04.2-1.43.59L10.3 9.45l-7.72 7.72c-.78.78-.78 2.05 0 2.83L4 21.41c.39.39.9.59 1.41.59.51 0 1.02-.2 1.41-.59l7.78-7.78 2.81-2.81c.8-.78.8-2.07 0-2.86zM5.41 20L4 18.59l7.72-7.72 1.47 1.35L5.41 20z\"/>\n",
              "  </svg>\n",
              "      </button>\n",
              "      \n",
              "  <style>\n",
              "    .colab-df-container {\n",
              "      display:flex;\n",
              "      flex-wrap:wrap;\n",
              "      gap: 12px;\n",
              "    }\n",
              "\n",
              "    .colab-df-convert {\n",
              "      background-color: #E8F0FE;\n",
              "      border: none;\n",
              "      border-radius: 50%;\n",
              "      cursor: pointer;\n",
              "      display: none;\n",
              "      fill: #1967D2;\n",
              "      height: 32px;\n",
              "      padding: 0 0 0 0;\n",
              "      width: 32px;\n",
              "    }\n",
              "\n",
              "    .colab-df-convert:hover {\n",
              "      background-color: #E2EBFA;\n",
              "      box-shadow: 0px 1px 2px rgba(60, 64, 67, 0.3), 0px 1px 3px 1px rgba(60, 64, 67, 0.15);\n",
              "      fill: #174EA6;\n",
              "    }\n",
              "\n",
              "    [theme=dark] .colab-df-convert {\n",
              "      background-color: #3B4455;\n",
              "      fill: #D2E3FC;\n",
              "    }\n",
              "\n",
              "    [theme=dark] .colab-df-convert:hover {\n",
              "      background-color: #434B5C;\n",
              "      box-shadow: 0px 1px 3px 1px rgba(0, 0, 0, 0.15);\n",
              "      filter: drop-shadow(0px 1px 2px rgba(0, 0, 0, 0.3));\n",
              "      fill: #FFFFFF;\n",
              "    }\n",
              "  </style>\n",
              "\n",
              "      <script>\n",
              "        const buttonEl =\n",
              "          document.querySelector('#df-e94d2f4f-dd22-46fe-b7df-348d11c7dd41 button.colab-df-convert');\n",
              "        buttonEl.style.display =\n",
              "          google.colab.kernel.accessAllowed ? 'block' : 'none';\n",
              "\n",
              "        async function convertToInteractive(key) {\n",
              "          const element = document.querySelector('#df-e94d2f4f-dd22-46fe-b7df-348d11c7dd41');\n",
              "          const dataTable =\n",
              "            await google.colab.kernel.invokeFunction('convertToInteractive',\n",
              "                                                     [key], {});\n",
              "          if (!dataTable) return;\n",
              "\n",
              "          const docLinkHtml = 'Like what you see? Visit the ' +\n",
              "            '<a target=\"_blank\" href=https://colab.research.google.com/notebooks/data_table.ipynb>data table notebook</a>'\n",
              "            + ' to learn more about interactive tables.';\n",
              "          element.innerHTML = '';\n",
              "          dataTable['output_type'] = 'display_data';\n",
              "          await google.colab.output.renderOutput(dataTable, element);\n",
              "          const docLink = document.createElement('div');\n",
              "          docLink.innerHTML = docLinkHtml;\n",
              "          element.appendChild(docLink);\n",
              "        }\n",
              "      </script>\n",
              "    </div>\n",
              "  </div>\n",
              "  "
            ]
          },
          "metadata": {},
          "execution_count": 163
        }
      ]
    },
    {
      "cell_type": "code",
      "source": [
        "# Visulaize our model results\n",
        "compare_results.set_index(\"model_name\")[\"model_accuracy\"].plot(kind=\"barh\")\n",
        "plt.xlabel(\"accuracy (%)\")\n",
        "plt.ylabel(\"model\")\n"
      ],
      "metadata": {
        "colab": {
          "base_uri": "https://localhost:8080/",
          "height": 296
        },
        "id": "czu2n9wD_IIJ",
        "outputId": "54b4fcc5-f9e9-4f5b-80e8-b131d37bcf52"
      },
      "execution_count": 164,
      "outputs": [
        {
          "output_type": "execute_result",
          "data": {
            "text/plain": [
              "Text(0, 0.5, 'model')"
            ]
          },
          "metadata": {},
          "execution_count": 164
        },
        {
          "output_type": "display_data",
          "data": {
            "text/plain": [
              "<Figure size 432x288 with 1 Axes>"
            ],
            "image/png": "[encoded data removed]"
          },
          "metadata": {
            "needs_background": "light"
          }
        }
      ]
    },
    {
      "cell_type": "markdown",
      "source": [
        "## 9. Make and evaluate random predictions with best model"
      ],
      "metadata": {
        "id": "oKSuntCPAFMM"
      }
    },
    {
      "cell_type": "code",
      "source": [
        "def make_predictions(model: torch.nn.Module,\n",
        "                     data: list,\n",
        "                     device:torch.device = device):\n",
        "  pred_probs = []\n",
        "  model.to(device)\n",
        "  model.eval()\n",
        "\n",
        "  with torch.inference_mode():\n",
        "    for sample in data:\n",
        "      # Prepare the sample\n",
        "      sample = torch.unsqueeze(sample,dim=0).to(device)\n",
        "\n",
        "      #Forward pass (model outputs raw logits)\n",
        "      pred_logit = model(sample)\n",
        "\n",
        "      # Get prediction probability (logit -> prediction probabilites)\n",
        "      pred_prob = torch.softmax(pred_logit.squeeze(), dim = 0)\n",
        "\n",
        "      #Get pred_prep off the GPU for further calculations\n",
        "      pred_probs.append(pred_prob.cpu())\n",
        "\n",
        "  # Stack the pred_pobs to turn list into tensor\n",
        "  return torch.stack(pred_probs)"
      ],
      "metadata": {
        "id": "bWJM8v5v_sjk"
      },
      "execution_count": 191,
      "outputs": []
    },
    {
      "cell_type": "code",
      "source": [
        "import random\n",
        "# random.seed(42)\n",
        "\n",
        "test_samples = []\n",
        "test_label =  []\n",
        "\n",
        "for sample, label in random.sample(list(test_data), k=9):\n",
        "  test_samples.append(sample)\n",
        "  test_label.append(label)\n",
        "\n",
        "len(test_samples)"
      ],
      "metadata": {
        "colab": {
          "base_uri": "https://localhost:8080/"
        },
        "id": "zQ0hYcj1BVnL",
        "outputId": "933a2bd7-31ef-4198-e11b-afbe6f6dc241"
      },
      "execution_count": 205,
      "outputs": [
        {
          "output_type": "execute_result",
          "data": {
            "text/plain": [
              "9"
            ]
          },
          "metadata": {},
          "execution_count": 205
        }
      ]
    },
    {
      "cell_type": "code",
      "source": [
        "plt.imshow(test_samples[0].squeeze(), cmap=\"gray\")\n",
        "plt.title(test_label[0])"
      ],
      "metadata": {
        "colab": {
          "base_uri": "https://localhost:8080/",
          "height": 298
        },
        "id": "8JRTa5rgBid2",
        "outputId": "49768029-6f71-4e16-e2a7-225cb49bc0a4"
      },
      "execution_count": 206,
      "outputs": [
        {
          "output_type": "execute_result",
          "data": {
            "text/plain": [
              "Text(0.5, 1.0, '2')"
            ]
          },
          "metadata": {},
          "execution_count": 206
        },
        {
          "output_type": "display_data",
          "data": {
            "text/plain": [
              "<Figure size 432x288 with 1 Axes>"
            ],
            "image/png": "[encoded data removed]"
          },
          "metadata": {
            "needs_background": "light"
          }
        }
      ]
    },
    {
      "cell_type": "code",
      "source": [
        "# Make predictions\n",
        "pred_probs = make_predictions(model=model_2,\n",
        "                             data = test_samples)\n",
        "\n",
        "# View first two prediction probabilities\n",
        "pred_probs[:2]"
      ],
      "metadata": {
        "colab": {
          "base_uri": "https://localhost:8080/"
        },
        "id": "HbwuiPXhCXhb",
        "outputId": "11c59ade-3a61-4be9-c609-756b37280408"
      },
      "execution_count": 207,
      "outputs": [
        {
          "output_type": "execute_result",
          "data": {
            "text/plain": [
              "tensor([[3.4932e-02, 1.3645e-02, 2.0807e-01, 3.6764e-02, 4.5414e-01, 1.7662e-04,\n",
              "         2.1554e-01, 7.5548e-06, 3.6702e-02, 1.5504e-05],\n",
              "        [1.9209e-05, 1.8752e-05, 1.9532e-02, 3.0115e-04, 9.5009e-01, 1.7412e-09,\n",
              "         2.6943e-02, 9.4392e-11, 3.0987e-03, 1.6858e-09]])"
            ]
          },
          "metadata": {},
          "execution_count": 207
        }
      ]
    },
    {
      "cell_type": "code",
      "source": [
        "# Covert prediction pribabilities to labels\n",
        "pred_classes = pred_probs.argmax(dim=1)\n",
        "pred_classes"
      ],
      "metadata": {
        "colab": {
          "base_uri": "https://localhost:8080/"
        },
        "id": "uCvVNvKwDtt3",
        "outputId": "ce91ab9c-4f00-43c3-db04-9d8d2a7d5171"
      },
      "execution_count": 208,
      "outputs": [
        {
          "output_type": "execute_result",
          "data": {
            "text/plain": [
              "tensor([4, 4, 6, 3, 2, 6, 0, 1, 1])"
            ]
          },
          "metadata": {},
          "execution_count": 208
        }
      ]
    },
    {
      "cell_type": "code",
      "source": [
        "plt.figure(figsize=(9,9))\n",
        "\n",
        "nrows= 3\n",
        "ncols= 3\n",
        "\n",
        "for i, sample in enumerate(test_samples):\n",
        "  #Caculate sublot\n",
        "  plt.subplot(nrows, ncols, i+1)\n",
        "\n",
        "  # Plot the target image\n",
        "  plt.imshow(sample.squeeze(), cmap = \"gray\")\n",
        "\n",
        "  # Find the prediction (in text form )\n",
        "  pred_label = class_names[pred_classes[i]]\n",
        "\n",
        "  # Get the truth label\n",
        "  truth_label = class_names[test_label[i]]\n",
        "\n",
        "  # Create a title for the plot\n",
        "  title_text = f\"Pred: {pred_label}    Truth: {truth_label}\"\n",
        "\n",
        "  # Check for equality between pred and truth and chamge color of title text\n",
        "\n",
        "  if pred_label == truth_label:\n",
        "    plt.title(title_text, fontsize=10, c=\"g\")\n",
        "\n",
        "  else:\n",
        "    plt.title(title_text, fontsize=10, c=\"r\")\n",
        "\n",
        "\n"
      ],
      "metadata": {
        "colab": {
          "base_uri": "https://localhost:8080/",
          "height": 551
        },
        "id": "2xstpLv3E-iZ",
        "outputId": "b72e7200-2db3-4a7a-db3c-de902db60ac6"
      },
      "execution_count": 209,
      "outputs": [
        {
          "output_type": "display_data",
          "data": {
            "text/plain": [
              "<Figure size 648x648 with 9 Axes>"
            ],
            "image/png": "[encoded data removed]"
          },
          "metadata": {
            "needs_background": "light"
          }
        }
      ]
    },
    {
      "cell_type": "markdown",
      "source": [
        "## 10. Making a confusion matrix for further prediction evaluations\n",
        "\n",
        "\n",
        "1. Make predictions with out trained model on the test dataset\n",
        "2. Make a confusion matrix `torchmetrics.ConfustionMatrix`\n",
        "3. plot the confusion matrix using `mixtend.ploting.plot_confusion_matrix()`"
      ],
      "metadata": {
        "id": "Azm6DhUIIfDB"
      }
    },
    {
      "cell_type": "code",
      "source": [
        "\n",
        "\n",
        "\n",
        "# 1. Make predictions with trained model\n",
        "\n",
        "y_preds = []\n",
        "model_2.eval()\n",
        "with torch.inference_mode():\n",
        "  for X,y in tqdm(test_dataloader, desc = \"Making predictions...\"):\n",
        "    #Send the data and targets to target device\n",
        "    X, y = X.to(device), y.to(device)\n",
        "\n",
        "    #Do the forward pass\n",
        "    y_logit = model_2(X)\n",
        "\n",
        "    #Turn predictions from logits \n",
        "    y_pred = torch.softmax(y_logit.squeeze(), dim=0).argmax(dim=1)\n",
        "\n",
        "    #Put prediction on CPU for wvaluation\n",
        "    y_preds.append(y_pred.cpu())\n",
        "\n",
        "# Concatenate list of preductions into a tensor\n",
        "print(y_preds)\n",
        "y_pred_tensor = torch.cat(y_preds)\n",
        "\n",
        "y_pred_tensor[:10]\n",
        "\n",
        "\n",
        "  "
      ],
      "metadata": {
        "colab": {
          "base_uri": "https://localhost:8080/",
          "height": 1000,
          "referenced_widgets": [
            "498ec78c7cd34df4932e9cfe3506a74c",
            "65daecefb06b455aadf7e594bb248ab4",
            "af7783dec1824377a2114e6246215537",
            "904b440863cf49149ffebe6c787d8b5f",
            "946cc65409c74abebd90469e78b01c82",
            "48345b090e6c4ab389b560a909b9c295",
            "cdac7b930c074fb384633e8b2aa15078",
            "13a753b5f0934ac2b97e050fe7bd3e93",
            "b78aae3f921944cb9443d9d679488d6b",
            "d4a60b02bd9044f482617be5cf6e4bfb",
            "a5531bf5b7ca4cbcbfe76d9ffda61eb2"
          ]
        },
        "id": "FZulsJGQHg-n",
        "outputId": "940a97ee-73c7-4451-abb8-e617d71a0523"
      },
      "execution_count": 213,
      "outputs": [
        {
          "output_type": "display_data",
          "data": {
            "text/plain": [
              "Making predictions...:   0%|          | 0/313 [00:00<?, ?it/s]"
            ],
            "application/vnd.jupyter.widget-view+json": {
              "version_major": 2,
              "version_minor": 0,
              "model_id": "498ec78c7cd34df4932e9cfe3506a74c"
            }
          },
          "metadata": {}
        },
        {
          "output_type": "stream",
          "name": "stdout",
          "text": [
            "[tensor([9, 2, 1, 1, 6, 1, 4, 6, 5, 7, 4, 5, 5, 3, 4, 3, 2, 6, 8, 0, 2, 7, 7, 5,\n",
            "        3, 2, 6, 3, 9, 3, 8, 8]), tensor([3, 3, 8, 0, 7, 5, 7, 9, 0, 1, 3, 7, 4, 7, 2, 3, 4, 6, 2, 4, 5, 8, 2, 2,\n",
            "        8, 4, 8, 0, 7, 7, 8, 5]), tensor([1, 3, 3, 3, 7, 8, 7, 0, 2, 3, 4, 3, 3, 2, 8, 4, 3, 8, 5, 9, 5, 0, 3, 2,\n",
            "        0, 2, 5, 3, 6, 7, 1, 8]), tensor([0, 1, 6, 2, 3, 6, 7, 2, 7, 8, 5, 7, 9, 4, 2, 5, 7, 6, 5, 2, 8, 6, 7, 8,\n",
            "        0, 0, 9, 9, 3, 6, 8, 4]), tensor([1, 5, 4, 3, 5, 1, 8, 4, 6, 1, 2, 5, 1, 6, 0, 0, 1, 6, 1, 3, 2, 2, 6, 2,\n",
            "        3, 3, 5, 2, 4, 7, 9, 3]), tensor([7, 2, 3, 5, 0, 9, 2, 7, 4, 2, 0, 5, 6, 1, 2, 1, 3, 6, 9, 1, 0, 7, 3, 8,\n",
            "        7, 9, 5, 4, 4, 7, 3, 2]), tensor([3, 6, 3, 2, 8, 3, 6, 1, 1, 0, 2, 9, 2, 4, 0, 7, 9, 8, 4, 3, 8, 4, 1, 3,\n",
            "        0, 6, 7, 2, 8, 5, 3, 0]), tensor([7, 7, 3, 3, 7, 0, 7, 8, 9, 2, 9, 0, 5, 1, 4, 2, 5, 3, 9, 2, 2, 8, 6, 4,\n",
            "        3, 4, 9, 7, 3, 3, 8, 4]), tensor([8, 5, 2, 3, 0, 4, 8, 6, 0, 2, 3, 8, 9, 6, 1, 3, 6, 4, 3, 0, 8, 3, 7, 4,\n",
            "        6, 3, 2, 3, 6, 4, 2, 7]), tensor([5, 3, 5, 9, 5, 0, 5, 5, 3, 9, 8, 3, 3, 3, 6, 8, 0, 0, 2, 9, 7, 7, 1, 3,\n",
            "        8, 4, 6, 4, 7, 3, 6, 4]), tensor([8, 2, 6, 5, 6, 2, 8, 7, 7, 3, 3, 7, 3, 7, 1, 3, 8, 6, 2, 3, 8, 0, 3, 1,\n",
            "        0, 1, 9, 4, 5, 5, 1, 8]), tensor([8, 3, 6, 0, 2, 4, 8, 6, 1, 2, 2, 4, 4, 7, 3, 4, 2, 5, 0, 7, 5, 4, 0, 9,\n",
            "        3, 9, 3, 2, 5, 6, 0, 3]), tensor([5, 8, 1, 3, 2, 2, 6, 4, 9, 5, 2, 0, 2, 6, 1, 2, 0, 9, 7, 0, 3, 4, 3, 3,\n",
            "        2, 3, 3, 6, 7, 2, 9, 4]), tensor([2, 3, 5, 2, 5, 3, 8, 5, 8, 4, 4, 8, 9, 8, 6, 2, 6, 4, 2, 3, 3, 6, 1, 3,\n",
            "        0, 7, 8, 8, 3, 5, 3, 1]), tensor([5, 5, 3, 3, 6, 1, 3, 6, 5, 4, 6, 6, 3, 2, 2, 0, 6, 3, 3, 8, 2, 8, 9, 4,\n",
            "        0, 7, 6, 6, 6, 5, 3, 9]), tensor([7, 9, 3, 7, 5, 7, 8, 1, 6, 0, 6, 4, 8, 9, 7, 9, 1, 2, 7, 3, 6, 0, 7, 7,\n",
            "        1, 8, 6, 2, 2, 2, 4, 4]), tensor([0, 0, 9, 8, 5, 0, 9, 1, 6, 8, 3, 8, 7, 2, 6, 6, 8, 0, 0, 0, 5, 8, 8, 5,\n",
            "        3, 9, 4, 3, 6, 2, 7, 1]), tensor([0, 3, 2, 6, 2, 9, 6, 3, 5, 3, 3, 1, 9, 3, 2, 5, 3, 6, 2, 6, 4, 0, 0, 5,\n",
            "        8, 2, 3, 4, 0, 7, 7, 8]), tensor([8, 3, 3, 8, 7, 6, 7, 9, 3, 4, 0, 3, 8, 3, 1, 1, 5, 9, 3, 2, 5, 7, 3, 1,\n",
            "        2, 9, 7, 7, 1, 0, 9, 6]), tensor([2, 9, 0, 5, 6, 8, 2, 7, 1, 2, 3, 8, 2, 4, 6, 5, 3, 0, 5, 5, 8, 2, 9, 4,\n",
            "        1, 6, 4, 1, 6, 1, 4, 1]), tensor([7, 5, 8, 3, 9, 1, 6, 5, 4, 4, 4, 0, 0, 4, 5, 6, 6, 6, 5, 2, 3, 3, 1, 3,\n",
            "        6, 6, 3, 8, 2, 8, 3, 7]), tensor([0, 4, 1, 8, 5, 0, 8, 2, 7, 0, 8, 9, 6, 3, 4, 9, 6, 2, 5, 0, 9, 5, 3, 6,\n",
            "        6, 2, 3, 1, 8, 1, 4, 0]), tensor([9, 7, 5, 4, 8, 9, 1, 3, 7, 8, 0, 2, 6, 7, 1, 6, 6, 8, 7, 2, 6, 6, 6, 4,\n",
            "        1, 5, 5, 6, 6, 3, 6, 5]), tensor([6, 3, 3, 3, 3, 8, 3, 1, 8, 5, 7, 9, 8, 7, 2, 0, 7, 3, 8, 0, 9, 7, 6, 1,\n",
            "        3, 6, 4, 8, 2, 6, 3, 4]), tensor([8, 6, 0, 8, 9, 2, 4, 5, 9, 3, 6, 4, 9, 2, 3, 7, 9, 5, 8, 3, 7, 7, 3, 1,\n",
            "        1, 6, 9, 5, 3, 8, 4, 2]), tensor([9, 0, 8, 3, 2, 2, 4, 7, 0, 4, 9, 3, 5, 8, 5, 4, 7, 2, 8, 5, 9, 3, 0, 6,\n",
            "        7, 1, 7, 0, 8, 4, 6, 5]), tensor([8, 3, 7, 1, 2, 0, 3, 9, 8, 4, 7, 1, 3, 7, 5, 5, 9, 3, 8, 4, 5, 7, 0, 5,\n",
            "        8, 3, 0, 0, 6, 1, 7, 3]), tensor([1, 5, 7, 1, 5, 2, 2, 3, 3, 3, 1, 4, 9, 4, 3, 7, 7, 6, 8, 9, 5, 6, 3, 3,\n",
            "        4, 0, 3, 5, 9, 2, 3, 5]), tensor([8, 1, 7, 7, 8, 7, 7, 3, 6, 4, 0, 6, 6, 6, 0, 2, 5, 3, 1, 2, 0, 9, 3, 7,\n",
            "        8, 4, 8, 3, 4, 7, 6, 7]), tensor([4, 8, 8, 3, 8, 2, 3, 2, 9, 6, 2, 4, 9, 1, 8, 1, 7, 5, 5, 6, 0, 2, 1, 6,\n",
            "        5, 8, 0, 0, 2, 7, 5, 0]), tensor([3, 5, 9, 4, 8, 6, 6, 3, 6, 2, 7, 3, 7, 7, 1, 4, 6, 6, 5, 0, 9, 9, 8, 8,\n",
            "        3, 3, 2, 4, 6, 6, 3, 6]), tensor([3, 7, 6, 9, 3, 4, 7, 7, 0, 3, 5, 5, 2, 4, 5, 9, 6, 3, 7, 5, 1, 9, 8, 8,\n",
            "        9, 9, 2, 7, 2, 2, 3, 8]), tensor([7, 2, 8, 5, 4, 3, 6, 1, 8, 9, 3, 1, 6, 8, 0, 8, 7, 8, 2, 3, 3, 8, 6, 3,\n",
            "        6, 0, 4, 8, 0, 2, 7, 2]), tensor([6, 3, 4, 7, 0, 2, 1, 3, 3, 6, 8, 5, 9, 0, 2, 6, 5, 1, 4, 4, 8, 2, 7, 7,\n",
            "        3, 8, 3, 0, 9, 8, 3, 3]), tensor([3, 7, 5, 0, 5, 7, 0, 9, 6, 0, 5, 8, 2, 6, 3, 8, 6, 0, 5, 2, 7, 1, 0, 3,\n",
            "        5, 4, 8, 6, 0, 1, 1, 7]), tensor([9, 6, 2, 5, 1, 4, 8, 1, 1, 0, 3, 6, 4, 9, 6, 8, 4, 5, 8, 0, 3, 5, 1, 9,\n",
            "        8, 7, 3, 2, 2, 5, 3, 5]), tensor([0, 7, 3, 9, 3, 7, 0, 9, 3, 8, 3, 4, 7, 6, 3, 6, 2, 0, 7, 8, 4, 2, 2, 8,\n",
            "        5, 6, 3, 5, 5, 8, 1, 1]), tensor([7, 4, 6, 9, 6, 8, 7, 2, 2, 1, 6, 7, 7, 4, 9, 8, 5, 1, 3, 3, 2, 3, 8, 3,\n",
            "        1, 9, 3, 5, 5, 6, 0, 7]), tensor([0, 2, 3, 1, 3, 3, 3, 2, 7, 2, 3, 9, 5, 2, 9, 3, 3, 8, 4, 6, 0, 8, 2, 2,\n",
            "        5, 6, 3, 8, 2, 7, 4, 3]), tensor([8, 3, 2, 4, 6, 4, 3, 6, 8, 3, 8, 2, 0, 4, 4, 8, 8, 4, 5, 2, 2, 3, 6, 1,\n",
            "        7, 6, 9, 1, 7, 4, 5, 2]), tensor([2, 7, 3, 8, 9, 6, 8, 0, 7, 5, 8, 9, 7, 6, 6, 0, 3, 2, 4, 4, 8, 7, 1, 3,\n",
            "        4, 6, 6, 9, 1, 6, 7, 3]), tensor([6, 8, 2, 4, 8, 7, 4, 1, 6, 5, 2, 7, 8, 5, 6, 8, 5, 2, 2, 8, 9, 8, 0, 3,\n",
            "        0, 8, 8, 3, 0, 7, 2, 4]), tensor([8, 1, 3, 6, 1, 9, 6, 1, 6, 2, 7, 9, 6, 6, 0, 6, 4, 6, 4, 5, 0, 2, 5, 3,\n",
            "        7, 6, 6, 0, 0, 5, 4, 8]), tensor([2, 6, 3, 0, 2, 3, 7, 9, 5, 2, 7, 6, 2, 7, 3, 3, 1, 3, 3, 6, 6, 1, 9, 2,\n",
            "        4, 7, 1, 0, 6, 5, 8, 4]), tensor([6, 7, 9, 5, 0, 7, 9, 5, 1, 2, 8, 5, 8, 3, 9, 9, 3, 2, 7, 8, 6, 1, 7, 4,\n",
            "        7, 1, 1, 5, 5, 6, 4, 8]), tensor([9, 5, 5, 2, 3, 9, 3, 8, 5, 4, 6, 3, 6, 5, 7, 3, 5, 2, 3, 4, 6, 7, 8, 0,\n",
            "        5, 1, 7, 2, 3, 6, 8, 7]), tensor([8, 7, 1, 2, 3, 2, 9, 7, 5, 6, 0, 0, 7, 3, 2, 6, 9, 0, 6, 4, 4, 3, 0, 6,\n",
            "        6, 3, 6, 1, 3, 5, 4, 5]), tensor([0, 9, 0, 1, 8, 2, 9, 5, 0, 7, 4, 2, 7, 1, 0, 5, 3, 2, 7, 8, 0, 8, 9, 6,\n",
            "        2, 0, 1, 3, 5, 0, 7, 0]), tensor([9, 9, 2, 4, 7, 0, 1, 3, 9, 6, 3, 7, 2, 8, 1, 8, 0, 7, 9, 8, 5, 8, 2, 6,\n",
            "        4, 0, 6, 5, 8, 3, 8, 7]), tensor([8, 7, 3, 7, 6, 7, 0, 4, 6, 8, 3, 5, 1, 1, 7, 7, 6, 6, 3, 4, 6, 8, 6, 8,\n",
            "        3, 4, 9, 9, 4, 8, 6, 2]), tensor([7, 8, 0, 7, 9, 1, 2, 9, 4, 7, 3, 6, 3, 3, 1, 8, 5, 5, 3, 8, 6, 2, 6, 0,\n",
            "        2, 0, 2, 7, 3, 6, 8, 3]), tensor([7, 7, 3, 1, 7, 5, 8, 8, 2, 3, 6, 6, 4, 2, 8, 7, 0, 6, 2, 7, 7, 3, 9, 4,\n",
            "        5, 9, 7, 3, 7, 2, 6, 5]), tensor([3, 3, 8, 4, 5, 0, 4, 2, 1, 4, 3, 8, 4, 7, 9, 4, 3, 1, 7, 2, 3, 5, 6, 3,\n",
            "        9, 7, 8, 3, 8, 8, 8, 7]), tensor([1, 3, 6, 3, 1, 4, 3, 4, 9, 5, 6, 0, 6, 9, 4, 5, 6, 6, 3, 8, 9, 2, 5, 4,\n",
            "        8, 0, 7, 2, 3, 6, 4, 5]), tensor([6, 1, 9, 3, 2, 2, 5, 5, 0, 8, 3, 2, 6, 6, 0, 4, 2, 2, 6, 5, 0, 2, 7, 8,\n",
            "        7, 4, 6, 6, 0, 5, 2, 2]), tensor([2, 9, 5, 2, 6, 7, 0, 1, 9, 8, 7, 0, 7, 7, 5, 0, 5, 3, 3, 4, 7, 9, 8, 2,\n",
            "        6, 7, 3, 3, 7, 7, 7, 8]), tensor([2, 9, 5, 7, 6, 5, 7, 5, 1, 3, 0, 4, 9, 5, 8, 3, 7, 2, 4, 4, 9, 3, 3, 1,\n",
            "        7, 7, 1, 5, 7, 2, 7, 2]), tensor([5, 7, 3, 7, 5, 5, 4, 0, 7, 3, 3, 2, 6, 2, 9, 9, 0, 3, 6, 8, 3, 8, 0, 4,\n",
            "        6, 1, 8, 2, 4, 5, 0, 4]), tensor([4, 3, 0, 0, 0, 6, 8, 4, 9, 0, 7, 6, 7, 7, 1, 5, 8, 7, 2, 9, 9, 3, 2, 6,\n",
            "        1, 1, 3, 8, 8, 1, 3, 7]), tensor([5, 2, 0, 8, 4, 8, 9, 6, 1, 3, 3, 9, 8, 3, 3, 3, 8, 6, 9, 5, 7, 6, 0, 3,\n",
            "        2, 3, 1, 7, 9, 6, 6, 0]), tensor([3, 6, 4, 8, 1, 7, 2, 4, 4, 2, 3, 8, 7, 1, 8, 7, 5, 7, 7, 6, 6, 2, 9, 0,\n",
            "        6, 3, 9, 5, 0, 2, 1, 0]), tensor([3, 5, 7, 3, 5, 4, 5, 7, 9, 8, 9, 1, 4, 8, 3, 2, 3, 6, 0, 8, 3, 8, 3, 3,\n",
            "        6, 0, 8, 8, 3, 2, 9, 3]), tensor([2, 0, 8, 5, 9, 6, 3, 1, 3, 9, 5, 1, 3, 3, 6, 0, 8, 4, 1, 3, 8, 8, 0, 7,\n",
            "        5, 6, 6, 7, 3, 3, 2, 4]), tensor([6, 5, 8, 6, 4, 3, 9, 1, 1, 7, 3, 8, 7, 2, 2, 9, 3, 9, 7, 0, 1, 8, 1, 4,\n",
            "        8, 1, 6, 9, 3, 4, 0, 0]), tensor([5, 6, 9, 9, 5, 5, 5, 0, 9, 3, 3, 6, 9, 8, 4, 2, 6, 3, 9, 4, 3, 6, 7, 4,\n",
            "        0, 3, 8, 1, 8, 7, 3, 4]), tensor([7, 2, 2, 9, 1, 7, 4, 9, 1, 3, 2, 6, 8, 7, 7, 7, 7, 2, 6, 0, 7, 5, 8, 5,\n",
            "        6, 0, 3, 4, 9, 2, 4, 3]), tensor([3, 5, 3, 3, 2, 2, 8, 3, 7, 5, 7, 8, 4, 8, 3, 2, 3, 5, 4, 8, 9, 1, 5, 8,\n",
            "        3, 6, 2, 6, 0, 3, 5, 7]), tensor([6, 6, 7, 7, 6, 0, 6, 3, 4, 7, 8, 7, 2, 8, 0, 8, 7, 4, 4, 6, 7, 0, 9, 5,\n",
            "        3, 0, 5, 9, 3, 1, 0, 3]), tensor([3, 8, 8, 7, 9, 8, 3, 8, 9, 8, 7, 9, 3, 8, 0, 0, 5, 7, 8, 2, 3, 8, 3, 1,\n",
            "        1, 9, 4, 3, 9, 5, 8, 7]), tensor([2, 4, 9, 0, 2, 1, 9, 7, 1, 5, 6, 9, 7, 0, 3, 0, 0, 4, 3, 7, 4, 2, 6, 8,\n",
            "        7, 9, 2, 1, 6, 7, 5, 8]), tensor([5, 3, 7, 6, 4, 3, 9, 6, 0, 3, 9, 1, 6, 3, 3, 5, 3, 8, 5, 3, 1, 2, 9, 4,\n",
            "        0, 7, 2, 8, 0, 2, 9, 8]), tensor([2, 4, 8, 3, 8, 0, 2, 3, 6, 4, 8, 5, 4, 9, 6, 7, 5, 8, 0, 7, 1, 2, 7, 2,\n",
            "        1, 2, 0, 3, 4, 5, 2, 2]), tensor([8, 5, 5, 2, 6, 3, 8, 3, 3, 1, 9, 6, 7, 7, 3, 6, 4, 8, 3, 4, 8, 5, 6, 8,\n",
            "        3, 3, 1, 4, 4, 0, 4, 9]), tensor([6, 4, 1, 9, 9, 8, 3, 4, 8, 3, 3, 3, 8, 5, 9, 2, 2, 8, 7, 2, 3, 6, 2, 4,\n",
            "        5, 7, 5, 0, 7, 9, 1, 2]), tensor([4, 8, 9, 3, 8, 2, 0, 2, 6, 7, 8, 9, 1, 8, 2, 5, 5, 3, 1, 1, 8, 8, 3, 6,\n",
            "        7, 0, 1, 8, 3, 0, 6, 9]), tensor([8, 5, 8, 8, 6, 9, 1, 8, 4, 2, 7, 7, 6, 5, 1, 3, 0, 0, 2, 3, 0, 2, 3, 7,\n",
            "        3, 2, 3, 3, 4, 2, 5, 6]), tensor([7, 8, 3, 3, 1, 0, 6, 1, 2, 4, 2, 8, 4, 7, 0, 5, 7, 5, 3, 6, 0, 5, 6, 3,\n",
            "        9, 7, 3, 6, 1, 9, 2, 1]), tensor([0, 4, 5, 4, 1, 6, 8, 5, 9, 4, 5, 3, 3, 8, 3, 0, 6, 8, 9, 0, 7, 6, 2, 6,\n",
            "        7, 3, 2, 6, 8, 7, 7, 2]), tensor([3, 3, 3, 3, 6, 4, 7, 6, 1, 2, 6, 4, 3, 2, 8, 5, 6, 8, 7, 6, 7, 8, 1, 5,\n",
            "        9, 8, 6, 9, 0, 9, 3, 7]), tensor([5, 7, 9, 6, 0, 7, 3, 5, 5, 9, 5, 3, 6, 2, 6, 5, 9, 7, 4, 2, 6, 9, 8, 3,\n",
            "        2, 1, 3, 7, 1, 8, 7, 7]), tensor([1, 8, 9, 3, 7, 7, 7, 1, 7, 3, 6, 3, 2, 3, 5, 2, 8, 9, 6, 8, 6, 3, 7, 7,\n",
            "        5, 0, 3, 9, 3, 6, 4, 9]), tensor([2, 2, 6, 9, 1, 0, 5, 8, 7, 2, 8, 2, 3, 6, 0, 7, 3, 8, 7, 2, 3, 7, 8, 2,\n",
            "        2, 6, 4, 6, 1, 8, 6, 7]), tensor([2, 9, 6, 5, 2, 3, 3, 8, 8, 2, 0, 7, 2, 4, 0, 3, 3, 3, 8, 1, 5, 7, 3, 6,\n",
            "        3, 1, 2, 7, 2, 6, 6, 3]), tensor([2, 7, 2, 2, 3, 2, 3, 0, 9, 7, 3, 5, 4, 7, 6, 2, 5, 0, 2, 8, 4, 0, 6, 4,\n",
            "        6, 4, 1, 6, 6, 2, 7, 1]), tensor([0, 6, 3, 0, 1, 5, 6, 0, 8, 3, 3, 3, 7, 2, 9, 8, 8, 2, 5, 7, 6, 7, 2, 9,\n",
            "        0, 0, 5, 3, 7, 2, 1, 1]), tensor([8, 6, 2, 0, 5, 7, 6, 3, 8, 1, 3, 4, 6, 6, 2, 8, 3, 6, 2, 3, 9, 2, 7, 9,\n",
            "        5, 7, 6, 1, 8, 8, 8, 2]), tensor([2, 4, 6, 3, 1, 2, 3, 0, 3, 9, 8, 4, 0, 8, 4, 3, 9, 7, 1, 1, 7, 5, 1, 9,\n",
            "        2, 2, 2, 3, 8, 6, 7, 1]), tensor([3, 6, 7, 3, 5, 8, 1, 4, 2, 3, 4, 8, 8, 8, 3, 8, 1, 8, 7, 3, 0, 6, 6, 2,\n",
            "        9, 7, 3, 7, 6, 1, 2, 5]), tensor([9, 2, 0, 8, 0, 7, 8, 7, 4, 4, 2, 8, 6, 6, 9, 3, 3, 5, 8, 3, 1, 2, 3, 0,\n",
            "        4, 8, 4, 2, 3, 3, 9, 7]), tensor([4, 6, 3, 1, 8, 3, 5, 2, 0, 6, 7, 9, 3, 2, 7, 3, 7, 6, 1, 6, 2, 8, 4, 7,\n",
            "        0, 4, 7, 3, 2, 5, 6, 8]), tensor([6, 2, 6, 7, 4, 2, 1, 3, 0, 3, 5, 5, 2, 6, 4, 1, 8, 8, 3, 4, 3, 4, 2, 7,\n",
            "        2, 1, 9, 6, 2, 3, 8, 4]), tensor([5, 4, 9, 8, 3, 6, 3, 2, 4, 9, 4, 3, 5, 1, 4, 6, 0, 3, 3, 0, 2, 6, 5, 5,\n",
            "        8, 3, 2, 4, 3, 7, 3, 1]), tensor([3, 7, 7, 8, 7, 2, 5, 3, 7, 2, 0, 9, 4, 1, 4, 2, 2, 5, 8, 5, 4, 7, 8, 4,\n",
            "        6, 9, 0, 8, 1, 3, 8, 2]), tensor([8, 2, 0, 6, 3, 8, 7, 8, 2, 2, 3, 6, 0, 4, 5, 3, 4, 3, 1, 9, 7, 3, 6, 6,\n",
            "        1, 2, 2, 5, 5, 1, 8, 3]), tensor([3, 5, 9, 8, 7, 2, 7, 9, 7, 2, 2, 6, 6, 3, 3, 9, 3, 1, 4, 8, 0, 9, 7, 5,\n",
            "        4, 8, 8, 3, 6, 3, 8, 8]), tensor([6, 2, 5, 9, 2, 3, 8, 3, 2, 8, 3, 3, 2, 2, 3, 0, 1, 8, 4, 1, 5, 8, 1, 5,\n",
            "        8, 6, 7, 7, 7, 5, 6, 9]), tensor([5, 3, 6, 7, 8, 4, 7, 1, 6, 2, 2, 4, 3, 7, 7, 9, 7, 2, 5, 8, 7, 8, 5, 3,\n",
            "        0, 9, 7, 2, 0, 6, 8, 3]), tensor([6, 5, 3, 7, 6, 5, 2, 7, 6, 3, 4, 0, 2, 9, 8, 1, 3, 8, 1, 5, 3, 6, 1, 3,\n",
            "        6, 6, 9, 8, 2, 8, 2, 7]), tensor([7, 1, 3, 6, 3, 0, 7, 8, 7, 6, 5, 2, 6, 7, 5, 5, 8, 9, 7, 3, 2, 4, 8, 3,\n",
            "        9, 5, 7, 4, 2, 6, 7, 3]), tensor([8, 5, 1, 8, 9, 2, 2, 1, 3, 2, 7, 2, 0, 4, 4, 8, 5, 7, 9, 2, 2, 8, 4, 6,\n",
            "        0, 6, 3, 3, 1, 5, 2, 7]), tensor([5, 3, 7, 6, 2, 3, 5, 3, 1, 2, 7, 3, 8, 8, 7, 7, 9, 9, 5, 5, 3, 0, 7, 1,\n",
            "        4, 2, 0, 9, 7, 4, 6, 8]), tensor([0, 5, 7, 8, 8, 2, 9, 3, 6, 2, 8, 1, 6, 4, 8, 0, 7, 5, 8, 9, 7, 7, 5, 3,\n",
            "        7, 6, 3, 2, 6, 3, 4, 2]), tensor([0, 8, 9, 4, 5, 4, 3, 1, 2, 5, 7, 0, 5, 6, 2, 5, 6, 3, 8, 3, 8, 7, 2, 7,\n",
            "        2, 3, 2, 7, 1, 6, 3, 4]), tensor([6, 4, 3, 9, 9, 6, 8, 0, 4, 6, 6, 1, 9, 3, 9, 6, 8, 6, 9, 2, 7, 9, 1, 5,\n",
            "        8, 1, 3, 2, 2, 4, 8, 3]), tensor([3, 3, 0, 3, 6, 3, 3, 1, 4, 8, 4, 9, 3, 0, 2, 5, 8, 8, 8, 2, 1, 3, 8, 9,\n",
            "        8, 5, 8, 7, 0, 7, 2, 7]), tensor([3, 5, 5, 8, 3, 2, 8, 5, 9, 9, 2, 0, 6, 7, 1, 8, 8, 8, 7, 2, 0, 9, 7, 7,\n",
            "        6, 9, 2, 1, 4, 7, 2, 5]), tensor([2, 2, 2, 9, 0, 7, 1, 9, 7, 2, 5, 3, 8, 4, 5, 3, 7, 5, 7, 5, 1, 3, 3, 6,\n",
            "        2, 7, 5, 3, 5, 5, 8, 7]), tensor([7, 4, 6, 5, 5, 3, 4, 8, 3, 0, 9, 2, 3, 2, 2, 9, 4, 3, 9, 1, 4, 8, 1, 6,\n",
            "        9, 8, 3, 3, 7, 2, 6, 2]), tensor([6, 3, 2, 3, 0, 5, 2, 3, 6, 8, 5, 0, 7, 4, 6, 2, 8, 3, 5, 1, 3, 9, 1, 6,\n",
            "        7, 3, 7, 4, 6, 6, 2, 5]), tensor([3, 3, 0, 3, 3, 1, 7, 9, 4, 6, 7, 3, 0, 2, 8, 3, 0, 9, 9, 7, 8, 4, 6, 9,\n",
            "        7, 7, 0, 8, 8, 7, 5, 3]), tensor([5, 5, 0, 8, 9, 7, 2, 1, 2, 7, 1, 3, 6, 3, 2, 2, 9, 4, 7, 7, 6, 5, 0, 8,\n",
            "        8, 2, 8, 5, 4, 0, 7, 3]), tensor([6, 4, 4, 5, 2, 0, 7, 7, 7, 1, 8, 2, 4, 8, 5, 4, 4, 8, 7, 7, 6, 7, 1, 6,\n",
            "        9, 8, 3, 9, 3, 8, 0, 7]), tensor([3, 2, 6, 1, 6, 5, 9, 3, 2, 8, 5, 7, 3, 1, 4, 6, 8, 3, 8, 5, 6, 9, 3, 3,\n",
            "        6, 4, 4, 2, 0, 4, 4, 2]), tensor([3, 2, 5, 9, 3, 1, 9, 4, 7, 0, 3, 1, 6, 0, 7, 7, 0, 7, 8, 0, 5, 6, 4, 3,\n",
            "        8, 9, 7, 2, 9, 5, 3, 7]), tensor([2, 6, 1, 9, 7, 8, 1, 3, 7, 3, 6, 7, 8, 6, 5, 8, 7, 9, 9, 7, 0, 4, 2, 3,\n",
            "        4, 0, 7, 5, 3, 9, 0, 8]), tensor([8, 0, 0, 4, 3, 7, 3, 3, 5, 3, 7, 8, 7, 6, 8, 8, 5, 9, 5, 6, 0, 7, 3, 8,\n",
            "        6, 2, 6, 7, 6, 8, 1, 9]), tensor([2, 6, 6, 4, 8, 8, 7, 5, 3, 9, 3, 5, 6, 8, 2, 6, 9, 0, 3, 2, 5, 5, 0, 2,\n",
            "        6, 4, 1, 3, 3, 8, 7, 8]), tensor([8, 9, 7, 6, 5, 7, 3, 6, 0, 4, 3, 3, 6, 8, 8, 8, 6, 2, 3, 2, 8, 8, 1, 4,\n",
            "        1, 1, 6, 3, 2, 2, 8, 0]), tensor([0, 2, 1, 3, 2, 5, 0, 6, 7, 9, 9, 2, 5, 6, 5, 9, 8, 4, 8, 3, 2, 0, 9, 6,\n",
            "        2, 4, 3, 8, 2, 3, 6, 5]), tensor([6, 4, 7, 3, 7, 8, 8, 2, 4, 8, 8, 0, 1, 5, 8, 9, 8, 5, 2, 0, 3, 0, 0, 0,\n",
            "        7, 3, 9, 5, 1, 5, 7, 3]), tensor([1, 7, 0, 1, 0, 5, 3, 8, 6, 4, 1, 7, 0, 5, 0, 4, 3, 7, 1, 7, 9, 6, 3, 9,\n",
            "        2, 2, 5, 3, 5, 8, 8, 4]), tensor([4, 7, 7, 4, 2, 0, 7, 7, 3, 6, 2, 7, 6, 8, 5, 6, 9, 1, 3, 1, 4, 5, 9, 3,\n",
            "        7, 0, 3, 5, 2, 1, 7, 8]), tensor([5, 6, 6, 9, 1, 7, 1, 7, 3, 8, 0, 3, 4, 0, 2, 0, 3, 3, 8, 8, 0, 3, 2, 8,\n",
            "        1, 2, 3, 3, 2, 2, 3, 8]), tensor([0, 2, 0, 6, 4, 0, 3, 9, 2, 3, 0, 4, 7, 7, 1, 6, 0, 2, 0, 3, 8, 5, 1, 6,\n",
            "        5, 2, 8, 1, 7, 1, 6, 6]), tensor([7, 4, 6, 1, 5, 3, 3, 5, 8, 7, 7, 7, 2, 7, 5, 3, 6, 2, 6, 6, 6, 9, 9, 5,\n",
            "        8, 0, 6, 4, 1, 3, 7, 3]), tensor([6, 0, 9, 8, 5, 3, 6, 7, 1, 9, 5, 8, 2, 3, 9, 9, 1, 2, 2, 3, 2, 4, 5, 1,\n",
            "        6, 2, 8, 3, 6, 8, 3, 2]), tensor([0, 0, 3, 6, 7, 4, 4, 1, 7, 3, 6, 7, 9, 9, 3, 7, 5, 9, 1, 4, 3, 1, 2, 8,\n",
            "        3, 5, 7, 8, 6, 6, 2, 7]), tensor([2, 7, 5, 6, 8, 7, 8, 1, 4, 5, 6, 5, 5, 9, 9, 4, 2, 2, 1, 6, 6, 8, 7, 1,\n",
            "        2, 7, 5, 2, 7, 0, 3, 6]), tensor([4, 8, 2, 0, 2, 7, 3, 7, 3, 6, 3, 8, 3, 6, 2, 3, 2, 7, 5, 8, 6, 7, 0, 8,\n",
            "        9, 6, 2, 1, 2, 5, 1, 6]), tensor([4, 7, 6, 4, 5, 9, 1, 4, 3, 1, 6, 8, 0, 3, 0, 6, 2, 0, 2, 3, 8, 7, 2, 3,\n",
            "        3, 0, 8, 5, 4, 0, 1, 0]), tensor([4, 2, 6, 7, 9, 6, 4, 3, 3, 6, 8, 5, 4, 6, 0, 3, 3, 5, 2, 5, 1, 5, 5, 1,\n",
            "        7, 7, 2, 3, 8, 8, 6, 9]), tensor([6, 0, 0, 3, 2, 1, 8, 3, 4, 2, 1, 2, 6, 3, 6, 8, 5, 3, 7, 0, 2, 6, 3, 9,\n",
            "        8, 3, 4, 3, 0, 2, 6, 2]), tensor([2, 3, 7, 5, 0, 6, 2, 0, 8, 2, 2, 1, 8, 4, 8, 2, 9, 2, 6, 8, 5, 2, 7, 3,\n",
            "        2, 4, 0, 0, 4, 8, 5, 4]), tensor([1, 5, 2, 8, 2, 9, 3, 6, 3, 6, 4, 2, 7, 7, 9, 6, 4, 5, 8, 3, 5, 8, 7, 7,\n",
            "        0, 7, 7, 0, 7, 7, 4, 5]), tensor([5, 4, 2, 2, 3, 8, 6, 1, 9, 8, 6, 2, 6, 2, 3, 8, 0, 7, 6, 3, 3, 8, 1, 3,\n",
            "        8, 7, 3, 6, 3, 2, 8, 8]), tensor([7, 1, 3, 2, 1, 4, 8, 3, 2, 2, 7, 3, 9, 2, 9, 0, 6, 6, 5, 7, 0, 8, 3, 7,\n",
            "        5, 4, 9, 5, 7, 3, 2, 6]), tensor([9, 8, 7, 3, 7, 7, 4, 7, 8, 8, 8, 2, 4, 8, 2, 3, 8, 9, 7, 1, 3, 2, 2, 9,\n",
            "        7, 1, 2, 2, 0, 0, 8, 5]), tensor([6, 5, 2, 8, 7, 2, 9, 9, 0, 4, 0, 1, 5, 5, 0, 6, 8, 0, 5, 7, 7, 7, 9, 0,\n",
            "        0, 1, 3, 2, 6, 0, 9, 3]), tensor([2, 4, 4, 8, 2, 5, 4, 9, 0, 2, 8, 4, 8, 4, 3, 6, 1, 2, 3, 3, 8, 4, 9, 9,\n",
            "        3, 7, 9, 5, 3, 1, 5, 2]), tensor([8, 4, 7, 6, 1, 6, 6, 7, 8, 1, 9, 3, 6, 8, 3, 8, 4, 2, 5, 6, 7, 6, 1, 2,\n",
            "        0, 7, 9, 0, 1, 3, 9, 5]), tensor([1, 2, 1, 3, 3, 8, 3, 9, 5, 4, 6, 3, 8, 7, 7, 8, 3, 8, 3, 9, 2, 6, 0, 5,\n",
            "        6, 6, 7, 5, 0, 3, 6, 7]), tensor([6, 4, 6, 2, 7, 9, 6, 1, 3, 2, 0, 8, 8, 7, 3, 2, 7, 5, 7, 6, 1, 8, 3, 4,\n",
            "        9, 8, 9, 3, 3, 0, 3, 0]), tensor([3, 0, 6, 6, 1, 7, 7, 0, 2, 6, 5, 3, 4, 1, 7, 6, 7, 6, 2, 8, 8, 1, 3, 9,\n",
            "        9, 6, 3, 4, 9, 3, 9, 8]), tensor([5, 3, 8, 4, 7, 1, 4, 1, 9, 6, 8, 3, 2, 4, 8, 1, 1, 5, 8, 6, 1, 6, 2, 9,\n",
            "        0, 9, 5, 3, 5, 6, 6, 5]), tensor([6, 8, 3, 8, 0, 2, 9, 9, 1, 5, 3, 2, 6, 5, 3, 3, 3, 6, 7, 4, 0, 4, 1, 9,\n",
            "        5, 1, 7, 7, 5, 5, 9, 3]), tensor([8, 2, 6, 6, 4, 6, 2, 3, 1, 4, 6, 8, 6, 9, 0, 5, 8, 1, 3, 6, 3, 2, 3, 8,\n",
            "        3, 6, 9, 3, 6, 9, 7, 6]), tensor([2, 2, 3, 8, 9, 6, 1, 4, 7, 7, 9, 7, 3, 6, 7, 4, 7, 3, 0, 2, 0, 5, 4, 3,\n",
            "        0, 1, 9, 5, 8, 2, 3, 5]), tensor([0, 2, 4, 5, 8, 3, 5, 6, 7, 7, 6, 6, 9, 8, 1, 2, 4, 5, 3, 0, 6, 1, 3, 0,\n",
            "        5, 4, 8, 5, 7, 3, 8, 8]), tensor([3, 5, 2, 2, 7, 8, 5, 8, 8, 1, 7, 5, 0, 1, 5, 3, 3, 3, 3, 4, 2, 3, 6, 7,\n",
            "        8, 6, 9, 6, 3, 0, 4, 2]), tensor([7, 3, 5, 7, 3, 7, 8, 6, 6, 2, 2, 3, 0, 0, 7, 5, 2, 6, 4, 1, 3, 4, 7, 2,\n",
            "        3, 5, 9, 6, 2, 4, 4, 8]), tensor([7, 9, 2, 6, 7, 8, 3, 5, 3, 1, 4, 5, 0, 1, 8, 5, 8, 4, 6, 7, 8, 9, 2, 4,\n",
            "        6, 3, 6, 2, 4, 7, 5, 1]), tensor([9, 7, 4, 5, 1, 1, 2, 4, 8, 6, 1, 5, 8, 6, 4, 2, 9, 4, 7, 8, 1, 0, 2, 7,\n",
            "        7, 8, 9, 7, 7, 3, 8, 7]), tensor([5, 9, 7, 8, 6, 1, 0, 8, 0, 2, 6, 7, 9, 2, 6, 5, 6, 3, 2, 1, 3, 7, 0, 5,\n",
            "        5, 4, 9, 8, 9, 6, 7, 6]), tensor([6, 2, 5, 5, 8, 4, 8, 8, 7, 2, 5, 1, 9, 6, 5, 7, 3, 5, 5, 3, 2, 6, 2, 8,\n",
            "        7, 9, 2, 0, 1, 4, 1, 0]), tensor([3, 8, 6, 8, 6, 4, 6, 3, 5, 7, 7, 8, 5, 6, 3, 2, 1, 8, 3, 8, 7, 4, 2, 3,\n",
            "        6, 8, 3, 3, 2, 9, 0, 9]), tensor([7, 0, 1, 6, 3, 6, 3, 6, 6, 3, 7, 3, 3, 6, 1, 9, 3, 5, 0, 4, 2, 6, 1, 5,\n",
            "        3, 2, 8, 5, 7, 2, 6, 1]), tensor([1, 0, 6, 2, 5, 9, 6, 7, 2, 3, 8, 4, 6, 3, 3, 9, 4, 7, 0, 8, 6, 5, 6, 4,\n",
            "        0, 1, 3, 9, 4, 2, 5, 6]), tensor([8, 3, 2, 5, 6, 6, 8, 0, 6, 9, 1, 3, 3, 3, 5, 8, 2, 6, 1, 4, 9, 7, 2, 2,\n",
            "        7, 8, 7, 1, 4, 8, 7, 9]), tensor([7, 7, 0, 6, 9, 4, 0, 6, 7, 8, 1, 5, 2, 7, 1, 3, 4, 5, 9, 4, 5, 7, 7, 3,\n",
            "        8, 1, 9, 6, 7, 3, 1, 7]), tensor([6, 9, 5, 1, 3, 6, 5, 3, 4, 4, 5, 3, 4, 7, 9, 1, 2, 2, 2, 4, 3, 8, 7, 5,\n",
            "        9, 3, 8, 8, 9, 0, 5, 3]), tensor([4, 3, 8, 8, 4, 2, 0, 1, 2, 0, 2, 1, 5, 6, 6, 3, 0, 3, 2, 5, 6, 8, 7, 6,\n",
            "        6, 3, 1, 8, 3, 8, 9, 7]), tensor([8, 7, 8, 2, 8, 4, 4, 2, 5, 6, 7, 2, 7, 1, 0, 6, 3, 0, 7, 8, 0, 6, 9, 1,\n",
            "        9, 4, 7, 3, 8, 4, 3, 4]), tensor([2, 1, 0, 2, 4, 3, 7, 8, 3, 9, 5, 9, 0, 4, 3, 4, 5, 5, 5, 7, 2, 1, 3, 3,\n",
            "        7, 0, 5, 7, 6, 8, 3, 5]), tensor([5, 8, 1, 9, 2, 0, 4, 2, 3, 6, 3, 3, 2, 5, 3, 8, 1, 1, 7, 8, 2, 5, 9, 0,\n",
            "        8, 3, 4, 4, 3, 7, 0, 7]), tensor([3, 3, 2, 3, 7, 3, 6, 2, 3, 3, 0, 0, 6, 4, 8, 5, 0, 3, 0, 4, 7, 3, 3, 6,\n",
            "        0, 2, 4, 4, 1, 8, 2, 9]), tensor([3, 2, 6, 4, 2, 3, 3, 3, 5, 3, 5, 8, 3, 9, 7, 4, 0, 6, 1, 0, 1, 0, 7, 7,\n",
            "        2, 8, 9, 6, 1, 5, 4, 9]), tensor([4, 7, 9, 7, 7, 6, 1, 0, 9, 9, 5, 3, 7, 2, 9, 3, 5, 6, 8, 3, 7, 3, 3, 8,\n",
            "        2, 7, 8, 8, 9, 2, 2, 4]), tensor([5, 6, 4, 5, 9, 1, 0, 5, 3, 7, 7, 4, 6, 7, 1, 5, 8, 3, 7, 2, 7, 1, 8, 8,\n",
            "        8, 7, 8, 6, 0, 5, 7, 9]), tensor([8, 5, 6, 0, 6, 2, 3, 2, 3, 9, 9, 1, 9, 5, 8, 4, 2, 6, 4, 6, 7, 2, 8, 3,\n",
            "        0, 7, 8, 8, 3, 5, 9, 5]), tensor([9, 6, 6, 9, 7, 8, 7, 4, 7, 7, 0, 3, 7, 5, 3, 5, 3, 1, 2, 9, 1, 6, 8, 5,\n",
            "        1, 7, 8, 0, 3, 3, 0, 9]), tensor([3, 4, 3, 3, 0, 2, 9, 7, 3, 9, 8, 5, 6, 8, 5, 7, 5, 2, 4, 2, 5, 3, 2, 5,\n",
            "        4, 2, 7, 1, 6, 3, 3, 4]), tensor([5, 6, 4, 6, 7, 8, 5, 1, 8, 2, 6, 3, 2, 4, 1, 9, 0, 7, 2, 7, 3, 2, 9, 7,\n",
            "        6, 2, 6, 1, 7, 1, 4, 7]), tensor([6, 3, 7, 3, 6, 3, 8, 6, 8, 0, 4, 3, 7, 9, 6, 2, 9, 2, 3, 7, 1, 7, 5, 2,\n",
            "        9, 8, 2, 2, 0, 3, 3, 2]), tensor([2, 8, 3, 6, 8, 1, 8, 3, 0, 1, 6, 7, 3, 7, 7, 3, 3, 9, 9, 6, 6, 2, 5, 8,\n",
            "        9, 6, 3, 5, 4, 1, 3, 9]), tensor([4, 3, 2, 6, 1, 8, 3, 3, 4, 0, 6, 1, 9, 0, 5, 3, 5, 3, 6, 2, 1, 3, 0, 7,\n",
            "        3, 6, 2, 3, 4, 4, 5, 2]), tensor([9, 6, 8, 0, 3, 6, 0, 1, 7, 8, 3, 3, 3, 2, 0, 3, 8, 6, 6, 2, 5, 1, 4, 2,\n",
            "        2, 1, 7, 3, 8, 6, 9, 8]), tensor([8, 0, 6, 3, 6, 6, 8, 1, 2, 3, 3, 1, 9, 5, 3, 2, 6, 7, 4, 3, 6, 3, 0, 0,\n",
            "        2, 4, 8, 6, 9, 4, 7, 0]), tensor([3, 2, 3, 8, 3, 4, 1, 2, 6, 3, 0, 7, 7, 8, 3, 2, 9, 5, 6, 0, 9, 5, 2, 3,\n",
            "        8, 7, 3, 8, 3, 7, 9, 0]), tensor([2, 5, 3, 0, 5, 6, 3, 8, 7, 9, 6, 6, 7, 1, 2, 0, 8, 6, 2, 2, 7, 8, 3, 2,\n",
            "        4, 6, 9, 7, 3, 4, 5, 4]), tensor([5, 1, 9, 5, 6, 5, 8, 4, 1, 7, 9, 3, 3, 3, 8, 9, 1, 3, 3, 9, 5, 6, 8, 2,\n",
            "        2, 1, 4, 0, 6, 7, 8, 6]), tensor([0, 0, 2, 3, 6, 9, 8, 0, 3, 7, 0, 7, 9, 7, 4, 2, 3, 6, 8, 8, 5, 5, 1, 8,\n",
            "        8, 5, 7, 9, 7, 0, 4, 4]), tensor([6, 5, 9, 4, 8, 7, 5, 4, 7, 6, 1, 4, 6, 2, 0, 9, 6, 0, 5, 1, 1, 5, 8, 3,\n",
            "        6, 6, 2, 0, 6, 4, 5, 5]), tensor([2, 4, 6, 4, 0, 1, 5, 2, 7, 8, 6, 7, 7, 0, 8, 4, 3, 6, 9, 1, 2, 1, 7, 4,\n",
            "        3, 4, 9, 9, 6, 6, 4, 3]), tensor([3, 7, 7, 5, 2, 7, 8, 9, 9, 2, 7, 8, 7, 7, 3, 8, 7, 6, 6, 9, 0, 1, 8, 7,\n",
            "        5, 2, 5, 3, 7, 4, 6, 5]), tensor([5, 6, 7, 9, 0, 9, 5, 9, 4, 4, 1, 7, 8, 0, 5, 1, 0, 6, 5, 0, 2, 3, 7, 0,\n",
            "        0, 1, 8, 7, 7, 4, 3, 2]), tensor([7, 0, 0, 5, 1, 4, 8, 1, 7, 2, 7, 3, 2, 3, 4, 7, 8, 0, 7, 6, 9, 5, 8, 6,\n",
            "        7, 3, 5, 0, 9, 7, 3, 1]), tensor([6, 5, 7, 8, 4, 3, 3, 9, 0, 2, 9, 1, 3, 4, 3, 3, 8, 6, 2, 3, 8, 6, 2, 9,\n",
            "        5, 3, 1, 8, 6, 4, 3, 2]), tensor([2, 9, 4, 3, 7, 7, 8, 3, 8, 8, 7, 7, 8, 8, 3, 0, 1, 2, 6, 6, 1, 9, 4, 3,\n",
            "        0, 5, 5, 4, 3, 2, 0, 1]), tensor([4, 9, 9, 7, 0, 1, 2, 2, 0, 2, 6, 2, 5, 9, 4, 8, 2, 6, 1, 5, 9, 2, 3, 8,\n",
            "        9, 3, 1, 7, 1, 3, 3, 9]), tensor([1, 3, 8, 9, 5, 4, 9, 4, 0, 5, 8, 5, 5, 5, 3, 4, 9, 4, 7, 8, 4, 5, 2, 6,\n",
            "        3, 5, 0, 7, 3, 6, 3, 7]), tensor([1, 3, 8, 2, 8, 7, 2, 0, 5, 2, 3, 0, 5, 3, 2, 8, 2, 3, 7, 2, 3, 9, 7, 6,\n",
            "        1, 3, 7, 2, 4, 6, 3, 7]), tensor([8, 0, 1, 9, 5, 3, 8, 4, 6, 6, 1, 8, 2, 3, 6, 2, 8, 9, 9, 4, 8, 4, 1, 7,\n",
            "        9, 0, 8, 7, 3, 3, 8, 4]), tensor([1, 8, 2, 7, 6, 6, 8, 9, 2, 5, 3, 2, 6, 1, 0, 0, 4, 1, 6, 7, 2, 5, 9, 1,\n",
            "        5, 0, 9, 4, 2, 1, 7, 2]), tensor([9, 8, 8, 9, 5, 5, 3, 8, 2, 0, 3, 6, 1, 1, 9, 0, 9, 7, 5, 3, 2, 5, 5, 5,\n",
            "        4, 2, 9, 9, 3, 0, 6, 3]), tensor([1, 7, 4, 7, 2, 6, 5, 8, 6, 0, 1, 3, 2, 2, 3, 6, 6, 6, 6, 8, 3, 2, 8, 0,\n",
            "        3, 8, 3, 5, 4, 2, 3, 9]), tensor([0, 2, 3, 4, 5, 6, 2, 7, 0, 7, 3, 3, 6, 9, 6, 8, 5, 6, 0, 3, 6, 7, 2, 5,\n",
            "        3, 3, 1, 9, 7, 5, 2, 2]), tensor([3, 6, 4, 8, 9, 2, 5, 5, 3, 1, 0, 9, 6, 3, 8, 3, 8, 4, 7, 4, 3, 3, 3, 2,\n",
            "        0, 4, 1, 3, 8, 2, 6, 2]), tensor([2, 3, 4, 4, 0, 8, 4, 5, 1, 4, 8, 8, 4, 3, 2, 1, 4, 5, 6, 5, 9, 6, 8, 0,\n",
            "        3, 4, 3, 8, 3, 7, 5, 4]), tensor([1, 3, 2, 6, 5, 5, 0, 1, 0, 5, 2, 8, 9, 7, 9, 3, 3, 3, 3, 5, 6, 7, 9, 9,\n",
            "        4, 9, 3, 2, 4, 2, 8, 7]), tensor([2, 5, 9, 8, 3, 8, 1, 0, 3, 3, 5, 2, 5, 6, 4, 9, 2, 7, 1, 2, 8, 3, 7, 7,\n",
            "        6, 5, 9, 2, 5, 7, 0, 1]), tensor([6, 1, 2, 8, 2, 6, 7, 2, 7, 1, 8, 7, 5, 3, 3, 1, 0, 3, 6, 5, 3, 8, 2, 3,\n",
            "        4, 9, 3, 1, 5, 3, 0, 7]), tensor([0, 3, 4, 5, 3, 6, 6, 3, 8, 3, 9, 8, 3, 7, 2, 6, 2, 5, 1, 9, 3, 3, 8, 7,\n",
            "        1, 8, 3, 2, 0, 7, 2, 4]), tensor([3, 4, 6, 1, 3, 5, 2, 9, 7, 9, 3, 7, 5, 5, 6, 4, 8, 0, 7, 6, 8, 6, 2, 1,\n",
            "        7, 7, 7, 3, 8, 0, 3, 0]), tensor([9, 8, 5, 6, 2, 8, 1, 7, 7, 7, 0, 3, 6, 3, 3, 4, 4, 4, 6, 1, 7, 6, 2, 2,\n",
            "        6, 3, 8, 2, 6, 6, 3, 0]), tensor([8, 8, 4, 6, 2, 0, 7, 6, 8, 9, 1, 4, 6, 7, 6, 8, 3, 8, 6, 3, 6, 7, 5, 7,\n",
            "        9, 5, 3, 9, 4, 4, 3, 3]), tensor([1, 3, 2, 4, 2, 5, 2, 2, 2, 9, 1, 8, 0, 6, 2, 2, 2, 3, 6, 6, 1, 3, 2, 3,\n",
            "        3, 1, 5, 8, 1, 0, 7, 3]), tensor([7, 0, 3, 2, 8, 9, 8, 7, 8, 3, 5, 9, 7, 5, 1, 2, 2, 7, 2, 9, 7, 8, 6, 7,\n",
            "        4, 6, 3, 8, 8, 4, 7, 3]), tensor([8, 2, 4, 2, 2, 7, 8, 9, 0, 2, 7, 7, 1, 5, 7, 8, 4, 3, 9, 5, 9, 3, 0, 8,\n",
            "        6, 3, 6, 1, 5, 8, 0, 0]), tensor([3, 8, 2, 9, 0, 6, 5, 2, 3, 6, 7, 4, 8, 8, 2, 6, 3, 6, 7, 3, 4, 7, 4, 3,\n",
            "        7, 1, 3, 5, 2, 3, 7, 9]), tensor([6, 2, 8, 6, 3, 1, 8, 8, 0, 8, 7, 8, 6, 7, 2, 3, 7, 3, 8, 9, 0, 6, 2, 4,\n",
            "        5, 7, 0, 6, 3, 9, 7, 7]), tensor([4, 2, 5, 8, 3, 1, 3, 7, 4, 9, 3, 3, 9, 7, 2, 0, 8, 6, 9, 1, 9, 9, 6, 7,\n",
            "        3, 4, 7, 0, 3, 8, 7, 4]), tensor([3, 8, 9, 4, 2, 0, 8, 9, 4, 5, 6, 4, 3, 7, 9, 4, 5, 8, 4, 0, 9, 7, 2, 9,\n",
            "        2, 1, 2, 7, 5, 4, 0, 7]), tensor([3, 4, 7, 2, 2, 2, 8, 5, 7, 9, 5, 7, 3, 2, 3, 7, 3, 2, 1, 5, 6, 9, 7, 4,\n",
            "        2, 2, 5, 8, 0, 7, 7, 3]), tensor([2, 6, 4, 8, 2, 0, 6, 7, 8, 7, 2, 8, 0, 2, 0, 2, 3, 3, 3, 8, 7, 2, 3, 9,\n",
            "        1, 2, 2, 5, 6, 3, 2, 0]), tensor([2, 6, 0, 7, 2, 1, 8, 0, 8, 7, 9, 4, 1, 2, 5, 7, 7, 3, 2, 5, 7, 0, 4, 7,\n",
            "        0, 2, 0, 7, 6, 7, 3, 9]), tensor([1, 2, 1, 9, 7, 2, 3, 4, 8, 1, 8, 3, 5, 0, 5, 3, 8, 0, 7, 2, 9, 0, 6, 8,\n",
            "        4, 2, 4, 4, 4, 3, 7, 4]), tensor([7, 1, 3, 7, 6, 9, 5, 5, 2, 4, 4, 5, 0, 8, 3, 3, 6, 6, 8, 8, 7, 6, 9, 1,\n",
            "        5, 1, 2, 1, 3, 2, 2, 2]), tensor([4, 5, 7, 5, 9, 2, 0, 5, 7, 0, 5, 4, 5, 3, 3, 4, 0, 7, 1, 5, 6, 9, 6, 1,\n",
            "        7, 3, 3, 6, 0, 7, 1, 8]), tensor([5, 7, 8, 0, 5, 1, 8, 3, 7, 7, 7, 6, 5, 2, 2, 3, 2, 3, 2, 1, 0, 0, 9, 3,\n",
            "        8, 2, 3, 7, 4, 9, 5, 7]), tensor([4, 3, 9, 8, 6, 8, 2, 7, 3, 8, 3, 0, 8, 8, 0, 9, 6, 6, 8, 5, 7, 1, 6, 8,\n",
            "        4, 0, 2, 3, 3, 1, 1, 7]), tensor([6, 2, 6, 5, 9, 8, 7, 7, 3, 4, 7, 9, 2, 0, 1, 3, 1, 4, 8, 3, 8, 0, 5, 5,\n",
            "        6, 7, 6, 8, 2, 3, 6, 2]), tensor([6, 2, 5, 7, 4, 9, 7, 6, 2, 2, 0, 7, 4, 5, 2, 3, 3, 1, 5, 8, 1, 8, 6, 2,\n",
            "        3, 9, 1, 9, 7, 6, 9, 3]), tensor([9, 3, 0, 2, 8, 2, 4, 3, 6, 9, 2, 1, 1, 0, 5, 6, 7, 0, 4, 1, 1, 7, 0, 6,\n",
            "        1, 9, 8, 7, 3, 8, 4, 1]), tensor([6, 6, 8, 0, 3, 0, 2, 3, 5, 9, 5, 8, 9, 3, 3, 7, 8, 9, 4, 1, 3, 7, 0, 7,\n",
            "        0, 6, 7, 6, 0, 2, 9, 6]), tensor([8, 5, 5, 9, 3, 3, 5, 7, 1, 3, 3, 3, 5, 6, 6, 4, 1, 1, 9, 1, 4, 6, 6, 2,\n",
            "        2, 6, 6, 0, 2, 5, 0, 3]), tensor([0, 5, 3, 3, 8, 4, 5, 3, 5, 1, 6, 6, 3, 2, 2, 7, 9, 6, 3, 8, 7, 6, 6, 9,\n",
            "        1, 9, 7, 7, 4, 2, 6, 7]), tensor([5, 3, 1, 5, 7, 7, 8, 2, 8, 3, 7, 6, 6, 8, 9, 9, 0, 2, 7, 3, 1, 6, 8, 2,\n",
            "        4, 4, 4, 7, 1, 8, 2, 3]), tensor([3, 4, 6, 3, 7, 8, 0, 3, 8, 3, 9, 2, 1, 5, 6, 5, 6, 6, 4, 2, 5, 9, 3, 6,\n",
            "        4, 7, 8, 5, 9, 5, 0, 0]), tensor([6, 9, 7, 2, 9, 2, 8, 2, 8, 6, 1, 6, 3, 9, 4, 0, 3, 8, 2, 6, 8, 2, 7, 2,\n",
            "        5, 6, 3, 8, 8, 7, 0, 2]), tensor([1, 1, 8, 7, 3, 2, 0, 5, 4, 3, 8, 8, 8, 5, 2, 6, 9, 2, 0, 3, 0, 2, 6, 8,\n",
            "        8, 5, 9, 6, 7, 3, 7, 0]), tensor([3, 3, 0, 2, 0, 9, 9, 7, 3, 0, 4, 2, 4, 6, 6, 5, 3, 6, 9, 8, 5, 8, 1, 4,\n",
            "        1, 4, 8, 7, 2, 6, 2, 3]), tensor([7, 6, 3, 5, 2, 7, 3, 7, 1, 2, 7, 8, 7, 3, 8, 8, 7, 5, 8, 6, 4, 0, 8, 3,\n",
            "        0, 4, 9, 6, 1, 0, 5, 1]), tensor([2, 0, 9, 2, 6, 3, 6, 7, 2, 6, 4, 0, 8, 5, 1, 8, 3, 4, 4, 5, 0, 0, 9, 8,\n",
            "        7, 4, 2, 2, 0, 9, 3, 5]), tensor([0, 9, 9, 0, 4, 3, 7, 3, 9, 4, 5, 2, 4, 9, 5, 7, 9, 4, 2, 8, 3, 1, 7, 8,\n",
            "        8, 6, 8, 0, 5, 5, 7, 3]), tensor([7, 6, 2, 1, 5, 1, 5, 0, 3, 2, 3, 2, 7, 3, 9, 0, 5, 4, 0, 6, 9, 7, 2, 2,\n",
            "        3, 8, 5, 8, 3, 6, 4, 1]), tensor([2, 9, 5, 8, 9, 0, 3, 2, 9, 5, 9, 0, 1, 0, 8, 2, 1, 4, 6, 9, 9, 8, 7, 7,\n",
            "        4, 3, 0, 9, 7, 1, 9, 0]), tensor([2, 3, 7, 3, 1, 4, 6, 8, 3, 4, 3, 3, 8, 3, 7, 1, 6, 3, 8, 4, 7, 9, 6, 6,\n",
            "        3, 0, 4, 5, 7, 0, 7, 0]), tensor([5, 0, 2, 3, 3, 3, 0, 3, 4, 4, 4, 3, 6, 9, 9, 6, 7, 4, 0, 2, 2, 1, 9, 5,\n",
            "        7, 9, 0, 5, 8, 2, 7, 3]), tensor([9, 5, 2, 8, 9, 5, 8, 0, 0, 3, 0, 6, 3, 7, 8, 0, 1, 2, 2, 6, 1, 1, 6, 2,\n",
            "        2, 5, 4, 3, 9, 3, 6, 2]), tensor([3, 7, 6, 9, 2, 1, 6, 7, 5, 5, 9, 2, 0, 9, 7, 9, 7, 4, 1, 8, 3, 3, 8, 0,\n",
            "        8, 7, 6, 7, 7, 9, 6, 4]), tensor([3, 3, 7, 6, 3, 5, 2, 0, 5, 8, 6, 7, 6, 3, 6, 5, 2, 2, 1, 4, 1, 8, 7, 9,\n",
            "        9, 7, 3, 2, 2, 2, 7, 2]), tensor([3, 9, 6, 0, 9, 5, 1, 0, 7, 0, 7, 4, 3, 5, 7, 2, 7, 6, 8, 7, 7, 4, 9, 9,\n",
            "        4, 3, 8, 0, 2, 8, 5, 0]), tensor([1, 9, 3, 7, 3, 0, 3, 4, 4, 4, 5, 7, 2, 3, 1, 7, 7, 7, 0, 3, 4, 8, 5, 2,\n",
            "        5, 3, 7, 8, 7, 7, 0, 8]), tensor([5, 3, 6, 7, 5, 2, 7, 7, 9, 7, 1, 0, 0, 8, 6, 3, 2, 3, 4, 5, 5, 6, 5, 3,\n",
            "        3, 4, 5, 3, 7, 3, 8, 7]), tensor([1, 6, 2, 8, 4, 7, 3, 7, 6, 8, 6, 3, 8, 4, 6, 0, 0, 8, 7, 3, 3, 0, 5, 6,\n",
            "        1, 5, 0, 9, 9, 3, 3, 0]), tensor([6, 1, 2, 0, 5, 5, 2, 2, 0, 9, 2, 6, 8, 6, 8, 3, 7, 7, 3, 3, 9, 5, 7, 3,\n",
            "        0, 5, 4, 5, 6, 7, 2, 7]), tensor([5, 5, 8, 8, 4, 9, 5, 2, 3, 6, 3, 0, 2, 7, 6, 4, 3, 5, 2, 1, 5, 7, 9, 7,\n",
            "        3, 9, 8, 8, 5, 1, 8, 3]), tensor([3, 0, 4, 8, 0, 5, 6, 9, 8, 8, 4, 3, 4, 1, 7, 5, 1, 2, 6, 7, 0, 3, 2, 8,\n",
            "        7, 8, 5, 5, 1, 1, 3, 8]), tensor([7, 5, 9, 3, 0, 6, 3, 6, 4, 6, 7, 1, 6, 0, 1, 5, 3, 4, 9, 2, 4, 2, 2, 6,\n",
            "        7, 9, 6, 7, 3, 2, 0, 8]), tensor([3, 3, 5, 6, 0, 8, 3, 0, 3, 0, 1, 8, 4, 3, 2, 9, 7, 4, 3, 9, 6, 1, 6, 4,\n",
            "        4, 7, 6, 6, 7, 3, 0, 6]), tensor([7, 2, 2, 3, 6, 4, 2, 6, 3, 8, 8, 1, 7, 5, 2, 8, 7, 7, 9, 9, 9, 2, 6, 8,\n",
            "        4, 6, 8, 8, 8, 0, 5, 3]), tensor([3, 6, 6, 6, 9, 7, 2, 3, 5, 6, 3, 1, 0, 8, 9, 5, 7, 3, 3, 2, 4, 3, 3, 8,\n",
            "        1, 8, 2, 2, 6, 9, 8, 5]), tensor([1, 2, 2, 0, 7, 6, 5, 5, 0, 7, 3, 6, 5, 8, 5, 7, 4, 9, 4, 3, 3, 2, 5, 0,\n",
            "        8, 6, 4, 2, 3, 0, 0, 6]), tensor([3, 0, 5, 9, 4, 7, 1, 5, 6, 0, 6, 1, 7, 7, 4, 0, 4, 5, 2, 9, 2, 9, 8, 8,\n",
            "        7, 6, 2, 0, 9, 3, 6, 7]), tensor([6, 2, 7, 0, 2, 1, 0, 5, 7, 3, 5, 9, 2, 3, 4, 8, 5, 8, 1, 9, 2, 7, 6, 7,\n",
            "        3, 6, 2, 5, 2, 8, 8, 8]), tensor([7, 2, 0, 5, 1, 5, 9, 6, 0, 9, 5, 8, 5, 7, 3, 9, 8, 3, 2, 0, 5, 7, 5, 1,\n",
            "        1, 5, 4, 3, 8, 5, 8, 2]), tensor([9, 6, 3, 3, 4, 6, 2, 4, 1, 1, 4, 7, 8, 5, 0, 2, 8, 8, 8, 8, 7, 7, 1, 2,\n",
            "        6, 2, 1, 6, 6, 2, 5, 8]), tensor([2, 4, 8, 3, 1, 7, 8, 4, 4, 0, 8, 6, 8, 0, 3, 2, 5, 8, 7, 5, 7, 6, 1, 3,\n",
            "        9, 7, 8, 6, 1, 9, 6, 3]), tensor([6, 9, 4, 0, 4, 9, 7, 2, 2, 2, 0, 5, 6, 6, 3, 7, 8, 3, 2, 6, 1, 3, 9, 9,\n",
            "        6, 5, 3, 6, 8, 7, 8, 6]), tensor([6, 1, 2, 3, 7, 2, 9, 0, 4, 8, 2, 3, 6, 9, 5, 5, 8, 4, 0, 6, 1, 0, 8, 9,\n",
            "        6, 2, 2, 3, 3, 0, 7, 1]), tensor([8, 8, 5, 3, 3, 7, 7, 3, 0, 3, 4, 1, 9, 0, 2, 1, 3, 0, 7, 3, 7, 3, 9, 0,\n",
            "        1, 8, 9, 2, 2, 6, 0, 9]), tensor([1, 6, 1, 2, 7, 8, 0, 5, 6, 8, 2, 9, 5, 3, 5, 9, 1, 8, 5, 3, 1, 2, 4, 3,\n",
            "        7, 3, 7, 4, 8, 0, 7, 1]), tensor([2, 3, 9, 8, 3, 8, 7, 7, 5, 7, 0, 5, 2, 5, 5, 6, 1, 5, 8, 6, 3, 7, 2, 9,\n",
            "        5, 4, 5, 3, 2, 3, 2, 3]), tensor([9, 6, 0, 7, 0, 0, 7, 5, 2, 6, 9, 9, 1, 2, 7, 7, 7, 2, 5, 1, 4, 6, 6, 3,\n",
            "        8, 7, 8, 2, 1, 0, 8, 3]), tensor([9, 8, 8, 7, 8, 3, 3, 0, 7, 6, 8, 6, 9, 9, 4, 7, 7, 2, 2, 1, 5, 3, 4, 3,\n",
            "        5, 5, 6, 8, 2, 7, 8, 9]), tensor([4, 2, 1, 7, 4, 6, 6, 7, 4, 3, 6, 0, 7, 7, 8, 0, 9, 1, 2, 6, 2, 9, 7, 1,\n",
            "        5, 7, 3, 3, 1, 4, 3, 5]), tensor([3, 3, 9, 4, 1, 6, 6, 2, 7, 5, 4, 6, 7, 9, 8, 3, 8, 1, 2, 2, 5, 5, 6, 1,\n",
            "        2, 6, 6, 1, 2, 0, 7, 6]), tensor([8, 8, 2, 8, 2, 5, 0, 6, 1, 7, 9, 7, 3, 5, 4, 6, 4, 8, 7, 3, 6, 8, 9, 6,\n",
            "        2, 4, 8, 2, 8, 0, 1, 5]), tensor([3, 8, 1, 7, 2, 9, 3, 7, 9, 5, 1, 8, 3, 0, 9, 6, 3, 6, 4, 2, 7, 6, 6, 9,\n",
            "        8, 8, 1, 5, 7, 7, 0, 7]), tensor([5, 4, 4, 6, 7, 8, 7, 3, 7, 0, 6, 5, 5, 2, 6, 9, 2, 6, 3, 2, 0, 4, 7, 2,\n",
            "        2, 2, 3, 1, 9, 3, 8, 3]), tensor([9, 7, 3, 7, 1, 3, 3, 8, 8, 6, 0, 6, 4, 1, 3, 2, 9, 0, 2, 2, 1, 3, 2, 7,\n",
            "        3, 1, 8, 8, 7, 3, 6, 5]), tensor([0, 4, 6, 2, 2, 5, 2, 3, 8, 2, 0, 7, 3, 8, 8, 9, 5, 0, 0, 8, 1, 2, 9, 0,\n",
            "        3, 3, 1, 6, 7, 8, 3, 6]), tensor([9, 6, 2, 8, 3, 8, 4, 9, 4, 7, 7, 3, 3, 2, 6, 5, 7, 3, 7, 6, 6, 6, 9, 3,\n",
            "        0, 5, 4, 1, 2, 1, 8, 1]), tensor([9, 4, 8, 7, 9, 3, 3, 7, 0, 0, 6, 1, 6, 6, 6, 4, 3, 2, 7, 3, 6, 3, 4, 0,\n",
            "        0, 1, 3, 8, 6, 5, 7, 9]), tensor([2, 2, 3, 7, 5, 3, 2, 7, 7, 5, 8, 0, 9, 1, 2, 1, 4, 5, 1, 2, 5, 3, 3, 0,\n",
            "        7, 1, 2, 7, 9, 3, 7, 6]), tensor([4, 3, 6, 7, 2, 7, 3, 3, 7, 8, 8, 7, 6, 3, 2, 0, 9, 7, 7, 9, 1, 2, 6, 4,\n",
            "        7, 4, 3, 3, 1, 7, 5, 7]), tensor([6, 5, 2, 6, 3, 1, 4, 7, 5, 3, 2, 7, 8, 4, 7, 4, 6, 8, 3, 6, 1, 7, 9, 2,\n",
            "        9, 1, 6, 6, 5, 1, 0, 6]), tensor([3, 7, 6, 1, 8, 6, 5, 7, 5, 8, 1, 0, 9, 2, 3, 6, 3, 3, 4, 7, 3, 0, 7, 5,\n",
            "        6, 5, 5, 4, 0, 6, 7, 2]), tensor([3, 8, 3, 8, 1, 1, 2, 6, 8, 1, 0, 8, 1, 8, 5, 3, 2, 7, 0, 2, 4, 9, 4, 2,\n",
            "        3, 9, 5, 0, 9, 9, 6, 7]), tensor([3, 2, 3, 3, 9, 3, 7, 7, 8, 1, 0, 0, 6, 5, 7, 9, 4, 7, 6, 7, 0, 6, 2, 9,\n",
            "        7, 7, 7, 5, 0, 1, 6, 3]), tensor([4, 6, 2, 0, 5, 8, 7, 2, 4, 2, 8, 5, 7, 1, 4, 7, 9, 9, 2, 1, 5, 3, 1, 3,\n",
            "        4, 7, 9, 8, 3, 4, 8, 5]), tensor([2, 4, 3, 6, 8, 0, 9, 0, 6, 9, 0, 1, 6, 8, 1, 8, 2, 3, 8, 1, 7, 3, 9, 3,\n",
            "        8, 3, 5, 4, 1, 0, 8, 6]), tensor([6, 4, 8, 2, 2, 8, 7, 0, 2, 3, 9, 8, 6, 1, 0, 0, 6, 8, 3, 4, 7, 7, 5, 9,\n",
            "        2, 5, 3, 6, 9, 9, 4, 8]), tensor([7, 6, 9, 3, 3, 0, 2, 8, 3, 1, 9, 2, 3, 5, 7, 0, 8, 7, 0, 6, 6, 4, 1, 3,\n",
            "        7, 8, 8, 5, 0, 2, 6, 0]), tensor([5, 2, 7, 3, 8, 3, 2, 4, 8, 4, 1, 5, 0, 3, 3, 1, 7, 2, 8, 7, 8, 4, 3, 4,\n",
            "        2, 5, 4, 9, 0, 7, 1, 1]), tensor([7, 9, 6, 1, 8, 7, 7, 6, 6, 3, 3, 6, 3, 0, 3, 9, 9, 8, 4, 9, 6, 2, 5, 4,\n",
            "        7, 8, 6, 8, 6, 3, 9, 3]), tensor([7, 0, 3, 3, 5, 8, 4, 3, 4, 6, 9, 8, 8, 3, 4, 0, 3, 3, 7, 4, 2, 8, 1, 5,\n",
            "        2, 8, 9, 3, 6, 6, 0, 8]), tensor([7, 0, 5, 0, 6, 3, 1, 3, 0, 5, 5, 4, 3, 7, 0, 6, 2, 9, 6, 7, 6, 5, 6, 8,\n",
            "        2, 1, 3, 3, 6, 5, 5, 3]), tensor([5, 0, 2, 0, 7, 4, 6, 8, 3, 1, 8, 2, 3, 8, 9, 4, 2, 2, 8, 3, 8, 2, 7, 7,\n",
            "        0, 3, 6, 8, 1, 5, 9, 2]), tensor([2, 8, 9, 6, 1, 0, 5, 8, 4, 2, 8, 2, 6, 0, 7, 6, 7, 3, 7, 4, 8, 6, 8, 3,\n",
            "        9, 9, 0, 6, 8, 6, 3, 6]), tensor([4, 7, 2, 5, 6, 5, 6, 3, 1, 7, 8, 0, 4, 7, 3, 3, 8, 3, 0, 9, 2, 8, 5, 4,\n",
            "        9, 6, 3, 4, 6, 0, 3, 1]), tensor([7, 3, 8, 2, 1, 9, 5, 8, 4, 8, 2, 3, 7, 3, 6, 4, 9, 3, 6, 2, 9, 8, 0, 5,\n",
            "        7, 4, 4, 5, 2, 3, 2, 7]), tensor([2, 4, 2, 7, 3, 2, 3, 3, 1, 7, 4, 0, 3, 9, 7, 8, 6, 3, 3, 7, 2, 6, 3, 5,\n",
            "        2, 8, 9, 0, 9, 7, 5, 7]), tensor([7, 9, 3, 6, 8, 4, 3, 9, 3, 1, 0, 2, 5, 2, 8, 7, 9, 7, 7, 7, 9, 2, 6, 0,\n",
            "        6, 7, 6, 1, 8, 0, 3, 8]), tensor([5, 6, 5, 6, 9, 3, 1, 2, 6, 8, 9, 7, 7, 5, 8, 6, 3, 4, 0, 1, 8, 6, 3, 4,\n",
            "        7, 9, 3, 7, 5, 5, 6, 9]), tensor([1, 4, 1, 2, 7, 4, 6, 9, 3, 4, 6, 1, 7, 2, 1, 2, 5, 9, 0, 0, 5, 5, 3, 8,\n",
            "        8, 2, 8, 5, 7, 0, 7, 0]), tensor([9, 6, 5, 2, 9, 4, 8, 5, 2, 0, 1, 6, 2, 6, 7, 3, 1, 7, 7, 8, 5, 7, 0, 6,\n",
            "        4, 2, 1, 3, 8, 3, 3, 4]), tensor([7, 5, 9, 1, 0, 4, 3, 7, 6, 6, 3, 1, 8, 4, 7, 6, 5, 7, 3, 1, 7, 1, 9, 2,\n",
            "        9, 6, 2, 6, 1, 8, 3, 9]), tensor([8, 4, 0, 3, 8, 4, 5, 1, 2, 4, 6, 2, 2, 8, 5, 7, 7, 7, 3, 5, 5, 7, 9, 7,\n",
            "        8, 2, 8, 2, 3, 3, 3, 4]), tensor([8, 9, 4, 0, 7, 3, 6, 8, 3, 2, 6, 1, 0, 5, 4, 9, 7, 2, 8, 7, 3, 7, 2, 3,\n",
            "        2, 1, 7, 4, 8, 5, 5, 0]), tensor([2, 0, 0, 1, 6, 6, 5, 0, 1, 5, 5, 3, 5, 1, 7, 8, 7, 1, 6, 7, 0, 9, 3, 3,\n",
            "        9, 0, 4, 6, 6, 5, 9, 9]), tensor([2, 2, 7, 3, 8, 1, 4, 2, 3, 7, 8, 4, 0, 4, 5, 4, 2, 9, 3, 5, 8, 0, 1, 9,\n",
            "        6, 7, 3, 7, 3, 4, 6, 0]), tensor([2, 1, 3, 3, 6, 7, 0, 5, 9, 8, 5, 3, 7, 9, 9, 6, 8, 8, 3, 1, 4, 4, 0, 2,\n",
            "        8, 3, 2, 3, 3, 3, 2, 7]), tensor([8, 7, 0, 4, 3, 4, 4, 8, 7, 9, 2, 8, 2, 6, 5, 0, 1, 7, 6, 7, 6, 0, 0, 3,\n",
            "        5, 3, 1, 2, 3, 6, 9, 8]), tensor([3, 0, 1, 6, 8, 5, 6, 6, 4, 0, 4, 9, 3, 8, 7, 4, 8, 6, 2, 8, 0, 4, 4, 3,\n",
            "        8, 7, 7, 2, 8, 7, 2, 9]), tensor([5, 9, 6, 1, 0, 4, 3, 7, 7, 1, 7, 3, 5, 8, 7, 2, 5, 3, 5, 2, 0, 6, 0, 1,\n",
            "        2, 4, 3, 8, 0, 3, 2, 8]), tensor([3, 5, 4, 6, 3, 6, 5, 3, 8, 3, 1, 6, 7, 8, 4, 2, 0, 3, 7, 8, 1, 6, 9, 6,\n",
            "        2, 8, 1, 4, 8, 8, 3, 6]), tensor([8, 8, 7, 8, 4, 7, 7, 6, 0, 8, 1, 7, 7, 0, 3, 1, 6, 5, 8, 3, 8, 9, 2, 0,\n",
            "        9, 5, 3, 7, 2, 1, 8, 2]), tensor([0, 3, 2, 0, 7, 1, 3, 4, 4, 5, 7, 0, 2, 7, 3, 3, 7, 8, 8, 2, 5, 6, 9, 7,\n",
            "        0, 2, 9, 3, 0, 5, 5, 0]), tensor([9, 1, 2, 3, 5, 2, 4, 1, 6, 0, 3, 3, 6, 3, 6, 8, 6, 7, 5, 5, 7, 0, 7, 9,\n",
            "        4, 3, 2, 9, 2, 7, 1, 8]), tensor([8, 8, 5, 8, 3, 8, 9, 3, 2, 0, 2, 1, 8, 4, 4, 2, 6, 7, 7, 3, 1, 5, 1, 3,\n",
            "        5, 6, 2, 2, 3, 7, 3, 0]), tensor([8, 2, 9, 3, 9, 6, 0, 4, 1, 2, 6, 2, 9, 1, 3, 9, 7, 3, 2, 6, 2, 7, 7, 8,\n",
            "        5, 2, 9, 0, 0, 0, 8, 1]), tensor([3, 0, 7, 5, 8, 4, 5, 6, 8, 9, 1, 9, 3, 0, 3, 7])]\n"
          ]
        },
        {
          "output_type": "execute_result",
          "data": {
            "text/plain": [
              "tensor([9, 2, 1, 1, 6, 1, 4, 6, 5, 7])"
            ]
          },
          "metadata": {},
          "execution_count": 213
        }
      ]
    },
    {
      "cell_type": "code",
      "source": [
        "len(y_preds)"
      ],
      "metadata": {
        "colab": {
          "base_uri": "https://localhost:8080/"
        },
        "id": "pdmmJ5z8apjG",
        "outputId": "ce794343-3595-496e-e135-360fb0daa945"
      },
      "execution_count": 214,
      "outputs": [
        {
          "output_type": "execute_result",
          "data": {
            "text/plain": [
              "313"
            ]
          },
          "metadata": {},
          "execution_count": 214
        }
      ]
    },
    {
      "cell_type": "code",
      "source": [
        "try:\n",
        "  import torchmetrics, mlxtend\n",
        "\n",
        "  print(f\"mlxtend version : {mlxtend.__version__}\")\n",
        "\n",
        "  assert int(mlxtend.__version__.split('.')[1]) >= 19, \"mlxtend version should be 0.19.0 or higher\"\n",
        "except : \n",
        "  !pip install torchmetrics -U mlxtend\n",
        "  import torchmetrics, mlxtend\n",
        "\n",
        "  print(f\"mlxtend version : {mlxtend.__version__}\")\n",
        "\n",
        "  "
      ],
      "metadata": {
        "colab": {
          "base_uri": "https://localhost:8080/"
        },
        "id": "Ou0nYJd8a6KL",
        "outputId": "cb27ec8f-b2b0-4935-efae-94c565375297"
      },
      "execution_count": 218,
      "outputs": [
        {
          "output_type": "stream",
          "name": "stdout",
          "text": [
            "Looking in indexes: https://pypi.org/simple, https://us-python.pkg.dev/colab-wheels/public/simple/\n",
            "Collecting torchmetrics\n",
            "  Downloading torchmetrics-0.11.0-py3-none-any.whl (512 kB)\n",
            "\u001b[2K     \u001b[90m━━━━━━━━━━━━━━━━━━━━━━━━━━━━━━━━━━━━━━━\u001b[0m \u001b[32m512.4/512.4 KB\u001b[0m \u001b[31m7.5 MB/s\u001b[0m eta \u001b[36m0:00:00\u001b[0m\n",
            "\u001b[?25hRequirement already satisfied: mlxtend in /usr/local/lib/python3.8/dist-packages (0.14.0)\n",
            "Collecting mlxtend\n",
            "  Downloading mlxtend-0.21.0-py2.py3-none-any.whl (1.3 MB)\n",
            "\u001b[2K     \u001b[90m━━━━━━━━━━━━━━━━━━━━━━━━━━━━━━━━━━━━━━━━\u001b[0m \u001b[32m1.3/1.3 MB\u001b[0m \u001b[31m31.8 MB/s\u001b[0m eta \u001b[36m0:00:00\u001b[0m\n",
            "\u001b[?25hRequirement already satisfied: typing-extensions in /usr/local/lib/python3.8/dist-packages (from torchmetrics) (4.4.0)\n",
            "Requirement already satisfied: numpy>=1.17.2 in /usr/local/lib/python3.8/dist-packages (from torchmetrics) (1.21.6)\n",
            "Requirement already satisfied: torch>=1.8.1 in /usr/local/lib/python3.8/dist-packages (from torchmetrics) (1.13.1+cu116)\n",
            "Requirement already satisfied: packaging in /usr/local/lib/python3.8/dist-packages (from torchmetrics) (21.3)\n",
            "Requirement already satisfied: scikit-learn>=1.0.2 in /usr/local/lib/python3.8/dist-packages (from mlxtend) (1.0.2)\n",
            "Requirement already satisfied: scipy>=1.2.1 in /usr/local/lib/python3.8/dist-packages (from mlxtend) (1.7.3)\n",
            "Requirement already satisfied: pandas>=0.24.2 in /usr/local/lib/python3.8/dist-packages (from mlxtend) (1.3.5)\n",
            "Requirement already satisfied: setuptools in /usr/local/lib/python3.8/dist-packages (from mlxtend) (57.4.0)\n",
            "Requirement already satisfied: joblib>=0.13.2 in /usr/local/lib/python3.8/dist-packages (from mlxtend) (1.2.0)\n",
            "Requirement already satisfied: matplotlib>=3.0.0 in /usr/local/lib/python3.8/dist-packages (from mlxtend) (3.2.2)\n",
            "Requirement already satisfied: python-dateutil>=2.1 in /usr/local/lib/python3.8/dist-packages (from matplotlib>=3.0.0->mlxtend) (2.8.2)\n",
            "Requirement already satisfied: kiwisolver>=1.0.1 in /usr/local/lib/python3.8/dist-packages (from matplotlib>=3.0.0->mlxtend) (1.4.4)\n",
            "Requirement already satisfied: cycler>=0.10 in /usr/local/lib/python3.8/dist-packages (from matplotlib>=3.0.0->mlxtend) (0.11.0)\n",
            "Requirement already satisfied: pyparsing!=2.0.4,!=2.1.2,!=2.1.6,>=2.0.1 in /usr/local/lib/python3.8/dist-packages (from matplotlib>=3.0.0->mlxtend) (3.0.9)\n",
            "Requirement already satisfied: pytz>=2017.3 in /usr/local/lib/python3.8/dist-packages (from pandas>=0.24.2->mlxtend) (2022.7)\n",
            "Requirement already satisfied: threadpoolctl>=2.0.0 in /usr/local/lib/python3.8/dist-packages (from scikit-learn>=1.0.2->mlxtend) (3.1.0)\n",
            "Requirement already satisfied: six>=1.5 in /usr/local/lib/python3.8/dist-packages (from python-dateutil>=2.1->matplotlib>=3.0.0->mlxtend) (1.15.0)\n",
            "Installing collected packages: torchmetrics, mlxtend\n",
            "  Attempting uninstall: mlxtend\n",
            "    Found existing installation: mlxtend 0.14.0\n",
            "    Uninstalling mlxtend-0.14.0:\n",
            "      Successfully uninstalled mlxtend-0.14.0\n",
            "Successfully installed mlxtend-0.21.0 torchmetrics-0.11.0\n",
            "mlxtend version : 0.21.0\n"
          ]
        }
      ]
    },
    {
      "cell_type": "code",
      "source": [
        "from torchmetrics import ConfusionMatrix\n",
        "from mlxtend.plotting import plot_confusion_matrix\n",
        "\n",
        "#2. Setup confusion instance and compare predictions to targets\n",
        "confmat = ConfusionMatrix(num_classes=len(class_names),task=\"multiclass\")\n",
        "confmat_tensor = confmat(preds = y_pred_tensor,\n",
        "                         target = test_data.targets)\n",
        "\n",
        "#3. plot the confusin matrix\n",
        "fig, ax = plot_confusion_matrix(\n",
        "    conf_mat = confmat_tensor.numpy(),\n",
        "    class_names = class_names,\n",
        "    figsize=(10,7)\n",
        ")"
      ],
      "metadata": {
        "colab": {
          "base_uri": "https://localhost:8080/",
          "height": 477
        },
        "id": "VICKZ4uVa97h",
        "outputId": "f53f7975-af57-418c-8f26-2b6333456857"
      },
      "execution_count": 223,
      "outputs": [
        {
          "output_type": "display_data",
          "data": {
            "text/plain": [
              "<Figure size 720x504 with 1 Axes>"
            ],
            "image/png": "[encoded data removed]"
          },
          "metadata": {
            "needs_background": "light"
          }
        }
      ]
    },
    {
      "cell_type": "markdown",
      "source": [
        "## 11. Save and load best performing model"
      ],
      "metadata": {
        "id": "Q5hrUd5seIHG"
      }
    },
    {
      "cell_type": "code",
      "source": [
        "from pathlib import Path\n",
        "#Create model directory path\n",
        "MODEL_PATH = Path(\"models\")\n",
        "MODEL_PATH.mkdir(parents = True, exist_ok=True)\n",
        "\n",
        "#Create model save\n",
        "MODEL_NAME = \"py_torch_computer_vision model_2.pth\"\n",
        "MODEL_SAVE_PATH = MODEL_PATH/ MODEL_NAME\n",
        "\n",
        "# Save the model state dict\n",
        "\n",
        "print(f\"Saving model to : {MODEL_SAVE_PATH}\")\n",
        "\n",
        "torch.save(obj=model_2.state_dict(), f = MODEL_SAVE_PATH)\n",
        "\n",
        "\n"
      ],
      "metadata": {
        "colab": {
          "base_uri": "https://localhost:8080/"
        },
        "id": "ZVn5VcA0c-22",
        "outputId": "b5500fa9-0ffa-41d4-87ae-fffbf380d9f0"
      },
      "execution_count": 230,
      "outputs": [
        {
          "output_type": "stream",
          "name": "stdout",
          "text": [
            "Saving model to : models/py_torch_computer_vision model_2.pth\n"
          ]
        }
      ]
    },
    {
      "cell_type": "code",
      "source": [
        "# Create a new instance\n",
        "torch.manual_seed(42)\n",
        "\n",
        "loaded_model_2 = FashionMNISTModelV2(input_shape=1,\n",
        "                                     hidden_units = 10,\n",
        "                                     output_shape = len(class_names))\n",
        "\n",
        "# Loaded in the save state dict()\n",
        "loaded_model_2.load_state_dict(torch.load(f=MODEL_SAVE_PATH))\n",
        "\n",
        "loaded_model_2.to(device)"
      ],
      "metadata": {
        "colab": {
          "base_uri": "https://localhost:8080/"
        },
        "id": "guGlq4Rbe1EE",
        "outputId": "a95fd260-f2ed-4a47-cb4f-6b944b461abb"
      },
      "execution_count": 233,
      "outputs": [
        {
          "output_type": "execute_result",
          "data": {
            "text/plain": [
              "FashionMNISTModelV2(\n",
              "  (Conv_block_1): Sequential(\n",
              "    (0): Conv2d(1, 10, kernel_size=(3, 3), stride=(1, 1), padding=(1, 1))\n",
              "    (1): ReLU()\n",
              "    (2): Conv2d(10, 10, kernel_size=(3, 3), stride=(1, 1), padding=(1, 1))\n",
              "    (3): ReLU()\n",
              "    (4): MaxPool2d(kernel_size=2, stride=2, padding=0, dilation=1, ceil_mode=False)\n",
              "  )\n",
              "  (conv_block_2): Sequential(\n",
              "    (0): Conv2d(10, 10, kernel_size=(3, 3), stride=(1, 1), padding=(1, 1))\n",
              "    (1): ReLU()\n",
              "    (2): Conv2d(10, 10, kernel_size=(3, 3), stride=(1, 1), padding=(1, 1))\n",
              "    (3): ReLU()\n",
              "    (4): MaxPool2d(kernel_size=2, stride=2, padding=0, dilation=1, ceil_mode=False)\n",
              "  )\n",
              "  (classifier): Sequential(\n",
              "    (0): Flatten(start_dim=1, end_dim=-1)\n",
              "    (1): Linear(in_features=490, out_features=10, bias=True)\n",
              "  )\n",
              ")"
            ]
          },
          "metadata": {},
          "execution_count": 233
        }
      ]
    },
    {
      "cell_type": "code",
      "source": [
        "model_2_results"
      ],
      "metadata": {
        "id": "rIGWfv9kg3tI",
        "outputId": "7830d8f5-ab73-4d69-c6e9-6d36fe41d3b4",
        "colab": {
          "base_uri": "https://localhost:8080/"
        }
      },
      "execution_count": 237,
      "outputs": [
        {
          "output_type": "execute_result",
          "data": {
            "text/plain": [
              "{'model_name': 'FashionMNISTModelV2',\n",
              " 'model_loss': 0.5057083964347839,\n",
              " 'model_accuracy': 80.23162939297124}"
            ]
          },
          "metadata": {},
          "execution_count": 237
        }
      ]
    },
    {
      "cell_type": "code",
      "source": [
        "#Evaluate loaded model\n",
        "torch.manual_seed(42)\n",
        "\n",
        "loaded_model_2_results = eval_model(\n",
        "    model = loaded_model_2,\n",
        "    dataloader = test_dataloader,\n",
        "    loss_fn = loss_fn,\n",
        "    accuracy_fn = accuracy_fn\n",
        ")\n",
        "\n",
        "loaded_model_2_results"
      ],
      "metadata": {
        "id": "onevWeXigXFQ",
        "outputId": "c2e29487-d35b-4039-8e19-8032787f12dd",
        "colab": {
          "base_uri": "https://localhost:8080/"
        }
      },
      "execution_count": 236,
      "outputs": [
        {
          "output_type": "execute_result",
          "data": {
            "text/plain": [
              "{'model_name': 'FashionMNISTModelV2',\n",
              " 'model_loss': 0.5057083964347839,\n",
              " 'model_accuracy': 80.23162939297124}"
            ]
          },
          "metadata": {},
          "execution_count": 236
        }
      ]
    },
    {
      "cell_type": "code",
      "source": [
        "# Check if model results are close to each other\n",
        "\n",
        "torch.isclose(torch.tensor(model_2_results[\"model_loss\"]),\n",
        "              torch.tensor(loaded_model_2_results[\"model_loss\"]))"
      ],
      "metadata": {
        "id": "pVpPxCCshRqq",
        "outputId": "00facf67-1e26-439e-c630-fe8961e564fa",
        "colab": {
          "base_uri": "https://localhost:8080/"
        }
      },
      "execution_count": 239,
      "outputs": [
        {
          "output_type": "execute_result",
          "data": {
            "text/plain": [
              "tensor(True)"
            ]
          },
          "metadata": {},
          "execution_count": 239
        }
      ]
    }
  ]
}